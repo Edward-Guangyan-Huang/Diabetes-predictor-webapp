{
 "cells": [
  {
   "cell_type": "markdown",
   "id": "552ba503",
   "metadata": {},
   "source": [
    "# Diabetes Machine Learning Project\n",
    "\n",
    "# 糖尿病确诊风险诊断 机器学习项目"
   ]
  },
  {
   "cell_type": "markdown",
   "id": "cfbe6f14",
   "metadata": {},
   "source": [
    "Introduction:\n",
    "    \n",
    "This project aims at building a machine learning model for predicting whether a patient contracted diabetes base on 17 predictors, which are all health indexes provided by the patient. The data used is from the dataset \"Diabetes Dataset 2019\" uploaded on Kaggle. In the project, I'll adopt multiple machine learning models with different complexity for classification problems, and deploy the model with best performance as a web application.\n",
    "\n",
    "The online web application can be found at the end of this report.\n",
    "\n",
    "The dataset can be found in this page:\n",
    "\n",
    "https://www.kaggle.com/datasets/tigganeha4/diabetes-dataset-2019\n",
    "\n",
    "简介：该项目为设计一款可以快速，有效基于病人17项健康指标，推断病人确诊糖尿病风险的app设计。使用的数据集为Kaggle平台公开数据集“Diabetes Dataset 2019”。该项目使用包括逻辑回归，K近邻，决策树，随机森林的多种机器学习模型，取得可以最大化预测糖尿病风险的模型并通过Heroku平台部署为web应用程序。\n",
    "\n",
    "本项目报告使用Python虚拟开发环境Jupyter Notebook完成，数据分析，可视化由Python第三方包Numpy，Pandas，Seaborn进行，机器学习模型训练使用Python第三方包Sklearn完成。\n",
    "\n",
    "已经部署完成的web应用程序可以在报告结尾访问。\n",
    "\n",
    "原数据集链接：\n",
    "\n",
    "https://www.kaggle.com/datasets/tigganeha4/diabetes-dataset-2019\n"
   ]
  },
  {
   "cell_type": "markdown",
   "id": "ac6b8de2",
   "metadata": {},
   "source": [
    "# Content table:\n",
    "\n",
    "Importing needed packages for Python\n",
    "\n",
    "Data description\n",
    "\n",
    "Data cleaning\n",
    "\n",
    "Dummy variable creation\n",
    "\n",
    "Exploratory data analysis\n",
    "\n",
    "Machine learning model training:\n",
    "\n",
    "    Train-Test split (With interpretation)\n",
    "    \n",
    "    Logistic regression (With interpretation)\n",
    "    \n",
    "    KNN model (With interpretation)\n",
    "    \n",
    "    Decision Tree model:\n",
    "        \n",
    "        Single Tree\n",
    "        \n",
    "        Bagging (Random Forest)\n",
    "       \n",
    "        Boosting (Adaptive Boosting)\n",
    "    \n",
    "Conclusion on model performance\n",
    "\n",
    "Evaluation on testing data\n",
    "\n",
    "Remark\n",
    "\n",
    "The web application: Diabetes contracting risk predictor\n",
    "\n",
    "\n",
    "# 目录：\n",
    "\n",
    "导入Python第三方包\n",
    "\n",
    "数据初步探索\n",
    "\n",
    "数据清理\n",
    "\n",
    "创建虚拟变量\n",
    "\n",
    "EDA（数据探索性分析）\n",
    "\n",
    "机器学习模型训练：\n",
    "\n",
    "    训练集/测试集分割\n",
    "   \n",
    "    逻辑回归\n",
    "   \n",
    "    K近邻模型\n",
    "   \n",
    "    决策树模型：\n",
    "   \n",
    "        单一决策树\n",
    "        \n",
    "        装袋算法（随机森林）\n",
    "        \n",
    "        增强模型 （自适应增强）\n",
    "  \n",
    "模型性能评估\n",
    "\n",
    "最终测试\n",
    "\n",
    "总结\n",
    "\n",
    "web应用程序：糖尿病确诊推断系统 （需要改代理访问）   "
   ]
  },
  {
   "cell_type": "markdown",
   "id": "7c9c04a5",
   "metadata": {},
   "source": [
    "# Importing needed packages for Python\n",
    "\n",
    "# 导入Python第三方包"
   ]
  },
  {
   "cell_type": "code",
   "execution_count": 2,
   "id": "77f44821",
   "metadata": {},
   "outputs": [],
   "source": [
    "import numpy as np\n",
    "import pandas as pd\n",
    "import matplotlib.pyplot as plt\n",
    "import seaborn as sns\n",
    "%matplotlib inline"
   ]
  },
  {
   "cell_type": "code",
   "execution_count": 3,
   "id": "0bc16bfd",
   "metadata": {},
   "outputs": [],
   "source": [
    "diabetes = pd.read_csv('diabetes_dataset__2019.csv')"
   ]
  },
  {
   "cell_type": "code",
   "execution_count": 4,
   "id": "ba1a04ee",
   "metadata": {},
   "outputs": [
    {
     "data": {
      "text/html": [
       "<div>\n",
       "<style scoped>\n",
       "    .dataframe tbody tr th:only-of-type {\n",
       "        vertical-align: middle;\n",
       "    }\n",
       "\n",
       "    .dataframe tbody tr th {\n",
       "        vertical-align: top;\n",
       "    }\n",
       "\n",
       "    .dataframe thead th {\n",
       "        text-align: right;\n",
       "    }\n",
       "</style>\n",
       "<table border=\"1\" class=\"dataframe\">\n",
       "  <thead>\n",
       "    <tr style=\"text-align: right;\">\n",
       "      <th></th>\n",
       "      <th>Age</th>\n",
       "      <th>Gender</th>\n",
       "      <th>Family_Diabetes</th>\n",
       "      <th>highBP</th>\n",
       "      <th>PhysicallyActive</th>\n",
       "      <th>BMI</th>\n",
       "      <th>Smoking</th>\n",
       "      <th>Alcohol</th>\n",
       "      <th>Sleep</th>\n",
       "      <th>SoundSleep</th>\n",
       "      <th>RegularMedicine</th>\n",
       "      <th>JunkFood</th>\n",
       "      <th>Stress</th>\n",
       "      <th>BPLevel</th>\n",
       "      <th>Pregancies</th>\n",
       "      <th>Pdiabetes</th>\n",
       "      <th>UriationFreq</th>\n",
       "      <th>Diabetic</th>\n",
       "    </tr>\n",
       "  </thead>\n",
       "  <tbody>\n",
       "    <tr>\n",
       "      <th>0</th>\n",
       "      <td>50-59</td>\n",
       "      <td>Male</td>\n",
       "      <td>no</td>\n",
       "      <td>yes</td>\n",
       "      <td>one hr or more</td>\n",
       "      <td>39.0</td>\n",
       "      <td>no</td>\n",
       "      <td>no</td>\n",
       "      <td>8</td>\n",
       "      <td>6</td>\n",
       "      <td>no</td>\n",
       "      <td>occasionally</td>\n",
       "      <td>sometimes</td>\n",
       "      <td>high</td>\n",
       "      <td>0.0</td>\n",
       "      <td>0</td>\n",
       "      <td>not much</td>\n",
       "      <td>no</td>\n",
       "    </tr>\n",
       "    <tr>\n",
       "      <th>1</th>\n",
       "      <td>50-59</td>\n",
       "      <td>Male</td>\n",
       "      <td>no</td>\n",
       "      <td>yes</td>\n",
       "      <td>less than half an hr</td>\n",
       "      <td>28.0</td>\n",
       "      <td>no</td>\n",
       "      <td>no</td>\n",
       "      <td>8</td>\n",
       "      <td>6</td>\n",
       "      <td>yes</td>\n",
       "      <td>very often</td>\n",
       "      <td>sometimes</td>\n",
       "      <td>normal</td>\n",
       "      <td>0.0</td>\n",
       "      <td>0</td>\n",
       "      <td>not much</td>\n",
       "      <td>no</td>\n",
       "    </tr>\n",
       "    <tr>\n",
       "      <th>2</th>\n",
       "      <td>40-49</td>\n",
       "      <td>Male</td>\n",
       "      <td>no</td>\n",
       "      <td>no</td>\n",
       "      <td>one hr or more</td>\n",
       "      <td>24.0</td>\n",
       "      <td>no</td>\n",
       "      <td>no</td>\n",
       "      <td>6</td>\n",
       "      <td>6</td>\n",
       "      <td>no</td>\n",
       "      <td>occasionally</td>\n",
       "      <td>sometimes</td>\n",
       "      <td>normal</td>\n",
       "      <td>0.0</td>\n",
       "      <td>0</td>\n",
       "      <td>not much</td>\n",
       "      <td>no</td>\n",
       "    </tr>\n",
       "    <tr>\n",
       "      <th>3</th>\n",
       "      <td>50-59</td>\n",
       "      <td>Male</td>\n",
       "      <td>no</td>\n",
       "      <td>no</td>\n",
       "      <td>one hr or more</td>\n",
       "      <td>23.0</td>\n",
       "      <td>no</td>\n",
       "      <td>no</td>\n",
       "      <td>8</td>\n",
       "      <td>6</td>\n",
       "      <td>no</td>\n",
       "      <td>occasionally</td>\n",
       "      <td>sometimes</td>\n",
       "      <td>normal</td>\n",
       "      <td>0.0</td>\n",
       "      <td>0</td>\n",
       "      <td>not much</td>\n",
       "      <td>no</td>\n",
       "    </tr>\n",
       "    <tr>\n",
       "      <th>4</th>\n",
       "      <td>40-49</td>\n",
       "      <td>Male</td>\n",
       "      <td>no</td>\n",
       "      <td>no</td>\n",
       "      <td>less than half an hr</td>\n",
       "      <td>27.0</td>\n",
       "      <td>no</td>\n",
       "      <td>no</td>\n",
       "      <td>8</td>\n",
       "      <td>8</td>\n",
       "      <td>no</td>\n",
       "      <td>occasionally</td>\n",
       "      <td>sometimes</td>\n",
       "      <td>normal</td>\n",
       "      <td>0.0</td>\n",
       "      <td>0</td>\n",
       "      <td>not much</td>\n",
       "      <td>no</td>\n",
       "    </tr>\n",
       "  </tbody>\n",
       "</table>\n",
       "</div>"
      ],
      "text/plain": [
       "     Age Gender Family_Diabetes highBP      PhysicallyActive   BMI Smoking  \\\n",
       "0  50-59   Male              no    yes        one hr or more  39.0      no   \n",
       "1  50-59   Male              no    yes  less than half an hr  28.0      no   \n",
       "2  40-49   Male              no     no        one hr or more  24.0      no   \n",
       "3  50-59   Male              no     no        one hr or more  23.0      no   \n",
       "4  40-49   Male              no     no  less than half an hr  27.0      no   \n",
       "\n",
       "  Alcohol  Sleep  SoundSleep RegularMedicine      JunkFood     Stress BPLevel  \\\n",
       "0      no      8           6              no  occasionally  sometimes    high   \n",
       "1      no      8           6             yes    very often  sometimes  normal   \n",
       "2      no      6           6              no  occasionally  sometimes  normal   \n",
       "3      no      8           6              no  occasionally  sometimes  normal   \n",
       "4      no      8           8              no  occasionally  sometimes  normal   \n",
       "\n",
       "   Pregancies Pdiabetes UriationFreq Diabetic  \n",
       "0         0.0         0     not much       no  \n",
       "1         0.0         0     not much       no  \n",
       "2         0.0         0     not much       no  \n",
       "3         0.0         0     not much       no  \n",
       "4         0.0         0     not much       no  "
      ]
     },
     "execution_count": 4,
     "metadata": {},
     "output_type": "execute_result"
    }
   ],
   "source": [
    "diabetes.head()"
   ]
  },
  {
   "cell_type": "code",
   "execution_count": 5,
   "id": "cb59a174",
   "metadata": {},
   "outputs": [
    {
     "name": "stdout",
     "output_type": "stream",
     "text": [
      "<class 'pandas.core.frame.DataFrame'>\n",
      "RangeIndex: 952 entries, 0 to 951\n",
      "Data columns (total 18 columns):\n",
      " #   Column            Non-Null Count  Dtype  \n",
      "---  ------            --------------  -----  \n",
      " 0   Age               952 non-null    object \n",
      " 1   Gender            952 non-null    object \n",
      " 2   Family_Diabetes   952 non-null    object \n",
      " 3   highBP            952 non-null    object \n",
      " 4   PhysicallyActive  952 non-null    object \n",
      " 5   BMI               948 non-null    float64\n",
      " 6   Smoking           952 non-null    object \n",
      " 7   Alcohol           952 non-null    object \n",
      " 8   Sleep             952 non-null    int64  \n",
      " 9   SoundSleep        952 non-null    int64  \n",
      " 10  RegularMedicine   952 non-null    object \n",
      " 11  JunkFood          952 non-null    object \n",
      " 12  Stress            952 non-null    object \n",
      " 13  BPLevel           952 non-null    object \n",
      " 14  Pregancies        910 non-null    float64\n",
      " 15  Pdiabetes         951 non-null    object \n",
      " 16  UriationFreq      952 non-null    object \n",
      " 17  Diabetic          951 non-null    object \n",
      "dtypes: float64(2), int64(2), object(14)\n",
      "memory usage: 134.0+ KB\n"
     ]
    }
   ],
   "source": [
    "diabetes.info()"
   ]
  },
  {
   "cell_type": "code",
   "execution_count": 6,
   "id": "9cbb3fc4",
   "metadata": {},
   "outputs": [
    {
     "data": {
      "text/html": [
       "<div>\n",
       "<style scoped>\n",
       "    .dataframe tbody tr th:only-of-type {\n",
       "        vertical-align: middle;\n",
       "    }\n",
       "\n",
       "    .dataframe tbody tr th {\n",
       "        vertical-align: top;\n",
       "    }\n",
       "\n",
       "    .dataframe thead th {\n",
       "        text-align: right;\n",
       "    }\n",
       "</style>\n",
       "<table border=\"1\" class=\"dataframe\">\n",
       "  <thead>\n",
       "    <tr style=\"text-align: right;\">\n",
       "      <th></th>\n",
       "      <th>BMI</th>\n",
       "      <th>Sleep</th>\n",
       "      <th>SoundSleep</th>\n",
       "      <th>Pregancies</th>\n",
       "    </tr>\n",
       "  </thead>\n",
       "  <tbody>\n",
       "    <tr>\n",
       "      <th>count</th>\n",
       "      <td>948.000000</td>\n",
       "      <td>952.000000</td>\n",
       "      <td>952.000000</td>\n",
       "      <td>910.000000</td>\n",
       "    </tr>\n",
       "    <tr>\n",
       "      <th>mean</th>\n",
       "      <td>25.763713</td>\n",
       "      <td>6.949580</td>\n",
       "      <td>5.495798</td>\n",
       "      <td>0.386813</td>\n",
       "    </tr>\n",
       "    <tr>\n",
       "      <th>std</th>\n",
       "      <td>5.402595</td>\n",
       "      <td>1.273189</td>\n",
       "      <td>1.865618</td>\n",
       "      <td>0.909455</td>\n",
       "    </tr>\n",
       "    <tr>\n",
       "      <th>min</th>\n",
       "      <td>15.000000</td>\n",
       "      <td>4.000000</td>\n",
       "      <td>0.000000</td>\n",
       "      <td>0.000000</td>\n",
       "    </tr>\n",
       "    <tr>\n",
       "      <th>25%</th>\n",
       "      <td>22.000000</td>\n",
       "      <td>6.000000</td>\n",
       "      <td>4.000000</td>\n",
       "      <td>0.000000</td>\n",
       "    </tr>\n",
       "    <tr>\n",
       "      <th>50%</th>\n",
       "      <td>25.000000</td>\n",
       "      <td>7.000000</td>\n",
       "      <td>6.000000</td>\n",
       "      <td>0.000000</td>\n",
       "    </tr>\n",
       "    <tr>\n",
       "      <th>75%</th>\n",
       "      <td>29.000000</td>\n",
       "      <td>8.000000</td>\n",
       "      <td>7.000000</td>\n",
       "      <td>0.000000</td>\n",
       "    </tr>\n",
       "    <tr>\n",
       "      <th>max</th>\n",
       "      <td>45.000000</td>\n",
       "      <td>11.000000</td>\n",
       "      <td>11.000000</td>\n",
       "      <td>4.000000</td>\n",
       "    </tr>\n",
       "  </tbody>\n",
       "</table>\n",
       "</div>"
      ],
      "text/plain": [
       "              BMI       Sleep  SoundSleep  Pregancies\n",
       "count  948.000000  952.000000  952.000000  910.000000\n",
       "mean    25.763713    6.949580    5.495798    0.386813\n",
       "std      5.402595    1.273189    1.865618    0.909455\n",
       "min     15.000000    4.000000    0.000000    0.000000\n",
       "25%     22.000000    6.000000    4.000000    0.000000\n",
       "50%     25.000000    7.000000    6.000000    0.000000\n",
       "75%     29.000000    8.000000    7.000000    0.000000\n",
       "max     45.000000   11.000000   11.000000    4.000000"
      ]
     },
     "execution_count": 6,
     "metadata": {},
     "output_type": "execute_result"
    }
   ],
   "source": [
    "diabetes.describe()"
   ]
  },
  {
   "cell_type": "markdown",
   "id": "aaf69875",
   "metadata": {},
   "source": [
    "# Data description\n",
    "\n",
    "# 数据初步探索"
   ]
  },
  {
   "cell_type": "markdown",
   "id": "f35236b0",
   "metadata": {},
   "source": [
    "This dataset includes 17 attributes and the object of prediction: diabetic. Among all 17 predictors, four of them are quantitative: BMI, Sleep, SoundSleep and Pregnancies. The rest 13 are all qualitative, a closer look toward the data for potential problems is provided below.\n",
    "\n",
    "Detailed description of each predictor is below:\n",
    "\n",
    "Age: numerical, the age of patient\n",
    "\n",
    "Gender: categorical, two levels, the sex of patient\n",
    "\n",
    "Family_Diabetes: categorical, two levels, whether the patient's family has history of contracting diabetes\n",
    "\n",
    "HighBP: categorical, two levels, whether the patient has high blood pressure\n",
    "\n",
    "PhysicallyActive: categorical, four levels, amount of time the patient spends on physical exercises every day\n",
    "\n",
    "BMI: numerical, the body BMI index of the patient\n",
    "\n",
    "Smoking: categorical, two levels, whether the patient smokes or not\n",
    "\n",
    "Alcoho: categotical, two levels, whether the patient drinks alcohol or not\n",
    "\n",
    "Sleep: numerical, amount of time the patient sleeps everyday on average (in hours)\n",
    "\n",
    "SoundSleep: numerical, amount of time the patient has SoundSleep every day on average (in hours)\n",
    "\n",
    "RegularMedicine: categorical, two levels, whether the patient uses medicine regularly in daily life\n",
    "\n",
    "Junkfood: categorical, four levels, how frequently the patient eats junkfood\n",
    "\n",
    "Stress: categorical, four levels, how frequently the patient feels stressed\n",
    "\n",
    "BPlevel: categorical, three levels, low, normal or high\n",
    "\n",
    "Pregnancies: numerical, number of pregnancies the patient has\n",
    "\n",
    "Pdiabetes: categorical, two levels, whether the patient had gastational diabetes during pregnancy\n",
    "\n",
    "UriationFreq: categorical, two levels, whether the patient has high frequency of uriation\n",
    "\n",
    "Diabetic: categorical, two levels, whether the patient contracted Diabetes\n",
    "\n",
    "本数据集包括17个变量，其中四个为定量变量，剩余13个为定性变量。\n",
    "\n",
    "变量描述：\n",
    "\n",
    "年龄：定量变量\n",
    "\n",
    "性别：定性变量，2 level\n",
    "\n",
    "家庭糖尿病史：定性变量，2 level\n",
    "\n",
    "高血压：定性变量，2 level\n",
    "\n",
    "每日运动时间：定性变量，4 level\n",
    "\n",
    "BMI：定量变量\n",
    "\n",
    "是否吸烟：定性变量，2 level\n",
    "\n",
    "是否饮酒：定性变量，2 level\n",
    "\n",
    "日均睡眠时间：定量变量\n",
    "\n",
    "日均深度睡眠时间：定量变量\n",
    "\n",
    "是否日常用药：定性变量，2 level\n",
    "\n",
    "垃圾食物摄取频率：定性变量，4 level\n",
    "\n",
    "日常焦虑频率：定性变量，4 level\n",
    "\n",
    "血压：定性变量，3 level（与变量“高血压”冲突）\n",
    "\n",
    "怀孕次数：定量变量\n",
    "\n",
    "孕期糖尿病史：定性变量，2 level\n",
    "\n",
    "泌尿频率：定性变量，2 level\n",
    "\n",
    "是否确诊糖尿病：定性变量，2 level"
   ]
  },
  {
   "cell_type": "markdown",
   "id": "93061408",
   "metadata": {},
   "source": [
    "# DATA CLEANING\n",
    "\n",
    "# 数据清洗"
   ]
  },
  {
   "cell_type": "markdown",
   "id": "3bf22075",
   "metadata": {},
   "source": [
    "Firstly we try to figure out whether there are any null values in the dataset"
   ]
  },
  {
   "cell_type": "code",
   "execution_count": 7,
   "id": "f8c8ecbf",
   "metadata": {
    "scrolled": true
   },
   "outputs": [
    {
     "data": {
      "text/plain": [
       "<AxesSubplot: >"
      ]
     },
     "execution_count": 7,
     "metadata": {},
     "output_type": "execute_result"
    },
    {
     "data": {
      "image/png": "[encoded data removed]",
      "text/plain": [
       "<Figure size 640x480 with 1 Axes>"
      ]
     },
     "metadata": {},
     "output_type": "display_data"
    }
   ],
   "source": [
    "sns.heatmap(diabetes.isnull(), yticklabels=False, cbar=False, cmap='viridis') "
   ]
  },
  {
   "cell_type": "markdown",
   "id": "b4217f0c",
   "metadata": {},
   "source": [
    "We can see most null values are aggregated in the column 'Pregnancies'\n",
    "\n",
    "To fill in those missing values, we stratify the whole dataset into four groups base on the age range, for a female observation with missing pregnancy value, we fill in the mean pregnancy value of the age group which this observation is in, for a male observation we simply fill in 0.\n",
    "\n",
    "变量“怀孕次数”存在大量空值，针对此现象，将患者分为男女两组，男性组统一以0作为“怀孕次数”数值，针对女性组继续细分为四个不同年龄段的小组，每个小组中“怀孕次数”为null的病人，取该年龄组中怀孕次数平均值四舍五入后作为该病人的“怀孕次数”。"
   ]
  },
  {
   "cell_type": "code",
   "execution_count": 8,
   "id": "e70bc88e",
   "metadata": {},
   "outputs": [
    {
     "data": {
      "text/plain": [
       "<AxesSubplot: xlabel='Age', ylabel='Pregancies'>"
      ]
     },
     "execution_count": 8,
     "metadata": {},
     "output_type": "execute_result"
    },
    {
     "data": {
      "image/png": "[encoded data removed]",
      "text/plain": [
       "<Figure size 640x480 with 1 Axes>"
      ]
     },
     "metadata": {},
     "output_type": "display_data"
    }
   ],
   "source": [
    "# want to find avg num of pregnancies for diff age groups\n",
    "sns.boxplot(data = diabetes[diabetes['Gender'] == 'Female'], x='Age', y='Pregancies')"
   ]
  },
  {
   "cell_type": "code",
   "execution_count": 9,
   "id": "9b90fceb",
   "metadata": {},
   "outputs": [
    {
     "name": "stdout",
     "output_type": "stream",
     "text": [
      "mean number of pregnancies for ages less than 40 is 0.5748502994011976\n",
      "mean number of pregnacnices for ages 40-49 is 1.1176470588235294\n",
      "mean number of pregnancies for ages 50-59 is 1.0\n",
      "mean number of pregnancies for ages 60 or older is 2.0392156862745097\n"
     ]
    }
   ],
   "source": [
    "diabetes_fm = diabetes[diabetes['Gender'] == 'Female']\n",
    "diabetes_fm_40 = diabetes_fm[diabetes_fm['Age'] == 'less than 40']\n",
    "diabetes_fm_50 = diabetes_fm[diabetes_fm['Age'] == '40-49']\n",
    "diabetes_fm_60 = diabetes_fm[diabetes_fm['Age'] == '50-59']\n",
    "diabetes_fm_over60 = diabetes_fm[diabetes_fm['Age'] == '60 or older']\n",
    "print(f'mean number of pregnancies for ages less than 40 is', np.mean(diabetes_fm_40['Pregancies']))\n",
    "print(f'mean number of pregnacnices for ages 40-49 is', np.mean(diabetes_fm_50['Pregancies']))\n",
    "print(f'mean number of pregnancies for ages 50-59 is', np.mean(diabetes_fm_60['Pregancies']))\n",
    "print(f'mean number of pregnancies for ages 60 or older is', np.mean(diabetes_fm_over60['Pregancies']))\n",
    "# round off number of pregnancies to nearest whole number\n",
    "preg_40 = round(np.mean(diabetes_fm_40['Pregancies']))\n",
    "preg_50 = round(np.mean(diabetes_fm_50['Pregancies']))\n",
    "preg_60 = round(np.mean(diabetes_fm_60['Pregancies']))\n",
    "preg_over60 = round(np.mean(diabetes_fm_over60['Pregancies']))"
   ]
  },
  {
   "cell_type": "code",
   "execution_count": 10,
   "id": "9e7b9662",
   "metadata": {},
   "outputs": [],
   "source": [
    "def impute_pregnancy(df):\n",
    "    Age_group = df[0]\n",
    "    Gender = df[1]\n",
    "    num_of_pregnancies = df[2]\n",
    "    \n",
    "    if pd.isnull(num_of_pregnancies):\n",
    "        if Gender == 'Male':\n",
    "            return 0.0\n",
    "        elif Age_group == 'less than 40':\n",
    "            return preg_40\n",
    "        elif Age_group == '40-49':\n",
    "            return preg_50\n",
    "        elif Age_group == '50-59':\n",
    "            return preg_60\n",
    "        elif Age_group == '60 or older':\n",
    "            return preg_over60\n",
    "    else:\n",
    "        return num_of_pregnancies"
   ]
  },
  {
   "cell_type": "code",
   "execution_count": 11,
   "id": "95e6058f",
   "metadata": {},
   "outputs": [],
   "source": [
    "diabetes['Pregancies'] = diabetes[['Age','Gender','Pregancies']].apply(impute_pregnancy,axis=1)"
   ]
  },
  {
   "cell_type": "code",
   "execution_count": 12,
   "id": "63309e26",
   "metadata": {
    "scrolled": true
   },
   "outputs": [
    {
     "data": {
      "text/plain": [
       "<AxesSubplot: >"
      ]
     },
     "execution_count": 12,
     "metadata": {},
     "output_type": "execute_result"
    },
    {
     "data": {
      "image/png": "[encoded data removed]",
      "text/plain": [
       "<Figure size 640x480 with 1 Axes>"
      ]
     },
     "metadata": {},
     "output_type": "display_data"
    }
   ],
   "source": [
    "sns.heatmap(diabetes.isnull(), yticklabels=False, cbar=False, cmap='viridis')"
   ]
  },
  {
   "cell_type": "markdown",
   "id": "d92c2b13",
   "metadata": {},
   "source": [
    "Now we successfully removed missing values in the column pregnancy"
   ]
  },
  {
   "cell_type": "markdown",
   "id": "e4df1473",
   "metadata": {},
   "source": [
    "This step is identical to step_impute_linear(age, impute_with = inp_vars(age_group))"
   ]
  },
  {
   "cell_type": "markdown",
   "id": "58df9393",
   "metadata": {},
   "source": [
    "# Dummy variable creation\n",
    "\n",
    "# 创建虚拟变量"
   ]
  },
  {
   "cell_type": "markdown",
   "id": "74819293",
   "metadata": {},
   "source": [
    "we want to replace categorical data into numeric counterparts so we can do data analysis\n",
    "\n",
    "针对所有定性变量创造虚拟变量"
   ]
  },
  {
   "cell_type": "code",
   "execution_count": 13,
   "id": "3df30d05",
   "metadata": {},
   "outputs": [],
   "source": [
    "diabetes['Gender'].replace(to_replace = ['Male', 'Female'], value = [0, 1], inplace = True)\n",
    "\n",
    "def binary_converter(cols):\n",
    "    Family_Diabetes = cols\n",
    "    \n",
    "    if Family_Diabetes == 'no':\n",
    "        return 0\n",
    "    elif Family_Diabetes == 'yes':\n",
    "        return 1\n",
    "def binary_converter2(cols):\n",
    "    UriationFreq = cols\n",
    "    \n",
    "    if UriationFreq  == 'not much':\n",
    "        return 0\n",
    "    elif UriationFreq  == 'quite often':\n",
    "        return 1"
   ]
  },
  {
   "cell_type": "code",
   "execution_count": 14,
   "id": "ff47382f",
   "metadata": {},
   "outputs": [],
   "source": [
    "diabetes['Family_Diabetes'] = diabetes['Family_Diabetes'].apply(binary_converter)\n",
    "diabetes['Smoking'] = diabetes['Smoking'].apply(binary_converter)\n",
    "diabetes['Alcohol'] = diabetes['Alcohol'].apply(binary_converter)\n",
    "diabetes['RegularMedicine'] = diabetes['RegularMedicine'].apply(binary_converter)\n",
    "diabetes['Diabetic'] = diabetes['Diabetic'].apply(binary_converter)\n",
    "diabetes['UriationFreq'] = diabetes['UriationFreq'].apply(binary_converter2)"
   ]
  },
  {
   "cell_type": "code",
   "execution_count": 15,
   "id": "ad2ac784",
   "metadata": {},
   "outputs": [
    {
     "data": {
      "text/html": [
       "<div>\n",
       "<style scoped>\n",
       "    .dataframe tbody tr th:only-of-type {\n",
       "        vertical-align: middle;\n",
       "    }\n",
       "\n",
       "    .dataframe tbody tr th {\n",
       "        vertical-align: top;\n",
       "    }\n",
       "\n",
       "    .dataframe thead th {\n",
       "        text-align: right;\n",
       "    }\n",
       "</style>\n",
       "<table border=\"1\" class=\"dataframe\">\n",
       "  <thead>\n",
       "    <tr style=\"text-align: right;\">\n",
       "      <th></th>\n",
       "      <th>Age</th>\n",
       "      <th>Gender</th>\n",
       "      <th>Family_Diabetes</th>\n",
       "      <th>highBP</th>\n",
       "      <th>PhysicallyActive</th>\n",
       "      <th>BMI</th>\n",
       "      <th>Smoking</th>\n",
       "      <th>Alcohol</th>\n",
       "      <th>Sleep</th>\n",
       "      <th>SoundSleep</th>\n",
       "      <th>RegularMedicine</th>\n",
       "      <th>JunkFood</th>\n",
       "      <th>Stress</th>\n",
       "      <th>BPLevel</th>\n",
       "      <th>Pregancies</th>\n",
       "      <th>Pdiabetes</th>\n",
       "      <th>UriationFreq</th>\n",
       "      <th>Diabetic</th>\n",
       "    </tr>\n",
       "  </thead>\n",
       "  <tbody>\n",
       "    <tr>\n",
       "      <th>0</th>\n",
       "      <td>50-59</td>\n",
       "      <td>0</td>\n",
       "      <td>0</td>\n",
       "      <td>yes</td>\n",
       "      <td>one hr or more</td>\n",
       "      <td>39.0</td>\n",
       "      <td>0</td>\n",
       "      <td>0</td>\n",
       "      <td>8</td>\n",
       "      <td>6</td>\n",
       "      <td>0.0</td>\n",
       "      <td>occasionally</td>\n",
       "      <td>sometimes</td>\n",
       "      <td>high</td>\n",
       "      <td>0.0</td>\n",
       "      <td>0</td>\n",
       "      <td>0</td>\n",
       "      <td>0.0</td>\n",
       "    </tr>\n",
       "    <tr>\n",
       "      <th>1</th>\n",
       "      <td>50-59</td>\n",
       "      <td>0</td>\n",
       "      <td>0</td>\n",
       "      <td>yes</td>\n",
       "      <td>less than half an hr</td>\n",
       "      <td>28.0</td>\n",
       "      <td>0</td>\n",
       "      <td>0</td>\n",
       "      <td>8</td>\n",
       "      <td>6</td>\n",
       "      <td>1.0</td>\n",
       "      <td>very often</td>\n",
       "      <td>sometimes</td>\n",
       "      <td>normal</td>\n",
       "      <td>0.0</td>\n",
       "      <td>0</td>\n",
       "      <td>0</td>\n",
       "      <td>0.0</td>\n",
       "    </tr>\n",
       "    <tr>\n",
       "      <th>2</th>\n",
       "      <td>40-49</td>\n",
       "      <td>0</td>\n",
       "      <td>0</td>\n",
       "      <td>no</td>\n",
       "      <td>one hr or more</td>\n",
       "      <td>24.0</td>\n",
       "      <td>0</td>\n",
       "      <td>0</td>\n",
       "      <td>6</td>\n",
       "      <td>6</td>\n",
       "      <td>0.0</td>\n",
       "      <td>occasionally</td>\n",
       "      <td>sometimes</td>\n",
       "      <td>normal</td>\n",
       "      <td>0.0</td>\n",
       "      <td>0</td>\n",
       "      <td>0</td>\n",
       "      <td>0.0</td>\n",
       "    </tr>\n",
       "    <tr>\n",
       "      <th>3</th>\n",
       "      <td>50-59</td>\n",
       "      <td>0</td>\n",
       "      <td>0</td>\n",
       "      <td>no</td>\n",
       "      <td>one hr or more</td>\n",
       "      <td>23.0</td>\n",
       "      <td>0</td>\n",
       "      <td>0</td>\n",
       "      <td>8</td>\n",
       "      <td>6</td>\n",
       "      <td>0.0</td>\n",
       "      <td>occasionally</td>\n",
       "      <td>sometimes</td>\n",
       "      <td>normal</td>\n",
       "      <td>0.0</td>\n",
       "      <td>0</td>\n",
       "      <td>0</td>\n",
       "      <td>0.0</td>\n",
       "    </tr>\n",
       "    <tr>\n",
       "      <th>4</th>\n",
       "      <td>40-49</td>\n",
       "      <td>0</td>\n",
       "      <td>0</td>\n",
       "      <td>no</td>\n",
       "      <td>less than half an hr</td>\n",
       "      <td>27.0</td>\n",
       "      <td>0</td>\n",
       "      <td>0</td>\n",
       "      <td>8</td>\n",
       "      <td>8</td>\n",
       "      <td>0.0</td>\n",
       "      <td>occasionally</td>\n",
       "      <td>sometimes</td>\n",
       "      <td>normal</td>\n",
       "      <td>0.0</td>\n",
       "      <td>0</td>\n",
       "      <td>0</td>\n",
       "      <td>0.0</td>\n",
       "    </tr>\n",
       "    <tr>\n",
       "      <th>5</th>\n",
       "      <td>40-49</td>\n",
       "      <td>0</td>\n",
       "      <td>0</td>\n",
       "      <td>yes</td>\n",
       "      <td>none</td>\n",
       "      <td>21.0</td>\n",
       "      <td>0</td>\n",
       "      <td>1</td>\n",
       "      <td>10</td>\n",
       "      <td>10</td>\n",
       "      <td>0.0</td>\n",
       "      <td>occasionally</td>\n",
       "      <td>sometimes</td>\n",
       "      <td>high</td>\n",
       "      <td>0.0</td>\n",
       "      <td>0</td>\n",
       "      <td>0</td>\n",
       "      <td>1.0</td>\n",
       "    </tr>\n",
       "    <tr>\n",
       "      <th>6</th>\n",
       "      <td>less than 40</td>\n",
       "      <td>0</td>\n",
       "      <td>0</td>\n",
       "      <td>no</td>\n",
       "      <td>one hr or more</td>\n",
       "      <td>24.0</td>\n",
       "      <td>0</td>\n",
       "      <td>0</td>\n",
       "      <td>8</td>\n",
       "      <td>8</td>\n",
       "      <td>0.0</td>\n",
       "      <td>occasionally</td>\n",
       "      <td>sometimes</td>\n",
       "      <td>normal</td>\n",
       "      <td>0.0</td>\n",
       "      <td>0</td>\n",
       "      <td>0</td>\n",
       "      <td>0.0</td>\n",
       "    </tr>\n",
       "    <tr>\n",
       "      <th>7</th>\n",
       "      <td>less than 40</td>\n",
       "      <td>0</td>\n",
       "      <td>0</td>\n",
       "      <td>no</td>\n",
       "      <td>less than half an hr</td>\n",
       "      <td>20.0</td>\n",
       "      <td>0</td>\n",
       "      <td>0</td>\n",
       "      <td>7</td>\n",
       "      <td>7</td>\n",
       "      <td>1.0</td>\n",
       "      <td>occasionally</td>\n",
       "      <td>sometimes</td>\n",
       "      <td>low</td>\n",
       "      <td>0.0</td>\n",
       "      <td>0</td>\n",
       "      <td>0</td>\n",
       "      <td>0.0</td>\n",
       "    </tr>\n",
       "    <tr>\n",
       "      <th>8</th>\n",
       "      <td>40-49</td>\n",
       "      <td>0</td>\n",
       "      <td>1</td>\n",
       "      <td>no</td>\n",
       "      <td>one hr or more</td>\n",
       "      <td>23.0</td>\n",
       "      <td>0</td>\n",
       "      <td>0</td>\n",
       "      <td>7</td>\n",
       "      <td>7</td>\n",
       "      <td>0.0</td>\n",
       "      <td>occasionally</td>\n",
       "      <td>sometimes</td>\n",
       "      <td>normal</td>\n",
       "      <td>0.0</td>\n",
       "      <td>0</td>\n",
       "      <td>0</td>\n",
       "      <td>0.0</td>\n",
       "    </tr>\n",
       "    <tr>\n",
       "      <th>9</th>\n",
       "      <td>less than 40</td>\n",
       "      <td>0</td>\n",
       "      <td>0</td>\n",
       "      <td>no</td>\n",
       "      <td>more than half an hr</td>\n",
       "      <td>20.0</td>\n",
       "      <td>0</td>\n",
       "      <td>0</td>\n",
       "      <td>8</td>\n",
       "      <td>8</td>\n",
       "      <td>NaN</td>\n",
       "      <td>occasionally</td>\n",
       "      <td>sometimes</td>\n",
       "      <td>normal</td>\n",
       "      <td>0.0</td>\n",
       "      <td>0</td>\n",
       "      <td>0</td>\n",
       "      <td>0.0</td>\n",
       "    </tr>\n",
       "  </tbody>\n",
       "</table>\n",
       "</div>"
      ],
      "text/plain": [
       "            Age  Gender  Family_Diabetes highBP      PhysicallyActive   BMI  \\\n",
       "0         50-59       0                0    yes        one hr or more  39.0   \n",
       "1         50-59       0                0    yes  less than half an hr  28.0   \n",
       "2         40-49       0                0     no        one hr or more  24.0   \n",
       "3         50-59       0                0     no        one hr or more  23.0   \n",
       "4         40-49       0                0     no  less than half an hr  27.0   \n",
       "5         40-49       0                0    yes                  none  21.0   \n",
       "6  less than 40       0                0     no        one hr or more  24.0   \n",
       "7  less than 40       0                0     no  less than half an hr  20.0   \n",
       "8         40-49       0                1     no        one hr or more  23.0   \n",
       "9  less than 40       0                0     no  more than half an hr  20.0   \n",
       "\n",
       "   Smoking  Alcohol  Sleep  SoundSleep  RegularMedicine      JunkFood  \\\n",
       "0        0        0      8           6              0.0  occasionally   \n",
       "1        0        0      8           6              1.0    very often   \n",
       "2        0        0      6           6              0.0  occasionally   \n",
       "3        0        0      8           6              0.0  occasionally   \n",
       "4        0        0      8           8              0.0  occasionally   \n",
       "5        0        1     10          10              0.0  occasionally   \n",
       "6        0        0      8           8              0.0  occasionally   \n",
       "7        0        0      7           7              1.0  occasionally   \n",
       "8        0        0      7           7              0.0  occasionally   \n",
       "9        0        0      8           8              NaN  occasionally   \n",
       "\n",
       "      Stress BPLevel  Pregancies Pdiabetes  UriationFreq  Diabetic  \n",
       "0  sometimes    high         0.0         0             0       0.0  \n",
       "1  sometimes  normal         0.0         0             0       0.0  \n",
       "2  sometimes  normal         0.0         0             0       0.0  \n",
       "3  sometimes  normal         0.0         0             0       0.0  \n",
       "4  sometimes  normal         0.0         0             0       0.0  \n",
       "5  sometimes    high         0.0         0             0       1.0  \n",
       "6  sometimes  normal         0.0         0             0       0.0  \n",
       "7  sometimes     low         0.0         0             0       0.0  \n",
       "8  sometimes  normal         0.0         0             0       0.0  \n",
       "9  sometimes  normal         0.0         0             0       0.0  "
      ]
     },
     "execution_count": 15,
     "metadata": {},
     "output_type": "execute_result"
    }
   ],
   "source": [
    "diabetes.head(10)"
   ]
  },
  {
   "cell_type": "markdown",
   "id": "44f90050",
   "metadata": {},
   "source": [
    "By this step we converted all values of six columns above into 0 and 1, 0 implying no and 1 implying yes\n",
    "\n",
    "将所有取值为no/yes的变量转化为取值为0(no)/1(yes)的变量"
   ]
  },
  {
   "cell_type": "code",
   "execution_count": 16,
   "id": "219c9061",
   "metadata": {},
   "outputs": [],
   "source": [
    "# highBP column largely extraneous given BPlevel column... drop from dataset\n",
    "# 变量“高血压”与变量“血压”冲突，删除\n",
    "diabetes.drop(['highBP'], axis = 1, inplace=True)"
   ]
  },
  {
   "cell_type": "markdown",
   "id": "fe60551a",
   "metadata": {},
   "source": [
    "Also, there are some columns with not unified categorical values, for example, \"low\" and \"Low\", we need to unify them by the following lower-upper converter\n",
    "\n",
    "部分变量存在取值混乱问题：如变量“血压”取值为low，normal，high，但是实际数据集中却存在“low”和“Low”两种不同的表达方式，因此需要进行统一化，同时，“normal”也被表达为“normal”和“normal ”"
   ]
  },
  {
   "cell_type": "code",
   "execution_count": 16,
   "id": "9be0ac6f",
   "metadata": {},
   "outputs": [
    {
     "data": {
      "text/plain": [
       "normal     707\n",
       "high       211\n",
       "low         25\n",
       "High         5\n",
       "Low          3\n",
       "normal       1\n",
       "Name: BPLevel, dtype: int64"
      ]
     },
     "execution_count": 16,
     "metadata": {},
     "output_type": "execute_result"
    }
   ],
   "source": [
    "diabetes['BPLevel'].nunique()\n",
    "diabetes['BPLevel'].value_counts()"
   ]
  },
  {
   "cell_type": "code",
   "execution_count": 17,
   "id": "362a0d41",
   "metadata": {},
   "outputs": [],
   "source": [
    "# it looks like not all of our textual data is in the format we want... write a function to homogenize BPLevel\n",
    "def lowerupper(col):\n",
    "    if col == 'Low':\n",
    "        return 'low'\n",
    "    elif col == 'High':\n",
    "        return 'high'\n",
    "    elif col == 'normal ':\n",
    "        return 'normal'\n",
    "    else:\n",
    "        return col\n",
    "    \n",
    "def lowerupper2(col):\n",
    "    if col == 'no ':\n",
    "        return 'no'\n",
    "    elif col == ' no':\n",
    "        return 'no'\n",
    "    else:\n",
    "        return col"
   ]
  },
  {
   "cell_type": "code",
   "execution_count": 18,
   "id": "29188278",
   "metadata": {},
   "outputs": [],
   "source": [
    "diabetes['BPLevel'] = diabetes['BPLevel'].apply(lowerupper)\n",
    "diabetes['Diabetic'] = diabetes['Diabetic'].apply(lowerupper2)"
   ]
  },
  {
   "cell_type": "code",
   "execution_count": 19,
   "id": "dca0d894",
   "metadata": {},
   "outputs": [
    {
     "data": {
      "text/plain": [
       "4"
      ]
     },
     "execution_count": 19,
     "metadata": {},
     "output_type": "execute_result"
    }
   ],
   "source": [
    "diabetes['JunkFood'].nunique()"
   ]
  },
  {
   "cell_type": "code",
   "execution_count": 20,
   "id": "1d4716d7",
   "metadata": {},
   "outputs": [
    {
     "data": {
      "text/plain": [
       "occasionally    672\n",
       "often           184\n",
       "very often       52\n",
       "always           44\n",
       "Name: JunkFood, dtype: int64"
      ]
     },
     "execution_count": 20,
     "metadata": {},
     "output_type": "execute_result"
    }
   ],
   "source": [
    "diabetes['JunkFood'].value_counts()"
   ]
  },
  {
   "cell_type": "code",
   "execution_count": 21,
   "id": "6d2ff3e0",
   "metadata": {},
   "outputs": [
    {
     "data": {
      "text/plain": [
       "4"
      ]
     },
     "execution_count": 21,
     "metadata": {},
     "output_type": "execute_result"
    }
   ],
   "source": [
    "diabetes['Stress'].nunique()"
   ]
  },
  {
   "cell_type": "code",
   "execution_count": 22,
   "id": "549baad7",
   "metadata": {},
   "outputs": [
    {
     "data": {
      "text/plain": [
       "sometimes     564\n",
       "very often    164\n",
       "not at all    136\n",
       "always         88\n",
       "Name: Stress, dtype: int64"
      ]
     },
     "execution_count": 22,
     "metadata": {},
     "output_type": "execute_result"
    }
   ],
   "source": [
    "diabetes['Stress'].value_counts()"
   ]
  },
  {
   "cell_type": "code",
   "execution_count": 23,
   "id": "6e0a7d63",
   "metadata": {},
   "outputs": [
    {
     "data": {
      "text/plain": [
       "4"
      ]
     },
     "execution_count": 23,
     "metadata": {},
     "output_type": "execute_result"
    }
   ],
   "source": [
    "diabetes['PhysicallyActive'].nunique()"
   ]
  },
  {
   "cell_type": "code",
   "execution_count": 24,
   "id": "5692cf47",
   "metadata": {},
   "outputs": [
    {
     "data": {
      "text/plain": [
       "less than half an hr    336\n",
       "more than half an hr    272\n",
       "one hr or more          212\n",
       "none                    132\n",
       "Name: PhysicallyActive, dtype: int64"
      ]
     },
     "execution_count": 24,
     "metadata": {},
     "output_type": "execute_result"
    }
   ],
   "source": [
    "diabetes['PhysicallyActive'].value_counts()"
   ]
  },
  {
   "cell_type": "code",
   "execution_count": 25,
   "id": "9dfd3151",
   "metadata": {},
   "outputs": [
    {
     "data": {
      "text/plain": [
       "4"
      ]
     },
     "execution_count": 25,
     "metadata": {},
     "output_type": "execute_result"
    }
   ],
   "source": [
    "diabetes['Age'].nunique()"
   ]
  },
  {
   "cell_type": "code",
   "execution_count": 26,
   "id": "a0a973f3",
   "metadata": {},
   "outputs": [
    {
     "data": {
      "text/plain": [
       "less than 40    488\n",
       "40-49           164\n",
       "50-59           156\n",
       "60 or older     144\n",
       "Name: Age, dtype: int64"
      ]
     },
     "execution_count": 26,
     "metadata": {},
     "output_type": "execute_result"
    }
   ],
   "source": [
    "diabetes['Age'].value_counts()"
   ]
  },
  {
   "cell_type": "code",
   "execution_count": 27,
   "id": "71416188",
   "metadata": {},
   "outputs": [],
   "source": [
    "BP_level = pd.get_dummies(diabetes['BPLevel'], drop_first = True)\n",
    "diabetes.drop(['BPLevel'], axis=1, inplace = True)\n",
    "diabetes = pd.concat([diabetes, BP_level], axis = 1)\n",
    "\n",
    "Stress = pd.get_dummies(diabetes['Stress'], drop_first = True)\n",
    "diabetes.drop(['Stress'], axis = 1, inplace = True)\n",
    "diabetes = pd.concat([diabetes, Stress], axis = 1)\n",
    "\n",
    "JunkFood = pd.get_dummies(diabetes['JunkFood'], drop_first = True)\n",
    "diabetes.drop(['JunkFood'], axis = 1, inplace = True)\n",
    "diabetes = pd.concat([diabetes, JunkFood], axis = 1)\n",
    "\n",
    "PhysicallyActive = pd.get_dummies(diabetes['PhysicallyActive'], drop_first = True)\n",
    "diabetes.drop(['PhysicallyActive'], axis = 1, inplace = True)\n",
    "diabetes = pd.concat([diabetes, PhysicallyActive], axis = 1)\n",
    "\n",
    "Age = pd.get_dummies(diabetes['Age'], drop_first = True)\n",
    "diabetes.drop(['Age'], axis = 1, inplace = True)\n",
    "diabetes = pd.concat([diabetes, Age], axis = 1)"
   ]
  },
  {
   "cell_type": "code",
   "execution_count": 28,
   "id": "a1b81168",
   "metadata": {},
   "outputs": [
    {
     "data": {
      "text/html": [
       "<div>\n",
       "<style scoped>\n",
       "    .dataframe tbody tr th:only-of-type {\n",
       "        vertical-align: middle;\n",
       "    }\n",
       "\n",
       "    .dataframe tbody tr th {\n",
       "        vertical-align: top;\n",
       "    }\n",
       "\n",
       "    .dataframe thead th {\n",
       "        text-align: right;\n",
       "    }\n",
       "</style>\n",
       "<table border=\"1\" class=\"dataframe\">\n",
       "  <thead>\n",
       "    <tr style=\"text-align: right;\">\n",
       "      <th></th>\n",
       "      <th>Gender</th>\n",
       "      <th>Family_Diabetes</th>\n",
       "      <th>BMI</th>\n",
       "      <th>Smoking</th>\n",
       "      <th>Alcohol</th>\n",
       "      <th>Sleep</th>\n",
       "      <th>SoundSleep</th>\n",
       "      <th>RegularMedicine</th>\n",
       "      <th>Pregancies</th>\n",
       "      <th>Pdiabetes</th>\n",
       "      <th>UriationFreq</th>\n",
       "      <th>Diabetic</th>\n",
       "      <th>low</th>\n",
       "      <th>normal</th>\n",
       "      <th>not at all</th>\n",
       "      <th>sometimes</th>\n",
       "      <th>very often</th>\n",
       "      <th>occasionally</th>\n",
       "      <th>often</th>\n",
       "      <th>very often</th>\n",
       "      <th>more than half an hr</th>\n",
       "      <th>none</th>\n",
       "      <th>one hr or more</th>\n",
       "      <th>50-59</th>\n",
       "      <th>60 or older</th>\n",
       "      <th>less than 40</th>\n",
       "    </tr>\n",
       "  </thead>\n",
       "  <tbody>\n",
       "    <tr>\n",
       "      <th>0</th>\n",
       "      <td>0</td>\n",
       "      <td>0</td>\n",
       "      <td>39.0</td>\n",
       "      <td>0</td>\n",
       "      <td>0</td>\n",
       "      <td>8</td>\n",
       "      <td>6</td>\n",
       "      <td>0.0</td>\n",
       "      <td>0.0</td>\n",
       "      <td>0</td>\n",
       "      <td>0</td>\n",
       "      <td>0.0</td>\n",
       "      <td>0</td>\n",
       "      <td>0</td>\n",
       "      <td>0</td>\n",
       "      <td>1</td>\n",
       "      <td>0</td>\n",
       "      <td>1</td>\n",
       "      <td>0</td>\n",
       "      <td>0</td>\n",
       "      <td>0</td>\n",
       "      <td>0</td>\n",
       "      <td>1</td>\n",
       "      <td>1</td>\n",
       "      <td>0</td>\n",
       "      <td>0</td>\n",
       "    </tr>\n",
       "    <tr>\n",
       "      <th>1</th>\n",
       "      <td>0</td>\n",
       "      <td>0</td>\n",
       "      <td>28.0</td>\n",
       "      <td>0</td>\n",
       "      <td>0</td>\n",
       "      <td>8</td>\n",
       "      <td>6</td>\n",
       "      <td>1.0</td>\n",
       "      <td>0.0</td>\n",
       "      <td>0</td>\n",
       "      <td>0</td>\n",
       "      <td>0.0</td>\n",
       "      <td>0</td>\n",
       "      <td>1</td>\n",
       "      <td>0</td>\n",
       "      <td>1</td>\n",
       "      <td>0</td>\n",
       "      <td>0</td>\n",
       "      <td>0</td>\n",
       "      <td>1</td>\n",
       "      <td>0</td>\n",
       "      <td>0</td>\n",
       "      <td>0</td>\n",
       "      <td>1</td>\n",
       "      <td>0</td>\n",
       "      <td>0</td>\n",
       "    </tr>\n",
       "    <tr>\n",
       "      <th>2</th>\n",
       "      <td>0</td>\n",
       "      <td>0</td>\n",
       "      <td>24.0</td>\n",
       "      <td>0</td>\n",
       "      <td>0</td>\n",
       "      <td>6</td>\n",
       "      <td>6</td>\n",
       "      <td>0.0</td>\n",
       "      <td>0.0</td>\n",
       "      <td>0</td>\n",
       "      <td>0</td>\n",
       "      <td>0.0</td>\n",
       "      <td>0</td>\n",
       "      <td>1</td>\n",
       "      <td>0</td>\n",
       "      <td>1</td>\n",
       "      <td>0</td>\n",
       "      <td>1</td>\n",
       "      <td>0</td>\n",
       "      <td>0</td>\n",
       "      <td>0</td>\n",
       "      <td>0</td>\n",
       "      <td>1</td>\n",
       "      <td>0</td>\n",
       "      <td>0</td>\n",
       "      <td>0</td>\n",
       "    </tr>\n",
       "    <tr>\n",
       "      <th>3</th>\n",
       "      <td>0</td>\n",
       "      <td>0</td>\n",
       "      <td>23.0</td>\n",
       "      <td>0</td>\n",
       "      <td>0</td>\n",
       "      <td>8</td>\n",
       "      <td>6</td>\n",
       "      <td>0.0</td>\n",
       "      <td>0.0</td>\n",
       "      <td>0</td>\n",
       "      <td>0</td>\n",
       "      <td>0.0</td>\n",
       "      <td>0</td>\n",
       "      <td>1</td>\n",
       "      <td>0</td>\n",
       "      <td>1</td>\n",
       "      <td>0</td>\n",
       "      <td>1</td>\n",
       "      <td>0</td>\n",
       "      <td>0</td>\n",
       "      <td>0</td>\n",
       "      <td>0</td>\n",
       "      <td>1</td>\n",
       "      <td>1</td>\n",
       "      <td>0</td>\n",
       "      <td>0</td>\n",
       "    </tr>\n",
       "    <tr>\n",
       "      <th>4</th>\n",
       "      <td>0</td>\n",
       "      <td>0</td>\n",
       "      <td>27.0</td>\n",
       "      <td>0</td>\n",
       "      <td>0</td>\n",
       "      <td>8</td>\n",
       "      <td>8</td>\n",
       "      <td>0.0</td>\n",
       "      <td>0.0</td>\n",
       "      <td>0</td>\n",
       "      <td>0</td>\n",
       "      <td>0.0</td>\n",
       "      <td>0</td>\n",
       "      <td>1</td>\n",
       "      <td>0</td>\n",
       "      <td>1</td>\n",
       "      <td>0</td>\n",
       "      <td>1</td>\n",
       "      <td>0</td>\n",
       "      <td>0</td>\n",
       "      <td>0</td>\n",
       "      <td>0</td>\n",
       "      <td>0</td>\n",
       "      <td>0</td>\n",
       "      <td>0</td>\n",
       "      <td>0</td>\n",
       "    </tr>\n",
       "  </tbody>\n",
       "</table>\n",
       "</div>"
      ],
      "text/plain": [
       "   Gender  Family_Diabetes   BMI  Smoking  Alcohol  Sleep  SoundSleep  \\\n",
       "0       0                0  39.0        0        0      8           6   \n",
       "1       0                0  28.0        0        0      8           6   \n",
       "2       0                0  24.0        0        0      6           6   \n",
       "3       0                0  23.0        0        0      8           6   \n",
       "4       0                0  27.0        0        0      8           8   \n",
       "\n",
       "   RegularMedicine  Pregancies Pdiabetes  UriationFreq  Diabetic  low  normal  \\\n",
       "0              0.0         0.0         0             0       0.0    0       0   \n",
       "1              1.0         0.0         0             0       0.0    0       1   \n",
       "2              0.0         0.0         0             0       0.0    0       1   \n",
       "3              0.0         0.0         0             0       0.0    0       1   \n",
       "4              0.0         0.0         0             0       0.0    0       1   \n",
       "\n",
       "   not at all  sometimes  very often  occasionally  often  very often  \\\n",
       "0           0          1           0             1      0           0   \n",
       "1           0          1           0             0      0           1   \n",
       "2           0          1           0             1      0           0   \n",
       "3           0          1           0             1      0           0   \n",
       "4           0          1           0             1      0           0   \n",
       "\n",
       "   more than half an hr  none  one hr or more  50-59  60 or older  \\\n",
       "0                     0     0               1      1            0   \n",
       "1                     0     0               0      1            0   \n",
       "2                     0     0               1      0            0   \n",
       "3                     0     0               1      1            0   \n",
       "4                     0     0               0      0            0   \n",
       "\n",
       "   less than 40  \n",
       "0             0  \n",
       "1             0  \n",
       "2             0  \n",
       "3             0  \n",
       "4             0  "
      ]
     },
     "execution_count": 28,
     "metadata": {},
     "output_type": "execute_result"
    }
   ],
   "source": [
    "pd.set_option('display.max_columns', None)\n",
    "diabetes.head()"
   ]
  },
  {
   "cell_type": "markdown",
   "id": "28ea3e12",
   "metadata": {},
   "source": [
    "Now the dummy variables for those categorical variables with more than two levels are also created and merged into the dataset."
   ]
  },
  {
   "cell_type": "code",
   "execution_count": 29,
   "id": "8351a98d",
   "metadata": {},
   "outputs": [
    {
     "data": {
      "text/plain": [
       "str"
      ]
     },
     "execution_count": 29,
     "metadata": {},
     "output_type": "execute_result"
    }
   ],
   "source": [
    "diabetes['Pdiabetes'].nunique()\n",
    "diabetes['Pdiabetes'].value_counts()\n",
    "type(diabetes['Pdiabetes'][0])"
   ]
  },
  {
   "cell_type": "code",
   "execution_count": 30,
   "id": "4c33da5d",
   "metadata": {},
   "outputs": [],
   "source": [
    "def pdiabetes_converter(pdiabetes):\n",
    "    if pdiabetes == 'yes':\n",
    "        return 1\n",
    "    elif pdiabetes == 'no':\n",
    "        return 0\n",
    "    else:\n",
    "        return 0"
   ]
  },
  {
   "cell_type": "code",
   "execution_count": 31,
   "id": "44f4fd71",
   "metadata": {},
   "outputs": [],
   "source": [
    "diabetes['Pdiabetes'] = diabetes['Pdiabetes'].apply(pdiabetes_converter)"
   ]
  },
  {
   "cell_type": "code",
   "execution_count": 32,
   "id": "635fbcbd",
   "metadata": {},
   "outputs": [
    {
     "data": {
      "text/plain": [
       "0    579\n",
       "1      1\n",
       "Name: Pdiabetes, dtype: int64"
      ]
     },
     "execution_count": 32,
     "metadata": {},
     "output_type": "execute_result"
    }
   ],
   "source": [
    "diabetes[diabetes['Gender']==0]['Pdiabetes'].value_counts()"
   ]
  },
  {
   "cell_type": "markdown",
   "id": "51fab692",
   "metadata": {},
   "source": [
    "数据集中存在一个怀孕次数不为0的男性病人，鉴定为异常数据，剔除\n",
    "\n",
    "There is one wierd observatioin: a male patient with number of pregnancy not equal to zero, for this observation we simply delete it."
   ]
  },
  {
   "cell_type": "code",
   "execution_count": 33,
   "id": "31307101",
   "metadata": {},
   "outputs": [],
   "source": [
    "diabetes.drop(diabetes[(diabetes['Gender']==0) & (diabetes['Pdiabetes']==1)].index,inplace=True)"
   ]
  },
  {
   "cell_type": "code",
   "execution_count": 34,
   "id": "08fc458c",
   "metadata": {},
   "outputs": [
    {
     "data": {
      "text/html": [
       "<div>\n",
       "<style scoped>\n",
       "    .dataframe tbody tr th:only-of-type {\n",
       "        vertical-align: middle;\n",
       "    }\n",
       "\n",
       "    .dataframe tbody tr th {\n",
       "        vertical-align: top;\n",
       "    }\n",
       "\n",
       "    .dataframe thead th {\n",
       "        text-align: right;\n",
       "    }\n",
       "</style>\n",
       "<table border=\"1\" class=\"dataframe\">\n",
       "  <thead>\n",
       "    <tr style=\"text-align: right;\">\n",
       "      <th></th>\n",
       "      <th>Gender</th>\n",
       "      <th>Family_Diabetes</th>\n",
       "      <th>BMI</th>\n",
       "      <th>Smoking</th>\n",
       "      <th>Alcohol</th>\n",
       "      <th>Sleep</th>\n",
       "      <th>SoundSleep</th>\n",
       "      <th>RegularMedicine</th>\n",
       "      <th>Pregancies</th>\n",
       "      <th>Pdiabetes</th>\n",
       "      <th>UriationFreq</th>\n",
       "      <th>Diabetic</th>\n",
       "      <th>low</th>\n",
       "      <th>normal</th>\n",
       "      <th>not at all</th>\n",
       "      <th>sometimes</th>\n",
       "      <th>very often</th>\n",
       "      <th>occasionally</th>\n",
       "      <th>often</th>\n",
       "      <th>very often</th>\n",
       "      <th>more than half an hr</th>\n",
       "      <th>none</th>\n",
       "      <th>one hr or more</th>\n",
       "      <th>50-59</th>\n",
       "      <th>60 or older</th>\n",
       "      <th>less than 40</th>\n",
       "    </tr>\n",
       "  </thead>\n",
       "  <tbody>\n",
       "    <tr>\n",
       "      <th>0</th>\n",
       "      <td>0</td>\n",
       "      <td>0</td>\n",
       "      <td>39.0</td>\n",
       "      <td>0</td>\n",
       "      <td>0</td>\n",
       "      <td>8</td>\n",
       "      <td>6</td>\n",
       "      <td>0.0</td>\n",
       "      <td>0.0</td>\n",
       "      <td>0</td>\n",
       "      <td>0</td>\n",
       "      <td>0.0</td>\n",
       "      <td>0</td>\n",
       "      <td>0</td>\n",
       "      <td>0</td>\n",
       "      <td>1</td>\n",
       "      <td>0</td>\n",
       "      <td>1</td>\n",
       "      <td>0</td>\n",
       "      <td>0</td>\n",
       "      <td>0</td>\n",
       "      <td>0</td>\n",
       "      <td>1</td>\n",
       "      <td>1</td>\n",
       "      <td>0</td>\n",
       "      <td>0</td>\n",
       "    </tr>\n",
       "    <tr>\n",
       "      <th>1</th>\n",
       "      <td>0</td>\n",
       "      <td>0</td>\n",
       "      <td>28.0</td>\n",
       "      <td>0</td>\n",
       "      <td>0</td>\n",
       "      <td>8</td>\n",
       "      <td>6</td>\n",
       "      <td>1.0</td>\n",
       "      <td>0.0</td>\n",
       "      <td>0</td>\n",
       "      <td>0</td>\n",
       "      <td>0.0</td>\n",
       "      <td>0</td>\n",
       "      <td>1</td>\n",
       "      <td>0</td>\n",
       "      <td>1</td>\n",
       "      <td>0</td>\n",
       "      <td>0</td>\n",
       "      <td>0</td>\n",
       "      <td>1</td>\n",
       "      <td>0</td>\n",
       "      <td>0</td>\n",
       "      <td>0</td>\n",
       "      <td>1</td>\n",
       "      <td>0</td>\n",
       "      <td>0</td>\n",
       "    </tr>\n",
       "    <tr>\n",
       "      <th>2</th>\n",
       "      <td>0</td>\n",
       "      <td>0</td>\n",
       "      <td>24.0</td>\n",
       "      <td>0</td>\n",
       "      <td>0</td>\n",
       "      <td>6</td>\n",
       "      <td>6</td>\n",
       "      <td>0.0</td>\n",
       "      <td>0.0</td>\n",
       "      <td>0</td>\n",
       "      <td>0</td>\n",
       "      <td>0.0</td>\n",
       "      <td>0</td>\n",
       "      <td>1</td>\n",
       "      <td>0</td>\n",
       "      <td>1</td>\n",
       "      <td>0</td>\n",
       "      <td>1</td>\n",
       "      <td>0</td>\n",
       "      <td>0</td>\n",
       "      <td>0</td>\n",
       "      <td>0</td>\n",
       "      <td>1</td>\n",
       "      <td>0</td>\n",
       "      <td>0</td>\n",
       "      <td>0</td>\n",
       "    </tr>\n",
       "    <tr>\n",
       "      <th>3</th>\n",
       "      <td>0</td>\n",
       "      <td>0</td>\n",
       "      <td>23.0</td>\n",
       "      <td>0</td>\n",
       "      <td>0</td>\n",
       "      <td>8</td>\n",
       "      <td>6</td>\n",
       "      <td>0.0</td>\n",
       "      <td>0.0</td>\n",
       "      <td>0</td>\n",
       "      <td>0</td>\n",
       "      <td>0.0</td>\n",
       "      <td>0</td>\n",
       "      <td>1</td>\n",
       "      <td>0</td>\n",
       "      <td>1</td>\n",
       "      <td>0</td>\n",
       "      <td>1</td>\n",
       "      <td>0</td>\n",
       "      <td>0</td>\n",
       "      <td>0</td>\n",
       "      <td>0</td>\n",
       "      <td>1</td>\n",
       "      <td>1</td>\n",
       "      <td>0</td>\n",
       "      <td>0</td>\n",
       "    </tr>\n",
       "    <tr>\n",
       "      <th>4</th>\n",
       "      <td>0</td>\n",
       "      <td>0</td>\n",
       "      <td>27.0</td>\n",
       "      <td>0</td>\n",
       "      <td>0</td>\n",
       "      <td>8</td>\n",
       "      <td>8</td>\n",
       "      <td>0.0</td>\n",
       "      <td>0.0</td>\n",
       "      <td>0</td>\n",
       "      <td>0</td>\n",
       "      <td>0.0</td>\n",
       "      <td>0</td>\n",
       "      <td>1</td>\n",
       "      <td>0</td>\n",
       "      <td>1</td>\n",
       "      <td>0</td>\n",
       "      <td>1</td>\n",
       "      <td>0</td>\n",
       "      <td>0</td>\n",
       "      <td>0</td>\n",
       "      <td>0</td>\n",
       "      <td>0</td>\n",
       "      <td>0</td>\n",
       "      <td>0</td>\n",
       "      <td>0</td>\n",
       "    </tr>\n",
       "  </tbody>\n",
       "</table>\n",
       "</div>"
      ],
      "text/plain": [
       "   Gender  Family_Diabetes   BMI  Smoking  Alcohol  Sleep  SoundSleep  \\\n",
       "0       0                0  39.0        0        0      8           6   \n",
       "1       0                0  28.0        0        0      8           6   \n",
       "2       0                0  24.0        0        0      6           6   \n",
       "3       0                0  23.0        0        0      8           6   \n",
       "4       0                0  27.0        0        0      8           8   \n",
       "\n",
       "   RegularMedicine  Pregancies  Pdiabetes  UriationFreq  Diabetic  low  \\\n",
       "0              0.0         0.0          0             0       0.0    0   \n",
       "1              1.0         0.0          0             0       0.0    0   \n",
       "2              0.0         0.0          0             0       0.0    0   \n",
       "3              0.0         0.0          0             0       0.0    0   \n",
       "4              0.0         0.0          0             0       0.0    0   \n",
       "\n",
       "   normal  not at all  sometimes  very often  occasionally  often  very often  \\\n",
       "0       0           0          1           0             1      0           0   \n",
       "1       1           0          1           0             0      0           1   \n",
       "2       1           0          1           0             1      0           0   \n",
       "3       1           0          1           0             1      0           0   \n",
       "4       1           0          1           0             1      0           0   \n",
       "\n",
       "   more than half an hr  none  one hr or more  50-59  60 or older  \\\n",
       "0                     0     0               1      1            0   \n",
       "1                     0     0               0      1            0   \n",
       "2                     0     0               1      0            0   \n",
       "3                     0     0               1      1            0   \n",
       "4                     0     0               0      0            0   \n",
       "\n",
       "   less than 40  \n",
       "0             0  \n",
       "1             0  \n",
       "2             0  \n",
       "3             0  \n",
       "4             0  "
      ]
     },
     "execution_count": 34,
     "metadata": {},
     "output_type": "execute_result"
    }
   ],
   "source": [
    "diabetes.head()"
   ]
  },
  {
   "cell_type": "markdown",
   "id": "8263983a",
   "metadata": {},
   "source": [
    "All columns have been successfully converted to numerical form for our ML algorithms! Now let's change the names of our columns to make it clear what they represent."
   ]
  },
  {
   "cell_type": "code",
   "execution_count": 35,
   "id": "d8d3bacc",
   "metadata": {},
   "outputs": [],
   "source": [
    "diabetes.rename(columns = {'low':'low BP', 'normal':'normal BP',\n",
    "                              'not at all':'no stress', 'sometimes':'occasional stress',\n",
    "                          'very often':'high stress', 'occasionally':'healthy diet', 'often': 'unhealthy diet',\n",
    "                          'very often': 'very unhealthy diet', 'more than half an hr': '0.5+ hr exercise',\n",
    "                          'none': '0 hr exercise', 'one hr or more':'1+ hr exercise','Pregancies':'pregnancies'}, inplace = True)"
   ]
  },
  {
   "cell_type": "markdown",
   "id": "b263b007",
   "metadata": {},
   "source": [
    "As we see here we had 2 columns titled 'very often', one corresponding to the column 'very often' for stress, the corresponding to the column 'very often' for Junkfood, but both columns were assigned the same label!"
   ]
  },
  {
   "cell_type": "code",
   "execution_count": 36,
   "id": "1535e734",
   "metadata": {},
   "outputs": [],
   "source": [
    "diabetes2 = diabetes['very unhealthy diet']\n",
    "diabetes.drop('very unhealthy diet', axis = 1, inplace = True)\n",
    "diabetes2.columns = ['high stress', 'very unhealthy diet']\n",
    "diabetes2\n",
    "diabetes = pd.concat([diabetes, diabetes2], axis = 1)"
   ]
  },
  {
   "cell_type": "markdown",
   "id": "aa413678",
   "metadata": {},
   "source": [
    "At last, we remove any observation that still has missing values"
   ]
  },
  {
   "cell_type": "code",
   "execution_count": 37,
   "id": "e2bdd0b0",
   "metadata": {},
   "outputs": [
    {
     "data": {
      "text/html": [
       "<div>\n",
       "<style scoped>\n",
       "    .dataframe tbody tr th:only-of-type {\n",
       "        vertical-align: middle;\n",
       "    }\n",
       "\n",
       "    .dataframe tbody tr th {\n",
       "        vertical-align: top;\n",
       "    }\n",
       "\n",
       "    .dataframe thead th {\n",
       "        text-align: right;\n",
       "    }\n",
       "</style>\n",
       "<table border=\"1\" class=\"dataframe\">\n",
       "  <thead>\n",
       "    <tr style=\"text-align: right;\">\n",
       "      <th></th>\n",
       "      <th>Gender</th>\n",
       "      <th>Family_Diabetes</th>\n",
       "      <th>BMI</th>\n",
       "      <th>Smoking</th>\n",
       "      <th>Alcohol</th>\n",
       "      <th>Sleep</th>\n",
       "      <th>SoundSleep</th>\n",
       "      <th>RegularMedicine</th>\n",
       "      <th>pregnancies</th>\n",
       "      <th>Pdiabetes</th>\n",
       "      <th>UriationFreq</th>\n",
       "      <th>Diabetic</th>\n",
       "      <th>low BP</th>\n",
       "      <th>normal BP</th>\n",
       "      <th>no stress</th>\n",
       "      <th>occasional stress</th>\n",
       "      <th>healthy diet</th>\n",
       "      <th>unhealthy diet</th>\n",
       "      <th>0.5+ hr exercise</th>\n",
       "      <th>0 hr exercise</th>\n",
       "      <th>1+ hr exercise</th>\n",
       "      <th>50-59</th>\n",
       "      <th>60 or older</th>\n",
       "      <th>less than 40</th>\n",
       "      <th>high stress</th>\n",
       "      <th>very unhealthy diet</th>\n",
       "    </tr>\n",
       "  </thead>\n",
       "  <tbody>\n",
       "    <tr>\n",
       "      <th>0</th>\n",
       "      <td>0</td>\n",
       "      <td>0</td>\n",
       "      <td>39.0</td>\n",
       "      <td>0</td>\n",
       "      <td>0</td>\n",
       "      <td>8</td>\n",
       "      <td>6</td>\n",
       "      <td>0.0</td>\n",
       "      <td>0.0</td>\n",
       "      <td>0</td>\n",
       "      <td>0</td>\n",
       "      <td>0.0</td>\n",
       "      <td>0</td>\n",
       "      <td>0</td>\n",
       "      <td>0</td>\n",
       "      <td>1</td>\n",
       "      <td>1</td>\n",
       "      <td>0</td>\n",
       "      <td>0</td>\n",
       "      <td>0</td>\n",
       "      <td>1</td>\n",
       "      <td>1</td>\n",
       "      <td>0</td>\n",
       "      <td>0</td>\n",
       "      <td>0</td>\n",
       "      <td>0</td>\n",
       "    </tr>\n",
       "    <tr>\n",
       "      <th>1</th>\n",
       "      <td>0</td>\n",
       "      <td>0</td>\n",
       "      <td>28.0</td>\n",
       "      <td>0</td>\n",
       "      <td>0</td>\n",
       "      <td>8</td>\n",
       "      <td>6</td>\n",
       "      <td>1.0</td>\n",
       "      <td>0.0</td>\n",
       "      <td>0</td>\n",
       "      <td>0</td>\n",
       "      <td>0.0</td>\n",
       "      <td>0</td>\n",
       "      <td>1</td>\n",
       "      <td>0</td>\n",
       "      <td>1</td>\n",
       "      <td>0</td>\n",
       "      <td>0</td>\n",
       "      <td>0</td>\n",
       "      <td>0</td>\n",
       "      <td>0</td>\n",
       "      <td>1</td>\n",
       "      <td>0</td>\n",
       "      <td>0</td>\n",
       "      <td>0</td>\n",
       "      <td>1</td>\n",
       "    </tr>\n",
       "    <tr>\n",
       "      <th>2</th>\n",
       "      <td>0</td>\n",
       "      <td>0</td>\n",
       "      <td>24.0</td>\n",
       "      <td>0</td>\n",
       "      <td>0</td>\n",
       "      <td>6</td>\n",
       "      <td>6</td>\n",
       "      <td>0.0</td>\n",
       "      <td>0.0</td>\n",
       "      <td>0</td>\n",
       "      <td>0</td>\n",
       "      <td>0.0</td>\n",
       "      <td>0</td>\n",
       "      <td>1</td>\n",
       "      <td>0</td>\n",
       "      <td>1</td>\n",
       "      <td>1</td>\n",
       "      <td>0</td>\n",
       "      <td>0</td>\n",
       "      <td>0</td>\n",
       "      <td>1</td>\n",
       "      <td>0</td>\n",
       "      <td>0</td>\n",
       "      <td>0</td>\n",
       "      <td>0</td>\n",
       "      <td>0</td>\n",
       "    </tr>\n",
       "    <tr>\n",
       "      <th>3</th>\n",
       "      <td>0</td>\n",
       "      <td>0</td>\n",
       "      <td>23.0</td>\n",
       "      <td>0</td>\n",
       "      <td>0</td>\n",
       "      <td>8</td>\n",
       "      <td>6</td>\n",
       "      <td>0.0</td>\n",
       "      <td>0.0</td>\n",
       "      <td>0</td>\n",
       "      <td>0</td>\n",
       "      <td>0.0</td>\n",
       "      <td>0</td>\n",
       "      <td>1</td>\n",
       "      <td>0</td>\n",
       "      <td>1</td>\n",
       "      <td>1</td>\n",
       "      <td>0</td>\n",
       "      <td>0</td>\n",
       "      <td>0</td>\n",
       "      <td>1</td>\n",
       "      <td>1</td>\n",
       "      <td>0</td>\n",
       "      <td>0</td>\n",
       "      <td>0</td>\n",
       "      <td>0</td>\n",
       "    </tr>\n",
       "    <tr>\n",
       "      <th>4</th>\n",
       "      <td>0</td>\n",
       "      <td>0</td>\n",
       "      <td>27.0</td>\n",
       "      <td>0</td>\n",
       "      <td>0</td>\n",
       "      <td>8</td>\n",
       "      <td>8</td>\n",
       "      <td>0.0</td>\n",
       "      <td>0.0</td>\n",
       "      <td>0</td>\n",
       "      <td>0</td>\n",
       "      <td>0.0</td>\n",
       "      <td>0</td>\n",
       "      <td>1</td>\n",
       "      <td>0</td>\n",
       "      <td>1</td>\n",
       "      <td>1</td>\n",
       "      <td>0</td>\n",
       "      <td>0</td>\n",
       "      <td>0</td>\n",
       "      <td>0</td>\n",
       "      <td>0</td>\n",
       "      <td>0</td>\n",
       "      <td>0</td>\n",
       "      <td>0</td>\n",
       "      <td>0</td>\n",
       "    </tr>\n",
       "  </tbody>\n",
       "</table>\n",
       "</div>"
      ],
      "text/plain": [
       "   Gender  Family_Diabetes   BMI  Smoking  Alcohol  Sleep  SoundSleep  \\\n",
       "0       0                0  39.0        0        0      8           6   \n",
       "1       0                0  28.0        0        0      8           6   \n",
       "2       0                0  24.0        0        0      6           6   \n",
       "3       0                0  23.0        0        0      8           6   \n",
       "4       0                0  27.0        0        0      8           8   \n",
       "\n",
       "   RegularMedicine  pregnancies  Pdiabetes  UriationFreq  Diabetic  low BP  \\\n",
       "0              0.0          0.0          0             0       0.0       0   \n",
       "1              1.0          0.0          0             0       0.0       0   \n",
       "2              0.0          0.0          0             0       0.0       0   \n",
       "3              0.0          0.0          0             0       0.0       0   \n",
       "4              0.0          0.0          0             0       0.0       0   \n",
       "\n",
       "   normal BP  no stress  occasional stress  healthy diet  unhealthy diet  \\\n",
       "0          0          0                  1             1               0   \n",
       "1          1          0                  1             0               0   \n",
       "2          1          0                  1             1               0   \n",
       "3          1          0                  1             1               0   \n",
       "4          1          0                  1             1               0   \n",
       "\n",
       "   0.5+ hr exercise  0 hr exercise  1+ hr exercise  50-59  60 or older  \\\n",
       "0                 0              0               1      1            0   \n",
       "1                 0              0               0      1            0   \n",
       "2                 0              0               1      0            0   \n",
       "3                 0              0               1      1            0   \n",
       "4                 0              0               0      0            0   \n",
       "\n",
       "   less than 40  high stress  very unhealthy diet  \n",
       "0             0            0                    0  \n",
       "1             0            0                    1  \n",
       "2             0            0                    0  \n",
       "3             0            0                    0  \n",
       "4             0            0                    0  "
      ]
     },
     "execution_count": 37,
     "metadata": {},
     "output_type": "execute_result"
    }
   ],
   "source": [
    "diabetes.dropna(inplace = True)\n",
    "diabetes.describe()\n",
    "diabetes.head()"
   ]
  },
  {
   "cell_type": "markdown",
   "id": "2fdbf5bd",
   "metadata": {},
   "source": [
    "This is the dataset we finished processing\n",
    "\n",
    "至此，数据集已经完成清洗，可以进行机器学习模型训练"
   ]
  },
  {
   "cell_type": "code",
   "execution_count": 38,
   "id": "1625018a",
   "metadata": {},
   "outputs": [
    {
     "data": {
      "text/plain": [
       "(945, 26)"
      ]
     },
     "execution_count": 38,
     "metadata": {},
     "output_type": "execute_result"
    }
   ],
   "source": [
    "diabetes.shape"
   ]
  },
  {
   "cell_type": "markdown",
   "id": "78011695",
   "metadata": {},
   "source": [
    "To be honest all these steps correspond to one line in the R recipe: step_dummy(all_nominal_predictors())\n",
    "    \n",
    "But the data is pretty dirty though, tons of work needs to be down for unifying outcome values of each categorical variable."
   ]
  },
  {
   "cell_type": "markdown",
   "id": "f56016cf",
   "metadata": {},
   "source": [
    "# Exploratory Data Analysis\n",
    "\n",
    "# 探索性数据分析"
   ]
  },
  {
   "cell_type": "markdown",
   "id": "f0cddaa1",
   "metadata": {},
   "source": [
    "Let's explore the relationship between different variables in our datset"
   ]
  },
  {
   "cell_type": "code",
   "execution_count": 39,
   "id": "a4500de0",
   "metadata": {},
   "outputs": [
    {
     "data": {
      "text/html": [
       "<div>\n",
       "<style scoped>\n",
       "    .dataframe tbody tr th:only-of-type {\n",
       "        vertical-align: middle;\n",
       "    }\n",
       "\n",
       "    .dataframe tbody tr th {\n",
       "        vertical-align: top;\n",
       "    }\n",
       "\n",
       "    .dataframe thead th {\n",
       "        text-align: right;\n",
       "    }\n",
       "</style>\n",
       "<table border=\"1\" class=\"dataframe\">\n",
       "  <thead>\n",
       "    <tr style=\"text-align: right;\">\n",
       "      <th></th>\n",
       "      <th>Age</th>\n",
       "      <th>Gender</th>\n",
       "      <th>Family_Diabetes</th>\n",
       "      <th>highBP</th>\n",
       "      <th>PhysicallyActive</th>\n",
       "      <th>BMI</th>\n",
       "      <th>Smoking</th>\n",
       "      <th>Alcohol</th>\n",
       "      <th>Sleep</th>\n",
       "      <th>SoundSleep</th>\n",
       "      <th>RegularMedicine</th>\n",
       "      <th>JunkFood</th>\n",
       "      <th>Stress</th>\n",
       "      <th>BPLevel</th>\n",
       "      <th>Pregancies</th>\n",
       "      <th>Pdiabetes</th>\n",
       "      <th>UriationFreq</th>\n",
       "      <th>Diabetic</th>\n",
       "    </tr>\n",
       "  </thead>\n",
       "  <tbody>\n",
       "    <tr>\n",
       "      <th>0</th>\n",
       "      <td>50-59</td>\n",
       "      <td>Male</td>\n",
       "      <td>no</td>\n",
       "      <td>yes</td>\n",
       "      <td>one hr or more</td>\n",
       "      <td>39.0</td>\n",
       "      <td>no</td>\n",
       "      <td>no</td>\n",
       "      <td>8</td>\n",
       "      <td>6</td>\n",
       "      <td>no</td>\n",
       "      <td>occasionally</td>\n",
       "      <td>sometimes</td>\n",
       "      <td>high</td>\n",
       "      <td>0.0</td>\n",
       "      <td>0</td>\n",
       "      <td>not much</td>\n",
       "      <td>0.0</td>\n",
       "    </tr>\n",
       "    <tr>\n",
       "      <th>1</th>\n",
       "      <td>50-59</td>\n",
       "      <td>Male</td>\n",
       "      <td>no</td>\n",
       "      <td>yes</td>\n",
       "      <td>less than half an hr</td>\n",
       "      <td>28.0</td>\n",
       "      <td>no</td>\n",
       "      <td>no</td>\n",
       "      <td>8</td>\n",
       "      <td>6</td>\n",
       "      <td>yes</td>\n",
       "      <td>very often</td>\n",
       "      <td>sometimes</td>\n",
       "      <td>normal</td>\n",
       "      <td>0.0</td>\n",
       "      <td>0</td>\n",
       "      <td>not much</td>\n",
       "      <td>0.0</td>\n",
       "    </tr>\n",
       "    <tr>\n",
       "      <th>2</th>\n",
       "      <td>40-49</td>\n",
       "      <td>Male</td>\n",
       "      <td>no</td>\n",
       "      <td>no</td>\n",
       "      <td>one hr or more</td>\n",
       "      <td>24.0</td>\n",
       "      <td>no</td>\n",
       "      <td>no</td>\n",
       "      <td>6</td>\n",
       "      <td>6</td>\n",
       "      <td>no</td>\n",
       "      <td>occasionally</td>\n",
       "      <td>sometimes</td>\n",
       "      <td>normal</td>\n",
       "      <td>0.0</td>\n",
       "      <td>0</td>\n",
       "      <td>not much</td>\n",
       "      <td>0.0</td>\n",
       "    </tr>\n",
       "    <tr>\n",
       "      <th>3</th>\n",
       "      <td>50-59</td>\n",
       "      <td>Male</td>\n",
       "      <td>no</td>\n",
       "      <td>no</td>\n",
       "      <td>one hr or more</td>\n",
       "      <td>23.0</td>\n",
       "      <td>no</td>\n",
       "      <td>no</td>\n",
       "      <td>8</td>\n",
       "      <td>6</td>\n",
       "      <td>no</td>\n",
       "      <td>occasionally</td>\n",
       "      <td>sometimes</td>\n",
       "      <td>normal</td>\n",
       "      <td>0.0</td>\n",
       "      <td>0</td>\n",
       "      <td>not much</td>\n",
       "      <td>0.0</td>\n",
       "    </tr>\n",
       "    <tr>\n",
       "      <th>4</th>\n",
       "      <td>40-49</td>\n",
       "      <td>Male</td>\n",
       "      <td>no</td>\n",
       "      <td>no</td>\n",
       "      <td>less than half an hr</td>\n",
       "      <td>27.0</td>\n",
       "      <td>no</td>\n",
       "      <td>no</td>\n",
       "      <td>8</td>\n",
       "      <td>8</td>\n",
       "      <td>no</td>\n",
       "      <td>occasionally</td>\n",
       "      <td>sometimes</td>\n",
       "      <td>normal</td>\n",
       "      <td>0.0</td>\n",
       "      <td>0</td>\n",
       "      <td>not much</td>\n",
       "      <td>0.0</td>\n",
       "    </tr>\n",
       "  </tbody>\n",
       "</table>\n",
       "</div>"
      ],
      "text/plain": [
       "     Age Gender Family_Diabetes highBP      PhysicallyActive   BMI Smoking  \\\n",
       "0  50-59   Male              no    yes        one hr or more  39.0      no   \n",
       "1  50-59   Male              no    yes  less than half an hr  28.0      no   \n",
       "2  40-49   Male              no     no        one hr or more  24.0      no   \n",
       "3  50-59   Male              no     no        one hr or more  23.0      no   \n",
       "4  40-49   Male              no     no  less than half an hr  27.0      no   \n",
       "\n",
       "  Alcohol  Sleep  SoundSleep RegularMedicine      JunkFood     Stress BPLevel  \\\n",
       "0      no      8           6              no  occasionally  sometimes    high   \n",
       "1      no      8           6             yes    very often  sometimes  normal   \n",
       "2      no      6           6              no  occasionally  sometimes  normal   \n",
       "3      no      8           6              no  occasionally  sometimes  normal   \n",
       "4      no      8           8              no  occasionally  sometimes  normal   \n",
       "\n",
       "   Pregancies Pdiabetes UriationFreq  Diabetic  \n",
       "0         0.0         0     not much       0.0  \n",
       "1         0.0         0     not much       0.0  \n",
       "2         0.0         0     not much       0.0  \n",
       "3         0.0         0     not much       0.0  \n",
       "4         0.0         0     not much       0.0  "
      ]
     },
     "execution_count": 39,
     "metadata": {},
     "output_type": "execute_result"
    }
   ],
   "source": [
    "eda_dataset = pd.read_csv('diabetes_dataset__2019.csv')\n",
    "eda_dataset['Diabetic'] = eda_dataset['Diabetic'].apply(binary_converter)\n",
    "eda_dataset.head()"
   ]
  },
  {
   "cell_type": "markdown",
   "id": "97db4348",
   "metadata": {},
   "source": [
    "Now we see how many different values do each catagorical column has "
   ]
  },
  {
   "cell_type": "code",
   "execution_count": 40,
   "id": "12f3c0df",
   "metadata": {},
   "outputs": [
    {
     "data": {
      "text/plain": [
       "sometimes     564\n",
       "very often    164\n",
       "not at all    136\n",
       "always         88\n",
       "Name: Stress, dtype: int64"
      ]
     },
     "execution_count": 40,
     "metadata": {},
     "output_type": "execute_result"
    }
   ],
   "source": [
    "eda_dataset['Stress'].value_counts()"
   ]
  },
  {
   "cell_type": "code",
   "execution_count": 41,
   "id": "2f5867c6",
   "metadata": {},
   "outputs": [
    {
     "data": {
      "text/plain": [
       "occasionally    672\n",
       "often           184\n",
       "very often       52\n",
       "always           44\n",
       "Name: JunkFood, dtype: int64"
      ]
     },
     "execution_count": 41,
     "metadata": {},
     "output_type": "execute_result"
    }
   ],
   "source": [
    "eda_dataset['JunkFood'].value_counts()"
   ]
  },
  {
   "cell_type": "code",
   "execution_count": 42,
   "id": "52fef950",
   "metadata": {
    "scrolled": true
   },
   "outputs": [
    {
     "data": {
      "text/plain": [
       "less than half an hr    336\n",
       "more than half an hr    272\n",
       "one hr or more          212\n",
       "none                    132\n",
       "Name: PhysicallyActive, dtype: int64"
      ]
     },
     "execution_count": 42,
     "metadata": {},
     "output_type": "execute_result"
    }
   ],
   "source": [
    "eda_dataset['PhysicallyActive'].value_counts()"
   ]
  },
  {
   "cell_type": "markdown",
   "id": "c2cc0532",
   "metadata": {},
   "source": [
    "Recall that the 'BPLevel' column has some entries followed by a space behind them\n",
    "\n",
    "Use the cleaning function before"
   ]
  },
  {
   "cell_type": "code",
   "execution_count": 43,
   "id": "f0aa513e",
   "metadata": {},
   "outputs": [],
   "source": [
    "eda_dataset['BPLevel'] = eda_dataset['BPLevel'].apply(lowerupper)"
   ]
  },
  {
   "cell_type": "code",
   "execution_count": 44,
   "id": "c355a42c",
   "metadata": {
    "scrolled": true
   },
   "outputs": [
    {
     "data": {
      "text/plain": [
       "normal    708\n",
       "high      216\n",
       "low        28\n",
       "Name: BPLevel, dtype: int64"
      ]
     },
     "execution_count": 44,
     "metadata": {},
     "output_type": "execute_result"
    }
   ],
   "source": [
    "eda_dataset['BPLevel'].value_counts()"
   ]
  },
  {
   "cell_type": "code",
   "execution_count": 45,
   "id": "fe6d20e3",
   "metadata": {},
   "outputs": [
    {
     "data": {
      "text/html": [
       "<div>\n",
       "<style scoped>\n",
       "    .dataframe tbody tr th:only-of-type {\n",
       "        vertical-align: middle;\n",
       "    }\n",
       "\n",
       "    .dataframe tbody tr th {\n",
       "        vertical-align: top;\n",
       "    }\n",
       "\n",
       "    .dataframe thead th {\n",
       "        text-align: right;\n",
       "    }\n",
       "</style>\n",
       "<table border=\"1\" class=\"dataframe\">\n",
       "  <thead>\n",
       "    <tr style=\"text-align: right;\">\n",
       "      <th></th>\n",
       "      <th>Age</th>\n",
       "      <th>Gender</th>\n",
       "      <th>Family_Diabetes</th>\n",
       "      <th>highBP</th>\n",
       "      <th>PhysicallyActive</th>\n",
       "      <th>BMI</th>\n",
       "      <th>Smoking</th>\n",
       "      <th>Alcohol</th>\n",
       "      <th>Sleep</th>\n",
       "      <th>SoundSleep</th>\n",
       "      <th>RegularMedicine</th>\n",
       "      <th>JunkFood</th>\n",
       "      <th>Stress</th>\n",
       "      <th>BPLevel</th>\n",
       "      <th>Pregancies</th>\n",
       "      <th>Pdiabetes</th>\n",
       "      <th>UriationFreq</th>\n",
       "      <th>Diabetic</th>\n",
       "    </tr>\n",
       "  </thead>\n",
       "  <tbody>\n",
       "    <tr>\n",
       "      <th>0</th>\n",
       "      <td>50-59</td>\n",
       "      <td>Male</td>\n",
       "      <td>no</td>\n",
       "      <td>yes</td>\n",
       "      <td>one hr or more</td>\n",
       "      <td>39.0</td>\n",
       "      <td>no</td>\n",
       "      <td>no</td>\n",
       "      <td>8</td>\n",
       "      <td>6</td>\n",
       "      <td>no</td>\n",
       "      <td>occasionally</td>\n",
       "      <td>sometimes</td>\n",
       "      <td>high</td>\n",
       "      <td>0.0</td>\n",
       "      <td>0</td>\n",
       "      <td>not much</td>\n",
       "      <td>0.0</td>\n",
       "    </tr>\n",
       "    <tr>\n",
       "      <th>1</th>\n",
       "      <td>50-59</td>\n",
       "      <td>Male</td>\n",
       "      <td>no</td>\n",
       "      <td>yes</td>\n",
       "      <td>less than half an hr</td>\n",
       "      <td>28.0</td>\n",
       "      <td>no</td>\n",
       "      <td>no</td>\n",
       "      <td>8</td>\n",
       "      <td>6</td>\n",
       "      <td>yes</td>\n",
       "      <td>very often</td>\n",
       "      <td>sometimes</td>\n",
       "      <td>normal</td>\n",
       "      <td>0.0</td>\n",
       "      <td>0</td>\n",
       "      <td>not much</td>\n",
       "      <td>0.0</td>\n",
       "    </tr>\n",
       "    <tr>\n",
       "      <th>2</th>\n",
       "      <td>40-49</td>\n",
       "      <td>Male</td>\n",
       "      <td>no</td>\n",
       "      <td>no</td>\n",
       "      <td>one hr or more</td>\n",
       "      <td>24.0</td>\n",
       "      <td>no</td>\n",
       "      <td>no</td>\n",
       "      <td>6</td>\n",
       "      <td>6</td>\n",
       "      <td>no</td>\n",
       "      <td>occasionally</td>\n",
       "      <td>sometimes</td>\n",
       "      <td>normal</td>\n",
       "      <td>0.0</td>\n",
       "      <td>0</td>\n",
       "      <td>not much</td>\n",
       "      <td>0.0</td>\n",
       "    </tr>\n",
       "    <tr>\n",
       "      <th>3</th>\n",
       "      <td>50-59</td>\n",
       "      <td>Male</td>\n",
       "      <td>no</td>\n",
       "      <td>no</td>\n",
       "      <td>one hr or more</td>\n",
       "      <td>23.0</td>\n",
       "      <td>no</td>\n",
       "      <td>no</td>\n",
       "      <td>8</td>\n",
       "      <td>6</td>\n",
       "      <td>no</td>\n",
       "      <td>occasionally</td>\n",
       "      <td>sometimes</td>\n",
       "      <td>normal</td>\n",
       "      <td>0.0</td>\n",
       "      <td>0</td>\n",
       "      <td>not much</td>\n",
       "      <td>0.0</td>\n",
       "    </tr>\n",
       "    <tr>\n",
       "      <th>4</th>\n",
       "      <td>40-49</td>\n",
       "      <td>Male</td>\n",
       "      <td>no</td>\n",
       "      <td>no</td>\n",
       "      <td>less than half an hr</td>\n",
       "      <td>27.0</td>\n",
       "      <td>no</td>\n",
       "      <td>no</td>\n",
       "      <td>8</td>\n",
       "      <td>8</td>\n",
       "      <td>no</td>\n",
       "      <td>occasionally</td>\n",
       "      <td>sometimes</td>\n",
       "      <td>normal</td>\n",
       "      <td>0.0</td>\n",
       "      <td>0</td>\n",
       "      <td>not much</td>\n",
       "      <td>0.0</td>\n",
       "    </tr>\n",
       "  </tbody>\n",
       "</table>\n",
       "</div>"
      ],
      "text/plain": [
       "     Age Gender Family_Diabetes highBP      PhysicallyActive   BMI Smoking  \\\n",
       "0  50-59   Male              no    yes        one hr or more  39.0      no   \n",
       "1  50-59   Male              no    yes  less than half an hr  28.0      no   \n",
       "2  40-49   Male              no     no        one hr or more  24.0      no   \n",
       "3  50-59   Male              no     no        one hr or more  23.0      no   \n",
       "4  40-49   Male              no     no  less than half an hr  27.0      no   \n",
       "\n",
       "  Alcohol  Sleep  SoundSleep RegularMedicine      JunkFood     Stress BPLevel  \\\n",
       "0      no      8           6              no  occasionally  sometimes    high   \n",
       "1      no      8           6             yes    very often  sometimes  normal   \n",
       "2      no      6           6              no  occasionally  sometimes  normal   \n",
       "3      no      8           6              no  occasionally  sometimes  normal   \n",
       "4      no      8           8              no  occasionally  sometimes  normal   \n",
       "\n",
       "   Pregancies Pdiabetes UriationFreq  Diabetic  \n",
       "0         0.0         0     not much       0.0  \n",
       "1         0.0         0     not much       0.0  \n",
       "2         0.0         0     not much       0.0  \n",
       "3         0.0         0     not much       0.0  \n",
       "4         0.0         0     not much       0.0  "
      ]
     },
     "execution_count": 45,
     "metadata": {},
     "output_type": "execute_result"
    }
   ],
   "source": [
    "eda_dataset.head()"
   ]
  },
  {
   "cell_type": "code",
   "execution_count": 46,
   "id": "f5a90f9c",
   "metadata": {},
   "outputs": [
    {
     "data": {
      "image/png": "[encoded data removed]",
      "text/plain": [
       "<Figure size 1500x800 with 1 Axes>"
      ]
     },
     "metadata": {},
     "output_type": "display_data"
    }
   ],
   "source": [
    "plt.figure(figsize=(15,8))\n",
    "x = eda_dataset[eda_dataset['Gender']=='Male']['BMI']\n",
    "y = eda_dataset[eda_dataset['Gender']=='Female']['BMI']\n",
    "plt.hist([x, y],label=['Male','Female'])\n",
    "plt.legend(fontsize=13)\n",
    "plt.show()"
   ]
  },
  {
   "cell_type": "markdown",
   "id": "ce7d3b8e",
   "metadata": {},
   "source": [
    "From this graph, female patients tend to have higher BMI than male patients\n",
    "\n",
    "通过该表，可以明显看出数据集中女性观测的BMI高于男性观测的BMI"
   ]
  },
  {
   "cell_type": "code",
   "execution_count": 47,
   "id": "c3d73ab7",
   "metadata": {},
   "outputs": [
    {
     "data": {
      "image/png": "[encoded data removed]",
      "text/plain": [
       "<Figure size 1500x800 with 1 Axes>"
      ]
     },
     "metadata": {},
     "output_type": "display_data"
    }
   ],
   "source": [
    "plt.figure(figsize=(15,8))\n",
    "x = eda_dataset[eda_dataset['Diabetic']==0.0]['Sleep']\n",
    "y = eda_dataset[eda_dataset['Diabetic']==1.0]['Sleep']\n",
    "plt.hist([x, y],label=['not diabetic','diabetic'])\n",
    "plt.legend(fontsize=13)\n",
    "plt.show()"
   ]
  },
  {
   "cell_type": "markdown",
   "id": "c13ad496",
   "metadata": {},
   "source": [
    "No evident trend between time of sleep and contracting diabetes, amount of sleep follows a Gaussian distribution\n",
    "\n",
    "通过该表，反映出糖尿病确诊与睡眠时间没有明显的联系"
   ]
  },
  {
   "cell_type": "code",
   "execution_count": 48,
   "id": "45e9066c",
   "metadata": {},
   "outputs": [
    {
     "data": {
      "text/plain": [
       "<AxesSubplot: xlabel='Sleep', ylabel='Smoking'>"
      ]
     },
     "execution_count": 48,
     "metadata": {},
     "output_type": "execute_result"
    },
    {
     "data": {
      "image/png": "[encoded data removed]",
      "text/plain": [
       "<Figure size 1500x800 with 1 Axes>"
      ]
     },
     "metadata": {},
     "output_type": "display_data"
    }
   ],
   "source": [
    "plt.figure(figsize=(15,8))\n",
    "sns.boxplot(data = eda_dataset, x='Sleep', y='Smoking', hue = \"Alcohol\")"
   ]
  },
  {
   "cell_type": "markdown",
   "id": "1947b97f",
   "metadata": {},
   "source": [
    "For amount of sleeping per day, smoking and alcohol are not evident indicators, although for those who don't smoke, the sleeping time tends to be more densly packed for the group which drinks alcohol. But for those who smoke, the sleeping time is more densly packed for the group that doesn't drink alcohol.\n",
    "\n",
    "将数据集分为吸烟与不吸烟两组，所有不吸烟的测试参与者中，不饮酒者的睡眠时间波动相比饮酒者更大，所有吸烟的测试参与这种，饮酒者的睡眠时间相比不饮酒者波动更大"
   ]
  },
  {
   "cell_type": "code",
   "execution_count": 49,
   "id": "f5ae0a4f",
   "metadata": {},
   "outputs": [
    {
     "data": {
      "text/plain": [
       "<AxesSubplot: xlabel='Sleep', ylabel='JunkFood'>"
      ]
     },
     "execution_count": 49,
     "metadata": {},
     "output_type": "execute_result"
    },
    {
     "data": {
      "image/png": "[encoded data removed]",
      "text/plain": [
       "<Figure size 1500x800 with 1 Axes>"
      ]
     },
     "metadata": {},
     "output_type": "display_data"
    }
   ],
   "source": [
    "plt.figure(figsize=(15,8))\n",
    "sns.boxplot(data = eda_dataset, x='Sleep', y='JunkFood', hue = \"PhysicallyActive\")\n",
    "# For patients with different frequency of eating Junkfood, their sleeping time also follow different trends. For those who only have junkfood "
   ]
  },
  {
   "cell_type": "markdown",
   "id": "7d33b6eb",
   "metadata": {},
   "source": [
    "For patients with different frequency of eating Junkfood, their sleeping time also follow different trends. \n",
    "\n",
    "For those who only have junkfood occationally, no matter how much time they spend of physical exercises, the mean value of sleeping time is the same, but those who exercise more tend to have more sleep from the whisker. \n",
    "\n",
    "For those who often eat Junkfood, people who exercise more tend to sleep less.\n",
    "\n",
    "For those who always eat Junkfood, people who exercise 0.5 to 1 hour per day sleep more than people who exercise less then 0.5 hour per day, however, people who exercise more than 1 hour per day sleep less than the two previous groups.\n",
    "\n",
    "将数据根据不同的垃圾食品摄入频率，日平均运动量进行分组，各组的睡眠时间波动也不相同"
   ]
  },
  {
   "cell_type": "code",
   "execution_count": 50,
   "id": "99ecf626",
   "metadata": {},
   "outputs": [
    {
     "data": {
      "text/plain": [
       "<AxesSubplot: xlabel='BPLevel', ylabel='count'>"
      ]
     },
     "execution_count": 50,
     "metadata": {},
     "output_type": "execute_result"
    },
    {
     "data": {
      "image/png": "[encoded data removed]",
      "text/plain": [
       "<Figure size 1500x800 with 1 Axes>"
      ]
     },
     "metadata": {},
     "output_type": "display_data"
    }
   ],
   "source": [
    "diabetes2 = pd.read_csv('diabetes_dataset__2019.csv')\n",
    "diabetes2['BPLevel'] = diabetes2['BPLevel'].apply(lowerupper)\n",
    "diabetes2['Diabetic'] = diabetes2['Diabetic'].apply(lowerupper2)\n",
    "plt.figure(figsize=(15,8))\n",
    "sns.countplot(x='BPLevel', data=diabetes2, hue='Diabetic',order=['low','normal','high'])\n",
    "# People with higher bloodpressure tend to be more prone in contracting diabetes"
   ]
  },
  {
   "cell_type": "markdown",
   "id": "f24b15ca",
   "metadata": {},
   "source": [
    "People with higher bloodpressure tend to be more prone in contracting diabetes."
   ]
  },
  {
   "cell_type": "markdown",
   "id": "c1970214",
   "metadata": {},
   "source": [
    "Summarizing the outcome of DEA together, we see some trends between multiple predictors, however, given most predictors are categorical, not much information about correlaciton cen be yielded.\n",
    "\n",
    "Firstly, female patients generally have higher BMI than male patients.\n",
    "\n",
    "Secondly, time of sleep is not a significant factor affecting the risk of contracting Diabetes. \n",
    "\n",
    "For different populations with different life style and diets, their sleeping time varies as well.\n",
    "\n",
    "Lastly, higher blood pressure level leads to higher risk of contracting diabetes.\n",
    "\n",
    "From the EDA part we found some interesting but not necessarily, inspiring trends, here, we start to actually train machine learning models that help us effectively predict the risk of contracting diabetes for new patients."
   ]
  },
  {
   "cell_type": "markdown",
   "id": "6ee3282f",
   "metadata": {},
   "source": [
    "# MACHINE LEARNING MODEL TRAINING\n",
    "\n",
    "# 机器学习模型训练"
   ]
  },
  {
   "cell_type": "markdown",
   "id": "73e35537",
   "metadata": {},
   "source": [
    "# Train-test split\n",
    "\n",
    "# 训练集/测试集 分割"
   ]
  },
  {
   "cell_type": "code",
   "execution_count": 185,
   "id": "e7c95840",
   "metadata": {},
   "outputs": [],
   "source": [
    "from sklearn.model_selection import train_test_split\n",
    "from sklearn.linear_model import LogisticRegression\n",
    "from sklearn.neighbors import KNeighborsClassifier\n",
    "from sklearn.tree import DecisionTreeClassifier\n",
    "from sklearn.ensemble import RandomForestClassifier\n",
    "from sklearn import metrics\n",
    "from sklearn.metrics import classification_report\n",
    "from sklearn.metrics import confusion_matrix\n",
    "from sklearn.model_selection import GridSearchCV\n",
    "from imblearn.over_sampling import SMOTENC\n",
    "from sklearn.decomposition import PCA"
   ]
  },
  {
   "cell_type": "markdown",
   "id": "c289d010",
   "metadata": {},
   "source": [
    "We rearrage our dataset to cluster catagorical data together and numerical data together"
   ]
  },
  {
   "cell_type": "code",
   "execution_count": 53,
   "id": "97cb50a5",
   "metadata": {},
   "outputs": [],
   "source": [
    "diabetes3 = diabetes[['BMI','Sleep','SoundSleep','pregnancies']]\n",
    "diabetes.drop(['BMI','Sleep','SoundSleep','pregnancies'], axis=1, inplace=True)"
   ]
  },
  {
   "cell_type": "code",
   "execution_count": 54,
   "id": "967ef063",
   "metadata": {},
   "outputs": [
    {
     "data": {
      "text/html": [
       "<div>\n",
       "<style scoped>\n",
       "    .dataframe tbody tr th:only-of-type {\n",
       "        vertical-align: middle;\n",
       "    }\n",
       "\n",
       "    .dataframe tbody tr th {\n",
       "        vertical-align: top;\n",
       "    }\n",
       "\n",
       "    .dataframe thead th {\n",
       "        text-align: right;\n",
       "    }\n",
       "</style>\n",
       "<table border=\"1\" class=\"dataframe\">\n",
       "  <thead>\n",
       "    <tr style=\"text-align: right;\">\n",
       "      <th></th>\n",
       "      <th>Gender</th>\n",
       "      <th>Family_Diabetes</th>\n",
       "      <th>Smoking</th>\n",
       "      <th>Alcohol</th>\n",
       "      <th>RegularMedicine</th>\n",
       "      <th>Pdiabetes</th>\n",
       "      <th>UriationFreq</th>\n",
       "      <th>Diabetic</th>\n",
       "      <th>low BP</th>\n",
       "      <th>normal BP</th>\n",
       "      <th>no stress</th>\n",
       "      <th>occasional stress</th>\n",
       "      <th>healthy diet</th>\n",
       "      <th>unhealthy diet</th>\n",
       "      <th>0.5+ hr exercise</th>\n",
       "      <th>0 hr exercise</th>\n",
       "      <th>1+ hr exercise</th>\n",
       "      <th>50-59</th>\n",
       "      <th>60 or older</th>\n",
       "      <th>less than 40</th>\n",
       "      <th>high stress</th>\n",
       "      <th>very unhealthy diet</th>\n",
       "      <th>BMI</th>\n",
       "      <th>Sleep</th>\n",
       "      <th>SoundSleep</th>\n",
       "      <th>pregnancies</th>\n",
       "    </tr>\n",
       "  </thead>\n",
       "  <tbody>\n",
       "    <tr>\n",
       "      <th>0</th>\n",
       "      <td>0</td>\n",
       "      <td>0</td>\n",
       "      <td>0</td>\n",
       "      <td>0</td>\n",
       "      <td>0.0</td>\n",
       "      <td>0</td>\n",
       "      <td>0</td>\n",
       "      <td>0.0</td>\n",
       "      <td>0</td>\n",
       "      <td>0</td>\n",
       "      <td>0</td>\n",
       "      <td>1</td>\n",
       "      <td>1</td>\n",
       "      <td>0</td>\n",
       "      <td>0</td>\n",
       "      <td>0</td>\n",
       "      <td>1</td>\n",
       "      <td>1</td>\n",
       "      <td>0</td>\n",
       "      <td>0</td>\n",
       "      <td>0</td>\n",
       "      <td>0</td>\n",
       "      <td>39.0</td>\n",
       "      <td>8</td>\n",
       "      <td>6</td>\n",
       "      <td>0.0</td>\n",
       "    </tr>\n",
       "    <tr>\n",
       "      <th>1</th>\n",
       "      <td>0</td>\n",
       "      <td>0</td>\n",
       "      <td>0</td>\n",
       "      <td>0</td>\n",
       "      <td>1.0</td>\n",
       "      <td>0</td>\n",
       "      <td>0</td>\n",
       "      <td>0.0</td>\n",
       "      <td>0</td>\n",
       "      <td>1</td>\n",
       "      <td>0</td>\n",
       "      <td>1</td>\n",
       "      <td>0</td>\n",
       "      <td>0</td>\n",
       "      <td>0</td>\n",
       "      <td>0</td>\n",
       "      <td>0</td>\n",
       "      <td>1</td>\n",
       "      <td>0</td>\n",
       "      <td>0</td>\n",
       "      <td>0</td>\n",
       "      <td>1</td>\n",
       "      <td>28.0</td>\n",
       "      <td>8</td>\n",
       "      <td>6</td>\n",
       "      <td>0.0</td>\n",
       "    </tr>\n",
       "    <tr>\n",
       "      <th>2</th>\n",
       "      <td>0</td>\n",
       "      <td>0</td>\n",
       "      <td>0</td>\n",
       "      <td>0</td>\n",
       "      <td>0.0</td>\n",
       "      <td>0</td>\n",
       "      <td>0</td>\n",
       "      <td>0.0</td>\n",
       "      <td>0</td>\n",
       "      <td>1</td>\n",
       "      <td>0</td>\n",
       "      <td>1</td>\n",
       "      <td>1</td>\n",
       "      <td>0</td>\n",
       "      <td>0</td>\n",
       "      <td>0</td>\n",
       "      <td>1</td>\n",
       "      <td>0</td>\n",
       "      <td>0</td>\n",
       "      <td>0</td>\n",
       "      <td>0</td>\n",
       "      <td>0</td>\n",
       "      <td>24.0</td>\n",
       "      <td>6</td>\n",
       "      <td>6</td>\n",
       "      <td>0.0</td>\n",
       "    </tr>\n",
       "    <tr>\n",
       "      <th>3</th>\n",
       "      <td>0</td>\n",
       "      <td>0</td>\n",
       "      <td>0</td>\n",
       "      <td>0</td>\n",
       "      <td>0.0</td>\n",
       "      <td>0</td>\n",
       "      <td>0</td>\n",
       "      <td>0.0</td>\n",
       "      <td>0</td>\n",
       "      <td>1</td>\n",
       "      <td>0</td>\n",
       "      <td>1</td>\n",
       "      <td>1</td>\n",
       "      <td>0</td>\n",
       "      <td>0</td>\n",
       "      <td>0</td>\n",
       "      <td>1</td>\n",
       "      <td>1</td>\n",
       "      <td>0</td>\n",
       "      <td>0</td>\n",
       "      <td>0</td>\n",
       "      <td>0</td>\n",
       "      <td>23.0</td>\n",
       "      <td>8</td>\n",
       "      <td>6</td>\n",
       "      <td>0.0</td>\n",
       "    </tr>\n",
       "    <tr>\n",
       "      <th>4</th>\n",
       "      <td>0</td>\n",
       "      <td>0</td>\n",
       "      <td>0</td>\n",
       "      <td>0</td>\n",
       "      <td>0.0</td>\n",
       "      <td>0</td>\n",
       "      <td>0</td>\n",
       "      <td>0.0</td>\n",
       "      <td>0</td>\n",
       "      <td>1</td>\n",
       "      <td>0</td>\n",
       "      <td>1</td>\n",
       "      <td>1</td>\n",
       "      <td>0</td>\n",
       "      <td>0</td>\n",
       "      <td>0</td>\n",
       "      <td>0</td>\n",
       "      <td>0</td>\n",
       "      <td>0</td>\n",
       "      <td>0</td>\n",
       "      <td>0</td>\n",
       "      <td>0</td>\n",
       "      <td>27.0</td>\n",
       "      <td>8</td>\n",
       "      <td>8</td>\n",
       "      <td>0.0</td>\n",
       "    </tr>\n",
       "  </tbody>\n",
       "</table>\n",
       "</div>"
      ],
      "text/plain": [
       "   Gender  Family_Diabetes  Smoking  Alcohol  RegularMedicine  Pdiabetes  \\\n",
       "0       0                0        0        0              0.0          0   \n",
       "1       0                0        0        0              1.0          0   \n",
       "2       0                0        0        0              0.0          0   \n",
       "3       0                0        0        0              0.0          0   \n",
       "4       0                0        0        0              0.0          0   \n",
       "\n",
       "   UriationFreq  Diabetic  low BP  normal BP  no stress  occasional stress  \\\n",
       "0             0       0.0       0          0          0                  1   \n",
       "1             0       0.0       0          1          0                  1   \n",
       "2             0       0.0       0          1          0                  1   \n",
       "3             0       0.0       0          1          0                  1   \n",
       "4             0       0.0       0          1          0                  1   \n",
       "\n",
       "   healthy diet  unhealthy diet  0.5+ hr exercise  0 hr exercise  \\\n",
       "0             1               0                 0              0   \n",
       "1             0               0                 0              0   \n",
       "2             1               0                 0              0   \n",
       "3             1               0                 0              0   \n",
       "4             1               0                 0              0   \n",
       "\n",
       "   1+ hr exercise  50-59  60 or older  less than 40  high stress  \\\n",
       "0               1      1            0             0            0   \n",
       "1               0      1            0             0            0   \n",
       "2               1      0            0             0            0   \n",
       "3               1      1            0             0            0   \n",
       "4               0      0            0             0            0   \n",
       "\n",
       "   very unhealthy diet   BMI  Sleep  SoundSleep  pregnancies  \n",
       "0                    0  39.0      8           6          0.0  \n",
       "1                    1  28.0      8           6          0.0  \n",
       "2                    0  24.0      6           6          0.0  \n",
       "3                    0  23.0      8           6          0.0  \n",
       "4                    0  27.0      8           8          0.0  "
      ]
     },
     "execution_count": 54,
     "metadata": {},
     "output_type": "execute_result"
    }
   ],
   "source": [
    "diabetes = pd.concat([diabetes,diabetes3],axis = 1)\n",
    "diabetes.head()"
   ]
  },
  {
   "cell_type": "code",
   "execution_count": 258,
   "id": "34978684",
   "metadata": {},
   "outputs": [],
   "source": [
    "X = diabetes.drop('Diabetic', axis=1)\n",
    "y = diabetes['Diabetic']"
   ]
  },
  {
   "cell_type": "markdown",
   "id": "f2c985c5",
   "metadata": {},
   "source": [
    "Here we set seed = 3 to ensure the replicability of the outcome"
   ]
  },
  {
   "cell_type": "code",
   "execution_count": 260,
   "id": "bb999cae",
   "metadata": {},
   "outputs": [],
   "source": [
    "X_train, X_test, y_train, y_test = train_test_split(X, y, test_size = 0.3, random_state = 3, stratify= y)"
   ]
  },
  {
   "cell_type": "markdown",
   "id": "5ffc6642",
   "metadata": {},
   "source": [
    "This is our initial split of training and testing data, we stratify the split with respect to y so that the training data and testing data both have approximately the same portion of diabetic and non-diabetic patients.\n",
    "\n",
    "进行 训练集/测试集分割时，根据变量“确诊糖尿病与否”进行分割，保证训练集与测试集中糖尿病患者占比相似"
   ]
  },
  {
   "cell_type": "code",
   "execution_count": 261,
   "id": "a88ac219",
   "metadata": {},
   "outputs": [],
   "source": [
    "X_train, X_vali, y_train, y_vali = train_test_split(X_train, y_train, test_size = 0.25, random_state = 3, stratify = y_train)"
   ]
  },
  {
   "cell_type": "markdown",
   "id": "b4b60f05",
   "metadata": {},
   "source": [
    "This is our split for training and validation data\n",
    "\n",
    "在已有的训练集中进行一次 训练集/验证集 分割，使用验证集对模型准确度进行预测"
   ]
  },
  {
   "cell_type": "code",
   "execution_count": 262,
   "id": "f4634e5d",
   "metadata": {},
   "outputs": [
    {
     "name": "stdout",
     "output_type": "stream",
     "text": [
      "0.0    356\n",
      "1.0    139\n",
      "Name: Diabetic, dtype: int64\n",
      "0.0    120\n",
      "1.0     46\n",
      "Name: Diabetic, dtype: int64\n",
      "0.0    204\n",
      "1.0     80\n",
      "Name: Diabetic, dtype: int64\n"
     ]
    }
   ],
   "source": [
    "print(y_train.value_counts())\n",
    "print(y_vali.value_counts())\n",
    "print(y_test.value_counts())"
   ]
  },
  {
   "cell_type": "markdown",
   "id": "605c10b7",
   "metadata": {},
   "source": [
    "It looks like our data is imbalanced... we will use SMOTE algorithm to oversample positive test cases\n",
    "\n",
    "训练集中，糖尿病患者与非糖尿病患者比例悬殊，因此需要使用smote复制糖尿病患者数据，平衡比例"
   ]
  },
  {
   "cell_type": "code",
   "execution_count": 61,
   "id": "316793fa",
   "metadata": {},
   "outputs": [],
   "source": [
    "def smote_data(X, y):\n",
    "    smotenc = SMOTENC(sampling_strategy = 1.0, categorical_features = list(range(0,22)), random_state = 3)\n",
    "    X_smote, y_smote = smotenc.fit_resample(X, y)\n",
    "    return X_smote, y_smote\n",
    "X_train_smote, y_train_smote = smote_data(X_train, y_train)"
   ]
  },
  {
   "cell_type": "markdown",
   "id": "eb5238f3",
   "metadata": {},
   "source": [
    "This step is identical to \"step_upsample(diabetic, over_ratio = 1)\" in R.\n",
    "\n",
    "Notice that we defined a pair of new sets: X_train_smote and Y_train_smote, therefore we have a new balanced training set while the initial imbalanced training set is preserved.\n",
    "\n",
    "we don't want to run SMOTE algorithm on testing data, as doing so will alter the actual data and hus result in an inaccurate view of model performance"
   ]
  },
  {
   "cell_type": "code",
   "execution_count": 62,
   "id": "9d0842c7",
   "metadata": {},
   "outputs": [
    {
     "name": "stdout",
     "output_type": "stream",
     "text": [
      "0.0    353\n",
      "1.0    353\n",
      "Name: Diabetic, dtype: int64\n"
     ]
    }
   ],
   "source": [
    "print(y_train_smote.value_counts())"
   ]
  },
  {
   "cell_type": "markdown",
   "id": "0884b5b5",
   "metadata": {},
   "source": [
    "# LOGISTIC REGRESSION\n",
    "\n",
    "# 逻辑回归\n",
    "\n",
    "The first model we play with is the classic Logistic Regression, at first we fit the model with the imbalanced training set"
   ]
  },
  {
   "cell_type": "code",
   "execution_count": 187,
   "id": "67edaa33",
   "metadata": {},
   "outputs": [
    {
     "data": {
      "text/html": [
       "<style>#sk-container-id-24 {color: black;background-color: white;}#sk-container-id-24 pre{padding: 0;}#sk-container-id-24 div.sk-toggleable {background-color: white;}#sk-container-id-24 label.sk-toggleable__label {cursor: pointer;display: block;width: 100%;margin-bottom: 0;padding: 0.3em;box-sizing: border-box;text-align: center;}#sk-container-id-24 label.sk-toggleable__label-arrow:before {content: \"▸\";float: left;margin-right: 0.25em;color: #696969;}#sk-container-id-24 label.sk-toggleable__label-arrow:hover:before {color: black;}#sk-container-id-24 div.sk-estimator:hover label.sk-toggleable__label-arrow:before {color: black;}#sk-container-id-24 div.sk-toggleable__content {max-height: 0;max-width: 0;overflow: hidden;text-align: left;background-color: #f0f8ff;}#sk-container-id-24 div.sk-toggleable__content pre {margin: 0.2em;color: black;border-radius: 0.25em;background-color: #f0f8ff;}#sk-container-id-24 input.sk-toggleable__control:checked~div.sk-toggleable__content {max-height: 200px;max-width: 100%;overflow: auto;}#sk-container-id-24 input.sk-toggleable__control:checked~label.sk-toggleable__label-arrow:before {content: \"▾\";}#sk-container-id-24 div.sk-estimator input.sk-toggleable__control:checked~label.sk-toggleable__label {background-color: #d4ebff;}#sk-container-id-24 div.sk-label input.sk-toggleable__control:checked~label.sk-toggleable__label {background-color: #d4ebff;}#sk-container-id-24 input.sk-hidden--visually {border: 0;clip: rect(1px 1px 1px 1px);clip: rect(1px, 1px, 1px, 1px);height: 1px;margin: -1px;overflow: hidden;padding: 0;position: absolute;width: 1px;}#sk-container-id-24 div.sk-estimator {font-family: monospace;background-color: #f0f8ff;border: 1px dotted black;border-radius: 0.25em;box-sizing: border-box;margin-bottom: 0.5em;}#sk-container-id-24 div.sk-estimator:hover {background-color: #d4ebff;}#sk-container-id-24 div.sk-parallel-item::after {content: \"\";width: 100%;border-bottom: 1px solid gray;flex-grow: 1;}#sk-container-id-24 div.sk-label:hover label.sk-toggleable__label {background-color: #d4ebff;}#sk-container-id-24 div.sk-serial::before {content: \"\";position: absolute;border-left: 1px solid gray;box-sizing: border-box;top: 0;bottom: 0;left: 50%;z-index: 0;}#sk-container-id-24 div.sk-serial {display: flex;flex-direction: column;align-items: center;background-color: white;padding-right: 0.2em;padding-left: 0.2em;position: relative;}#sk-container-id-24 div.sk-item {position: relative;z-index: 1;}#sk-container-id-24 div.sk-parallel {display: flex;align-items: stretch;justify-content: center;background-color: white;position: relative;}#sk-container-id-24 div.sk-item::before, #sk-container-id-24 div.sk-parallel-item::before {content: \"\";position: absolute;border-left: 1px solid gray;box-sizing: border-box;top: 0;bottom: 0;left: 50%;z-index: -1;}#sk-container-id-24 div.sk-parallel-item {display: flex;flex-direction: column;z-index: 1;position: relative;background-color: white;}#sk-container-id-24 div.sk-parallel-item:first-child::after {align-self: flex-end;width: 50%;}#sk-container-id-24 div.sk-parallel-item:last-child::after {align-self: flex-start;width: 50%;}#sk-container-id-24 div.sk-parallel-item:only-child::after {width: 0;}#sk-container-id-24 div.sk-dashed-wrapped {border: 1px dashed gray;margin: 0 0.4em 0.5em 0.4em;box-sizing: border-box;padding-bottom: 0.4em;background-color: white;}#sk-container-id-24 div.sk-label label {font-family: monospace;font-weight: bold;display: inline-block;line-height: 1.2em;}#sk-container-id-24 div.sk-label-container {text-align: center;}#sk-container-id-24 div.sk-container {/* jupyter's `normalize.less` sets `[hidden] { display: none; }` but bootstrap.min.css set `[hidden] { display: none !important; }` so we also need the `!important` here to be able to override the default hidden behavior on the sphinx rendered scikit-learn.org. See: https://github.com/scikit-learn/scikit-learn/issues/21755 */display: inline-block !important;position: relative;}#sk-container-id-24 div.sk-text-repr-fallback {display: none;}</style><div id=\"sk-container-id-24\" class=\"sk-top-container\"><div class=\"sk-text-repr-fallback\"><pre>LogisticRegression(solver=&#x27;liblinear&#x27;)</pre><b>In a Jupyter environment, please rerun this cell to show the HTML representation or trust the notebook. <br />On GitHub, the HTML representation is unable to render, please try loading this page with nbviewer.org.</b></div><div class=\"sk-container\" hidden><div class=\"sk-item\"><div class=\"sk-estimator sk-toggleable\"><input class=\"sk-toggleable__control sk-hidden--visually\" id=\"sk-estimator-id-36\" type=\"checkbox\" checked><label for=\"sk-estimator-id-36\" class=\"sk-toggleable__label sk-toggleable__label-arrow\">LogisticRegression</label><div class=\"sk-toggleable__content\"><pre>LogisticRegression(solver=&#x27;liblinear&#x27;)</pre></div></div></div></div></div>"
      ],
      "text/plain": [
       "LogisticRegression(solver='liblinear')"
      ]
     },
     "execution_count": 187,
     "metadata": {},
     "output_type": "execute_result"
    }
   ],
   "source": [
    "logmodel = LogisticRegression(solver='liblinear')\n",
    "logmodel.fit(X_train,y_train)"
   ]
  },
  {
   "cell_type": "code",
   "execution_count": 188,
   "id": "6dc863e0",
   "metadata": {},
   "outputs": [],
   "source": [
    "pred = logmodel.predict(X_vali)"
   ]
  },
  {
   "cell_type": "markdown",
   "id": "87ba5c91",
   "metadata": {},
   "source": [
    "Now we use the precision and recall to evaluate the performance of our model."
   ]
  },
  {
   "cell_type": "code",
   "execution_count": 189,
   "id": "05410251",
   "metadata": {},
   "outputs": [
    {
     "name": "stdout",
     "output_type": "stream",
     "text": [
      "              precision    recall  f1-score   support\n",
      "\n",
      "         0.0       0.90      0.94      0.92       116\n",
      "         1.0       0.84      0.76      0.80        50\n",
      "\n",
      "    accuracy                           0.89       166\n",
      "   macro avg       0.87      0.85      0.86       166\n",
      "weighted avg       0.88      0.89      0.88       166\n",
      "\n"
     ]
    }
   ],
   "source": [
    "print(classification_report(y_vali,pred))"
   ]
  },
  {
   "cell_type": "code",
   "execution_count": 192,
   "id": "5a72cac4",
   "metadata": {},
   "outputs": [],
   "source": [
    "fpr, tpr, thresholds = metrics.roc_curve(y_vali, pred)"
   ]
  },
  {
   "cell_type": "code",
   "execution_count": 193,
   "id": "b33f3c4b",
   "metadata": {},
   "outputs": [
    {
     "data": {
      "text/plain": [
       "0.8498275862068966"
      ]
     },
     "execution_count": 193,
     "metadata": {},
     "output_type": "execute_result"
    }
   ],
   "source": [
    "metrics.auc(fpr, tpr)"
   ]
  },
  {
   "cell_type": "markdown",
   "id": "4437457f",
   "metadata": {},
   "source": [
    "This is the ROC-AUC value of the model\n",
    "\n",
    "这是该模型的概率曲线面积（ROC-AUC）数值"
   ]
  },
  {
   "cell_type": "markdown",
   "id": "0005b474",
   "metadata": {},
   "source": [
    "Now we fit the model again with the balanced training set"
   ]
  },
  {
   "cell_type": "code",
   "execution_count": 198,
   "id": "a9b399b7",
   "metadata": {},
   "outputs": [
    {
     "data": {
      "text/html": [
       "<style>#sk-container-id-26 {color: black;background-color: white;}#sk-container-id-26 pre{padding: 0;}#sk-container-id-26 div.sk-toggleable {background-color: white;}#sk-container-id-26 label.sk-toggleable__label {cursor: pointer;display: block;width: 100%;margin-bottom: 0;padding: 0.3em;box-sizing: border-box;text-align: center;}#sk-container-id-26 label.sk-toggleable__label-arrow:before {content: \"▸\";float: left;margin-right: 0.25em;color: #696969;}#sk-container-id-26 label.sk-toggleable__label-arrow:hover:before {color: black;}#sk-container-id-26 div.sk-estimator:hover label.sk-toggleable__label-arrow:before {color: black;}#sk-container-id-26 div.sk-toggleable__content {max-height: 0;max-width: 0;overflow: hidden;text-align: left;background-color: #f0f8ff;}#sk-container-id-26 div.sk-toggleable__content pre {margin: 0.2em;color: black;border-radius: 0.25em;background-color: #f0f8ff;}#sk-container-id-26 input.sk-toggleable__control:checked~div.sk-toggleable__content {max-height: 200px;max-width: 100%;overflow: auto;}#sk-container-id-26 input.sk-toggleable__control:checked~label.sk-toggleable__label-arrow:before {content: \"▾\";}#sk-container-id-26 div.sk-estimator input.sk-toggleable__control:checked~label.sk-toggleable__label {background-color: #d4ebff;}#sk-container-id-26 div.sk-label input.sk-toggleable__control:checked~label.sk-toggleable__label {background-color: #d4ebff;}#sk-container-id-26 input.sk-hidden--visually {border: 0;clip: rect(1px 1px 1px 1px);clip: rect(1px, 1px, 1px, 1px);height: 1px;margin: -1px;overflow: hidden;padding: 0;position: absolute;width: 1px;}#sk-container-id-26 div.sk-estimator {font-family: monospace;background-color: #f0f8ff;border: 1px dotted black;border-radius: 0.25em;box-sizing: border-box;margin-bottom: 0.5em;}#sk-container-id-26 div.sk-estimator:hover {background-color: #d4ebff;}#sk-container-id-26 div.sk-parallel-item::after {content: \"\";width: 100%;border-bottom: 1px solid gray;flex-grow: 1;}#sk-container-id-26 div.sk-label:hover label.sk-toggleable__label {background-color: #d4ebff;}#sk-container-id-26 div.sk-serial::before {content: \"\";position: absolute;border-left: 1px solid gray;box-sizing: border-box;top: 0;bottom: 0;left: 50%;z-index: 0;}#sk-container-id-26 div.sk-serial {display: flex;flex-direction: column;align-items: center;background-color: white;padding-right: 0.2em;padding-left: 0.2em;position: relative;}#sk-container-id-26 div.sk-item {position: relative;z-index: 1;}#sk-container-id-26 div.sk-parallel {display: flex;align-items: stretch;justify-content: center;background-color: white;position: relative;}#sk-container-id-26 div.sk-item::before, #sk-container-id-26 div.sk-parallel-item::before {content: \"\";position: absolute;border-left: 1px solid gray;box-sizing: border-box;top: 0;bottom: 0;left: 50%;z-index: -1;}#sk-container-id-26 div.sk-parallel-item {display: flex;flex-direction: column;z-index: 1;position: relative;background-color: white;}#sk-container-id-26 div.sk-parallel-item:first-child::after {align-self: flex-end;width: 50%;}#sk-container-id-26 div.sk-parallel-item:last-child::after {align-self: flex-start;width: 50%;}#sk-container-id-26 div.sk-parallel-item:only-child::after {width: 0;}#sk-container-id-26 div.sk-dashed-wrapped {border: 1px dashed gray;margin: 0 0.4em 0.5em 0.4em;box-sizing: border-box;padding-bottom: 0.4em;background-color: white;}#sk-container-id-26 div.sk-label label {font-family: monospace;font-weight: bold;display: inline-block;line-height: 1.2em;}#sk-container-id-26 div.sk-label-container {text-align: center;}#sk-container-id-26 div.sk-container {/* jupyter's `normalize.less` sets `[hidden] { display: none; }` but bootstrap.min.css set `[hidden] { display: none !important; }` so we also need the `!important` here to be able to override the default hidden behavior on the sphinx rendered scikit-learn.org. See: https://github.com/scikit-learn/scikit-learn/issues/21755 */display: inline-block !important;position: relative;}#sk-container-id-26 div.sk-text-repr-fallback {display: none;}</style><div id=\"sk-container-id-26\" class=\"sk-top-container\"><div class=\"sk-text-repr-fallback\"><pre>LogisticRegression(solver=&#x27;liblinear&#x27;)</pre><b>In a Jupyter environment, please rerun this cell to show the HTML representation or trust the notebook. <br />On GitHub, the HTML representation is unable to render, please try loading this page with nbviewer.org.</b></div><div class=\"sk-container\" hidden><div class=\"sk-item\"><div class=\"sk-estimator sk-toggleable\"><input class=\"sk-toggleable__control sk-hidden--visually\" id=\"sk-estimator-id-38\" type=\"checkbox\" checked><label for=\"sk-estimator-id-38\" class=\"sk-toggleable__label sk-toggleable__label-arrow\">LogisticRegression</label><div class=\"sk-toggleable__content\"><pre>LogisticRegression(solver=&#x27;liblinear&#x27;)</pre></div></div></div></div></div>"
      ],
      "text/plain": [
       "LogisticRegression(solver='liblinear')"
      ]
     },
     "execution_count": 198,
     "metadata": {},
     "output_type": "execute_result"
    }
   ],
   "source": [
    "logmodel2 = LogisticRegression(solver='liblinear')\n",
    "logmodel2.fit(X_train_smote,y_train_smote)"
   ]
  },
  {
   "cell_type": "code",
   "execution_count": 199,
   "id": "4248c488",
   "metadata": {},
   "outputs": [],
   "source": [
    "pred1 = logmodel2.predict(X_vali)"
   ]
  },
  {
   "cell_type": "code",
   "execution_count": 200,
   "id": "4b56ee8f",
   "metadata": {},
   "outputs": [
    {
     "name": "stdout",
     "output_type": "stream",
     "text": [
      "              precision    recall  f1-score   support\n",
      "\n",
      "         0.0       0.91      0.91      0.91       116\n",
      "         1.0       0.80      0.78      0.79        50\n",
      "\n",
      "    accuracy                           0.87       166\n",
      "   macro avg       0.85      0.85      0.85       166\n",
      "weighted avg       0.87      0.87      0.87       166\n",
      "\n"
     ]
    }
   ],
   "source": [
    "print(classification_report(y_vali,pred1))"
   ]
  },
  {
   "cell_type": "code",
   "execution_count": 201,
   "id": "59fe9f2b",
   "metadata": {},
   "outputs": [
    {
     "data": {
      "text/plain": [
       "0.8468965517241379"
      ]
     },
     "execution_count": 201,
     "metadata": {},
     "output_type": "execute_result"
    }
   ],
   "source": [
    "fpr, tpr, thresholds = metrics.roc_curve(y_vali, pred1)\n",
    "metrics.auc(fpr, tpr)"
   ]
  },
  {
   "cell_type": "markdown",
   "id": "d773b049",
   "metadata": {},
   "source": [
    "This is the AUC-ROC value of the model\n",
    "\n",
    "该数值为模型对应的AUC-ROC数值"
   ]
  },
  {
   "cell_type": "markdown",
   "id": "9f3800e1",
   "metadata": {},
   "source": [
    "# INTERPRETING OUR DATA\n",
    "\n",
    "# 模型表现评估\n",
    "\n",
    "For balanced training data\n",
    "\n",
    "Among all patients not contracting diabetes, 91% of those are correctly identifited by our model \n",
    "\n",
    "Among all patients contracting diabetes, 80% of those are correctly idenfitied by our model \n",
    "\n",
    "91% of those who did not contract diabetes were correctly identified (Among all those who are identified as not contracing diabetes)\n",
    "\n",
    "78% of those who did contract diabetes were correctly identified Among all those who are identified as contracing diabetes)\n",
    "\n",
    "The model has AUC_ROC area 0.8468965517241379 using balanced training data.\n",
    "\n",
    "针对平衡过的训练集，使用验证集进行测试\n",
    "\n",
    "91%的非糖尿病患者被成功分类为非糖尿病患者\n",
    "\n",
    "80%的糖尿病患者被成功识别\n",
    "\n",
    "所有被模型分类为非糖尿病患者的病人中，91%确实为非糖尿病患者\n",
    "\n",
    "所有被模型分类为糖尿病患者的病人中，78%确实为糖尿病患者\n",
    "\n",
    "模型的AUC-ROC数值为0.8468\n",
    "\n",
    "For imbalanced training data\n",
    "\n",
    "Among all patients not contracting diabetes, 90% of those are correctly identifited by our model \n",
    "\n",
    "Among all patients contracting diabetes, 84% of those are correctly idenfitied by our model \n",
    "\n",
    "94% of those who did not contract diabetes were correctly identified (Among all those who are identified as not contracing diabetes)\n",
    "\n",
    "76% of those who did contract diabetes were correctly identified (Among all those who are identified as contracing diabetes)\n",
    "\n",
    "The model has AUC_ROC area 0.8498275862068966 using imbalanced training data.\n",
    "\n",
    "针对平衡过的训练集，使用验证集进行测试\n",
    "\n",
    "90%的非糖尿病患者被成功分类为非糖尿病患者\n",
    "\n",
    "84%的糖尿病患者被成功识别\n",
    "\n",
    "所有被模型分类为非糖尿病患者的病人中，94%确实为非糖尿病患者\n",
    "\n",
    "所有被模型分类为糖尿病患者的病人中，76%确实为糖尿病患者\n",
    "\n",
    "模型的AUC-ROC数值为0.8498\n",
    "\n",
    "Both models have approximately the same performance\n",
    "\n",
    "Our model is overall strong, but could perhaps have improved performance in predicting positive cases for predicting diabetes. Here we will privliege higher RECALL over PRECISION, since we want to make sure that, among all patients identified as contracting diabetes, more of them actually do.\n",
    "\n",
    "The next step we can do is using gridsearch to identify best parameters for the model, that is, tuning parameters\n",
    "\n",
    "模型总体精度可以接受，但是本项目的目的在于提高针对糖尿病群体进行预测的准确度。\n",
    "\n",
    "使用平衡训练集与否对模型表现影响不明显，接下来，将使用穷举调参对模型精确度进行优化。"
   ]
  },
  {
   "cell_type": "code",
   "execution_count": 208,
   "id": "de66e1bd",
   "metadata": {},
   "outputs": [],
   "source": [
    "grid = {\n",
    "    'C': [1, 1/2, 1/3, 1/4, 1/5, 1/6, 1/7, 1/8, 1/9, 1/10],\n",
    "    'penalty': ['l1', 'l2']\n",
    "        }"
   ]
  },
  {
   "cell_type": "markdown",
   "id": "d4641cca",
   "metadata": {},
   "source": [
    "Here, we introduce two parameters, C and penalty, the parameter C , \"inverse of regulation strength\", is a float number representing \"how much we shall trust the training data\", to be more straightforward, it is the inverse of $\\lambda$ we have in Ridge and Lasso regressions. The parameter penalty represents what kind of regularized regression we are performing: l1 for ridge and l2 for lasso.\n",
    "\n",
    "Here we have 20 combinations of hyperparameters, $\\lambda$ ranges from 1 to 10, with two different penalties.\n",
    "\n",
    "针对逻辑回归的穷举调参包括两个参数：惩罚项设置与$\\lambda$值设置，惩罚项采用l1时，逻辑回归模型使用脊回归，采用l2时，逻辑回归模型采用Lasso回归，C对应的为回归模型中$\\lambda$的倒数，C越小，模型对各变量斜率的限制就越大"
   ]
  },
  {
   "cell_type": "code",
   "execution_count": 209,
   "id": "aa939857",
   "metadata": {},
   "outputs": [],
   "source": [
    "gs = GridSearchCV(estimator = LogisticRegression(solver='liblinear', random_state = 3), param_grid = grid, scoring = 'recall',\n",
    "                 refit = True, verbose = 1)"
   ]
  },
  {
   "cell_type": "code",
   "execution_count": 210,
   "id": "39105ef8",
   "metadata": {},
   "outputs": [
    {
     "name": "stdout",
     "output_type": "stream",
     "text": [
      "Fitting 5 folds for each of 20 candidates, totalling 100 fits\n"
     ]
    },
    {
     "data": {
      "text/html": [
       "<style>#sk-container-id-27 {color: black;background-color: white;}#sk-container-id-27 pre{padding: 0;}#sk-container-id-27 div.sk-toggleable {background-color: white;}#sk-container-id-27 label.sk-toggleable__label {cursor: pointer;display: block;width: 100%;margin-bottom: 0;padding: 0.3em;box-sizing: border-box;text-align: center;}#sk-container-id-27 label.sk-toggleable__label-arrow:before {content: \"▸\";float: left;margin-right: 0.25em;color: #696969;}#sk-container-id-27 label.sk-toggleable__label-arrow:hover:before {color: black;}#sk-container-id-27 div.sk-estimator:hover label.sk-toggleable__label-arrow:before {color: black;}#sk-container-id-27 div.sk-toggleable__content {max-height: 0;max-width: 0;overflow: hidden;text-align: left;background-color: #f0f8ff;}#sk-container-id-27 div.sk-toggleable__content pre {margin: 0.2em;color: black;border-radius: 0.25em;background-color: #f0f8ff;}#sk-container-id-27 input.sk-toggleable__control:checked~div.sk-toggleable__content {max-height: 200px;max-width: 100%;overflow: auto;}#sk-container-id-27 input.sk-toggleable__control:checked~label.sk-toggleable__label-arrow:before {content: \"▾\";}#sk-container-id-27 div.sk-estimator input.sk-toggleable__control:checked~label.sk-toggleable__label {background-color: #d4ebff;}#sk-container-id-27 div.sk-label input.sk-toggleable__control:checked~label.sk-toggleable__label {background-color: #d4ebff;}#sk-container-id-27 input.sk-hidden--visually {border: 0;clip: rect(1px 1px 1px 1px);clip: rect(1px, 1px, 1px, 1px);height: 1px;margin: -1px;overflow: hidden;padding: 0;position: absolute;width: 1px;}#sk-container-id-27 div.sk-estimator {font-family: monospace;background-color: #f0f8ff;border: 1px dotted black;border-radius: 0.25em;box-sizing: border-box;margin-bottom: 0.5em;}#sk-container-id-27 div.sk-estimator:hover {background-color: #d4ebff;}#sk-container-id-27 div.sk-parallel-item::after {content: \"\";width: 100%;border-bottom: 1px solid gray;flex-grow: 1;}#sk-container-id-27 div.sk-label:hover label.sk-toggleable__label {background-color: #d4ebff;}#sk-container-id-27 div.sk-serial::before {content: \"\";position: absolute;border-left: 1px solid gray;box-sizing: border-box;top: 0;bottom: 0;left: 50%;z-index: 0;}#sk-container-id-27 div.sk-serial {display: flex;flex-direction: column;align-items: center;background-color: white;padding-right: 0.2em;padding-left: 0.2em;position: relative;}#sk-container-id-27 div.sk-item {position: relative;z-index: 1;}#sk-container-id-27 div.sk-parallel {display: flex;align-items: stretch;justify-content: center;background-color: white;position: relative;}#sk-container-id-27 div.sk-item::before, #sk-container-id-27 div.sk-parallel-item::before {content: \"\";position: absolute;border-left: 1px solid gray;box-sizing: border-box;top: 0;bottom: 0;left: 50%;z-index: -1;}#sk-container-id-27 div.sk-parallel-item {display: flex;flex-direction: column;z-index: 1;position: relative;background-color: white;}#sk-container-id-27 div.sk-parallel-item:first-child::after {align-self: flex-end;width: 50%;}#sk-container-id-27 div.sk-parallel-item:last-child::after {align-self: flex-start;width: 50%;}#sk-container-id-27 div.sk-parallel-item:only-child::after {width: 0;}#sk-container-id-27 div.sk-dashed-wrapped {border: 1px dashed gray;margin: 0 0.4em 0.5em 0.4em;box-sizing: border-box;padding-bottom: 0.4em;background-color: white;}#sk-container-id-27 div.sk-label label {font-family: monospace;font-weight: bold;display: inline-block;line-height: 1.2em;}#sk-container-id-27 div.sk-label-container {text-align: center;}#sk-container-id-27 div.sk-container {/* jupyter's `normalize.less` sets `[hidden] { display: none; }` but bootstrap.min.css set `[hidden] { display: none !important; }` so we also need the `!important` here to be able to override the default hidden behavior on the sphinx rendered scikit-learn.org. See: https://github.com/scikit-learn/scikit-learn/issues/21755 */display: inline-block !important;position: relative;}#sk-container-id-27 div.sk-text-repr-fallback {display: none;}</style><div id=\"sk-container-id-27\" class=\"sk-top-container\"><div class=\"sk-text-repr-fallback\"><pre>GridSearchCV(estimator=LogisticRegression(random_state=3, solver=&#x27;liblinear&#x27;),\n",
       "             param_grid={&#x27;C&#x27;: [1, 0.5, 0.3333333333333333, 0.25, 0.2,\n",
       "                               0.16666666666666666, 0.14285714285714285, 0.125,\n",
       "                               0.1111111111111111, 0.1],\n",
       "                         &#x27;penalty&#x27;: [&#x27;l1&#x27;, &#x27;l2&#x27;]},\n",
       "             scoring=&#x27;recall&#x27;, verbose=1)</pre><b>In a Jupyter environment, please rerun this cell to show the HTML representation or trust the notebook. <br />On GitHub, the HTML representation is unable to render, please try loading this page with nbviewer.org.</b></div><div class=\"sk-container\" hidden><div class=\"sk-item sk-dashed-wrapped\"><div class=\"sk-label-container\"><div class=\"sk-label sk-toggleable\"><input class=\"sk-toggleable__control sk-hidden--visually\" id=\"sk-estimator-id-39\" type=\"checkbox\" ><label for=\"sk-estimator-id-39\" class=\"sk-toggleable__label sk-toggleable__label-arrow\">GridSearchCV</label><div class=\"sk-toggleable__content\"><pre>GridSearchCV(estimator=LogisticRegression(random_state=3, solver=&#x27;liblinear&#x27;),\n",
       "             param_grid={&#x27;C&#x27;: [1, 0.5, 0.3333333333333333, 0.25, 0.2,\n",
       "                               0.16666666666666666, 0.14285714285714285, 0.125,\n",
       "                               0.1111111111111111, 0.1],\n",
       "                         &#x27;penalty&#x27;: [&#x27;l1&#x27;, &#x27;l2&#x27;]},\n",
       "             scoring=&#x27;recall&#x27;, verbose=1)</pre></div></div></div><div class=\"sk-parallel\"><div class=\"sk-parallel-item\"><div class=\"sk-item\"><div class=\"sk-label-container\"><div class=\"sk-label sk-toggleable\"><input class=\"sk-toggleable__control sk-hidden--visually\" id=\"sk-estimator-id-40\" type=\"checkbox\" ><label for=\"sk-estimator-id-40\" class=\"sk-toggleable__label sk-toggleable__label-arrow\">estimator: LogisticRegression</label><div class=\"sk-toggleable__content\"><pre>LogisticRegression(random_state=3, solver=&#x27;liblinear&#x27;)</pre></div></div></div><div class=\"sk-serial\"><div class=\"sk-item\"><div class=\"sk-estimator sk-toggleable\"><input class=\"sk-toggleable__control sk-hidden--visually\" id=\"sk-estimator-id-41\" type=\"checkbox\" ><label for=\"sk-estimator-id-41\" class=\"sk-toggleable__label sk-toggleable__label-arrow\">LogisticRegression</label><div class=\"sk-toggleable__content\"><pre>LogisticRegression(random_state=3, solver=&#x27;liblinear&#x27;)</pre></div></div></div></div></div></div></div></div></div></div>"
      ],
      "text/plain": [
       "GridSearchCV(estimator=LogisticRegression(random_state=3, solver='liblinear'),\n",
       "             param_grid={'C': [1, 0.5, 0.3333333333333333, 0.25, 0.2,\n",
       "                               0.16666666666666666, 0.14285714285714285, 0.125,\n",
       "                               0.1111111111111111, 0.1],\n",
       "                         'penalty': ['l1', 'l2']},\n",
       "             scoring='recall', verbose=1)"
      ]
     },
     "execution_count": 210,
     "metadata": {},
     "output_type": "execute_result"
    }
   ],
   "source": [
    "gs.fit(X_train, y_train)"
   ]
  },
  {
   "cell_type": "code",
   "execution_count": 211,
   "id": "dd3d3177",
   "metadata": {},
   "outputs": [
    {
     "data": {
      "text/plain": [
       "{'C': 1, 'penalty': 'l1'}"
      ]
     },
     "execution_count": 211,
     "metadata": {},
     "output_type": "execute_result"
    }
   ],
   "source": [
    "# check best parameters / estimator\n",
    "gs.best_params_"
   ]
  },
  {
   "cell_type": "code",
   "execution_count": 212,
   "id": "7070be54",
   "metadata": {},
   "outputs": [
    {
     "data": {
      "text/html": [
       "<style>#sk-container-id-28 {color: black;background-color: white;}#sk-container-id-28 pre{padding: 0;}#sk-container-id-28 div.sk-toggleable {background-color: white;}#sk-container-id-28 label.sk-toggleable__label {cursor: pointer;display: block;width: 100%;margin-bottom: 0;padding: 0.3em;box-sizing: border-box;text-align: center;}#sk-container-id-28 label.sk-toggleable__label-arrow:before {content: \"▸\";float: left;margin-right: 0.25em;color: #696969;}#sk-container-id-28 label.sk-toggleable__label-arrow:hover:before {color: black;}#sk-container-id-28 div.sk-estimator:hover label.sk-toggleable__label-arrow:before {color: black;}#sk-container-id-28 div.sk-toggleable__content {max-height: 0;max-width: 0;overflow: hidden;text-align: left;background-color: #f0f8ff;}#sk-container-id-28 div.sk-toggleable__content pre {margin: 0.2em;color: black;border-radius: 0.25em;background-color: #f0f8ff;}#sk-container-id-28 input.sk-toggleable__control:checked~div.sk-toggleable__content {max-height: 200px;max-width: 100%;overflow: auto;}#sk-container-id-28 input.sk-toggleable__control:checked~label.sk-toggleable__label-arrow:before {content: \"▾\";}#sk-container-id-28 div.sk-estimator input.sk-toggleable__control:checked~label.sk-toggleable__label {background-color: #d4ebff;}#sk-container-id-28 div.sk-label input.sk-toggleable__control:checked~label.sk-toggleable__label {background-color: #d4ebff;}#sk-container-id-28 input.sk-hidden--visually {border: 0;clip: rect(1px 1px 1px 1px);clip: rect(1px, 1px, 1px, 1px);height: 1px;margin: -1px;overflow: hidden;padding: 0;position: absolute;width: 1px;}#sk-container-id-28 div.sk-estimator {font-family: monospace;background-color: #f0f8ff;border: 1px dotted black;border-radius: 0.25em;box-sizing: border-box;margin-bottom: 0.5em;}#sk-container-id-28 div.sk-estimator:hover {background-color: #d4ebff;}#sk-container-id-28 div.sk-parallel-item::after {content: \"\";width: 100%;border-bottom: 1px solid gray;flex-grow: 1;}#sk-container-id-28 div.sk-label:hover label.sk-toggleable__label {background-color: #d4ebff;}#sk-container-id-28 div.sk-serial::before {content: \"\";position: absolute;border-left: 1px solid gray;box-sizing: border-box;top: 0;bottom: 0;left: 50%;z-index: 0;}#sk-container-id-28 div.sk-serial {display: flex;flex-direction: column;align-items: center;background-color: white;padding-right: 0.2em;padding-left: 0.2em;position: relative;}#sk-container-id-28 div.sk-item {position: relative;z-index: 1;}#sk-container-id-28 div.sk-parallel {display: flex;align-items: stretch;justify-content: center;background-color: white;position: relative;}#sk-container-id-28 div.sk-item::before, #sk-container-id-28 div.sk-parallel-item::before {content: \"\";position: absolute;border-left: 1px solid gray;box-sizing: border-box;top: 0;bottom: 0;left: 50%;z-index: -1;}#sk-container-id-28 div.sk-parallel-item {display: flex;flex-direction: column;z-index: 1;position: relative;background-color: white;}#sk-container-id-28 div.sk-parallel-item:first-child::after {align-self: flex-end;width: 50%;}#sk-container-id-28 div.sk-parallel-item:last-child::after {align-self: flex-start;width: 50%;}#sk-container-id-28 div.sk-parallel-item:only-child::after {width: 0;}#sk-container-id-28 div.sk-dashed-wrapped {border: 1px dashed gray;margin: 0 0.4em 0.5em 0.4em;box-sizing: border-box;padding-bottom: 0.4em;background-color: white;}#sk-container-id-28 div.sk-label label {font-family: monospace;font-weight: bold;display: inline-block;line-height: 1.2em;}#sk-container-id-28 div.sk-label-container {text-align: center;}#sk-container-id-28 div.sk-container {/* jupyter's `normalize.less` sets `[hidden] { display: none; }` but bootstrap.min.css set `[hidden] { display: none !important; }` so we also need the `!important` here to be able to override the default hidden behavior on the sphinx rendered scikit-learn.org. See: https://github.com/scikit-learn/scikit-learn/issues/21755 */display: inline-block !important;position: relative;}#sk-container-id-28 div.sk-text-repr-fallback {display: none;}</style><div id=\"sk-container-id-28\" class=\"sk-top-container\"><div class=\"sk-text-repr-fallback\"><pre>LogisticRegression(C=1, penalty=&#x27;l1&#x27;, random_state=3, solver=&#x27;liblinear&#x27;)</pre><b>In a Jupyter environment, please rerun this cell to show the HTML representation or trust the notebook. <br />On GitHub, the HTML representation is unable to render, please try loading this page with nbviewer.org.</b></div><div class=\"sk-container\" hidden><div class=\"sk-item\"><div class=\"sk-estimator sk-toggleable\"><input class=\"sk-toggleable__control sk-hidden--visually\" id=\"sk-estimator-id-42\" type=\"checkbox\" checked><label for=\"sk-estimator-id-42\" class=\"sk-toggleable__label sk-toggleable__label-arrow\">LogisticRegression</label><div class=\"sk-toggleable__content\"><pre>LogisticRegression(C=1, penalty=&#x27;l1&#x27;, random_state=3, solver=&#x27;liblinear&#x27;)</pre></div></div></div></div></div>"
      ],
      "text/plain": [
       "LogisticRegression(C=1, penalty='l1', random_state=3, solver='liblinear')"
      ]
     },
     "execution_count": 212,
     "metadata": {},
     "output_type": "execute_result"
    }
   ],
   "source": [
    "gs.best_estimator_"
   ]
  },
  {
   "cell_type": "code",
   "execution_count": 213,
   "id": "ced599bc",
   "metadata": {},
   "outputs": [],
   "source": [
    "gs_predictions = gs.predict(X_vali)"
   ]
  },
  {
   "cell_type": "code",
   "execution_count": 214,
   "id": "422ac391",
   "metadata": {},
   "outputs": [
    {
     "name": "stdout",
     "output_type": "stream",
     "text": [
      "              precision    recall  f1-score   support\n",
      "\n",
      "         0.0       0.90      0.94      0.92       116\n",
      "         1.0       0.84      0.76      0.80        50\n",
      "\n",
      "    accuracy                           0.89       166\n",
      "   macro avg       0.87      0.85      0.86       166\n",
      "weighted avg       0.88      0.89      0.88       166\n",
      "\n"
     ]
    }
   ],
   "source": [
    "print(classification_report(y_vali, gs_predictions))"
   ]
  },
  {
   "cell_type": "code",
   "execution_count": 215,
   "id": "ec49ae49",
   "metadata": {},
   "outputs": [
    {
     "data": {
      "text/plain": [
       "0.8498275862068966"
      ]
     },
     "execution_count": 215,
     "metadata": {},
     "output_type": "execute_result"
    }
   ],
   "source": [
    "fpr, tpr, thresholds = metrics.roc_curve(y_vali, gs_predictions)\n",
    "metrics.auc(fpr, tpr)"
   ]
  },
  {
   "cell_type": "markdown",
   "id": "9af56f47",
   "metadata": {},
   "source": [
    "Well, fairly speaking there isn't much improvement with the imbalance training data.\n",
    "We try again with the balanced training data."
   ]
  },
  {
   "cell_type": "code",
   "execution_count": 216,
   "id": "4cdb4923",
   "metadata": {},
   "outputs": [
    {
     "name": "stdout",
     "output_type": "stream",
     "text": [
      "Fitting 5 folds for each of 20 candidates, totalling 100 fits\n"
     ]
    },
    {
     "data": {
      "text/plain": [
       "{'C': 0.14285714285714285, 'penalty': 'l1'}"
      ]
     },
     "execution_count": 216,
     "metadata": {},
     "output_type": "execute_result"
    }
   ],
   "source": [
    "gs = GridSearchCV(estimator = LogisticRegression(solver='liblinear', random_state = 3), param_grid = grid, scoring = 'recall',\n",
    "                 refit = True, verbose = 1)\n",
    "gs.fit(X_train_smote, y_train_smote)\n",
    "gs.best_params_"
   ]
  },
  {
   "cell_type": "code",
   "execution_count": 217,
   "id": "69ea6e2c",
   "metadata": {},
   "outputs": [
    {
     "name": "stdout",
     "output_type": "stream",
     "text": [
      "              precision    recall  f1-score   support\n",
      "\n",
      "         0.0       0.93      0.89      0.91       116\n",
      "         1.0       0.76      0.84      0.80        50\n",
      "\n",
      "    accuracy                           0.87       166\n",
      "   macro avg       0.85      0.86      0.85       166\n",
      "weighted avg       0.88      0.87      0.88       166\n",
      "\n"
     ]
    }
   ],
   "source": [
    "gs_predictions = gs.predict(X_vali)\n",
    "print(classification_report(y_vali, gs_predictions))"
   ]
  },
  {
   "cell_type": "code",
   "execution_count": 218,
   "id": "e4c4a001",
   "metadata": {},
   "outputs": [
    {
     "data": {
      "text/plain": [
       "0.8639655172413793"
      ]
     },
     "execution_count": 218,
     "metadata": {},
     "output_type": "execute_result"
    }
   ],
   "source": [
    "fpr, tpr, thresholds = metrics.roc_curve(y_vali, gs_predictions)\n",
    "metrics.auc(fpr, tpr)"
   ]
  },
  {
   "cell_type": "markdown",
   "id": "97097383",
   "metadata": {},
   "source": [
    "Interesting, this time the recall for diabetic patients rises from 0.76 to 0.84, with AUC-ROC area 0.8639655172413793, we take it as a good sign.\n",
    "\n",
    "This is all we can do with logistic and regularized regression, now we are going to try out some other machine learning models.\n",
    "\n",
    "通过穷举调参后，选用最佳的一组模型参数，λ取7，惩罚项取l1，模型的AUC-ROC数值提升到了0.8640"
   ]
  },
  {
   "cell_type": "markdown",
   "id": "22926fbc",
   "metadata": {},
   "source": [
    "# KNN model\n",
    "\n",
    "# K近邻回归模型"
   ]
  },
  {
   "cell_type": "code",
   "execution_count": 219,
   "id": "2a7fbbdd",
   "metadata": {},
   "outputs": [],
   "source": [
    "from sklearn.neighbors import KNeighborsClassifier"
   ]
  },
  {
   "cell_type": "code",
   "execution_count": 220,
   "id": "910c88b5",
   "metadata": {},
   "outputs": [],
   "source": [
    "knn = KNeighborsClassifier(n_neighbors = 5)"
   ]
  },
  {
   "cell_type": "code",
   "execution_count": 221,
   "id": "03e61f6e",
   "metadata": {},
   "outputs": [
    {
     "data": {
      "text/html": [
       "<style>#sk-container-id-29 {color: black;background-color: white;}#sk-container-id-29 pre{padding: 0;}#sk-container-id-29 div.sk-toggleable {background-color: white;}#sk-container-id-29 label.sk-toggleable__label {cursor: pointer;display: block;width: 100%;margin-bottom: 0;padding: 0.3em;box-sizing: border-box;text-align: center;}#sk-container-id-29 label.sk-toggleable__label-arrow:before {content: \"▸\";float: left;margin-right: 0.25em;color: #696969;}#sk-container-id-29 label.sk-toggleable__label-arrow:hover:before {color: black;}#sk-container-id-29 div.sk-estimator:hover label.sk-toggleable__label-arrow:before {color: black;}#sk-container-id-29 div.sk-toggleable__content {max-height: 0;max-width: 0;overflow: hidden;text-align: left;background-color: #f0f8ff;}#sk-container-id-29 div.sk-toggleable__content pre {margin: 0.2em;color: black;border-radius: 0.25em;background-color: #f0f8ff;}#sk-container-id-29 input.sk-toggleable__control:checked~div.sk-toggleable__content {max-height: 200px;max-width: 100%;overflow: auto;}#sk-container-id-29 input.sk-toggleable__control:checked~label.sk-toggleable__label-arrow:before {content: \"▾\";}#sk-container-id-29 div.sk-estimator input.sk-toggleable__control:checked~label.sk-toggleable__label {background-color: #d4ebff;}#sk-container-id-29 div.sk-label input.sk-toggleable__control:checked~label.sk-toggleable__label {background-color: #d4ebff;}#sk-container-id-29 input.sk-hidden--visually {border: 0;clip: rect(1px 1px 1px 1px);clip: rect(1px, 1px, 1px, 1px);height: 1px;margin: -1px;overflow: hidden;padding: 0;position: absolute;width: 1px;}#sk-container-id-29 div.sk-estimator {font-family: monospace;background-color: #f0f8ff;border: 1px dotted black;border-radius: 0.25em;box-sizing: border-box;margin-bottom: 0.5em;}#sk-container-id-29 div.sk-estimator:hover {background-color: #d4ebff;}#sk-container-id-29 div.sk-parallel-item::after {content: \"\";width: 100%;border-bottom: 1px solid gray;flex-grow: 1;}#sk-container-id-29 div.sk-label:hover label.sk-toggleable__label {background-color: #d4ebff;}#sk-container-id-29 div.sk-serial::before {content: \"\";position: absolute;border-left: 1px solid gray;box-sizing: border-box;top: 0;bottom: 0;left: 50%;z-index: 0;}#sk-container-id-29 div.sk-serial {display: flex;flex-direction: column;align-items: center;background-color: white;padding-right: 0.2em;padding-left: 0.2em;position: relative;}#sk-container-id-29 div.sk-item {position: relative;z-index: 1;}#sk-container-id-29 div.sk-parallel {display: flex;align-items: stretch;justify-content: center;background-color: white;position: relative;}#sk-container-id-29 div.sk-item::before, #sk-container-id-29 div.sk-parallel-item::before {content: \"\";position: absolute;border-left: 1px solid gray;box-sizing: border-box;top: 0;bottom: 0;left: 50%;z-index: -1;}#sk-container-id-29 div.sk-parallel-item {display: flex;flex-direction: column;z-index: 1;position: relative;background-color: white;}#sk-container-id-29 div.sk-parallel-item:first-child::after {align-self: flex-end;width: 50%;}#sk-container-id-29 div.sk-parallel-item:last-child::after {align-self: flex-start;width: 50%;}#sk-container-id-29 div.sk-parallel-item:only-child::after {width: 0;}#sk-container-id-29 div.sk-dashed-wrapped {border: 1px dashed gray;margin: 0 0.4em 0.5em 0.4em;box-sizing: border-box;padding-bottom: 0.4em;background-color: white;}#sk-container-id-29 div.sk-label label {font-family: monospace;font-weight: bold;display: inline-block;line-height: 1.2em;}#sk-container-id-29 div.sk-label-container {text-align: center;}#sk-container-id-29 div.sk-container {/* jupyter's `normalize.less` sets `[hidden] { display: none; }` but bootstrap.min.css set `[hidden] { display: none !important; }` so we also need the `!important` here to be able to override the default hidden behavior on the sphinx rendered scikit-learn.org. See: https://github.com/scikit-learn/scikit-learn/issues/21755 */display: inline-block !important;position: relative;}#sk-container-id-29 div.sk-text-repr-fallback {display: none;}</style><div id=\"sk-container-id-29\" class=\"sk-top-container\"><div class=\"sk-text-repr-fallback\"><pre>KNeighborsClassifier()</pre><b>In a Jupyter environment, please rerun this cell to show the HTML representation or trust the notebook. <br />On GitHub, the HTML representation is unable to render, please try loading this page with nbviewer.org.</b></div><div class=\"sk-container\" hidden><div class=\"sk-item\"><div class=\"sk-estimator sk-toggleable\"><input class=\"sk-toggleable__control sk-hidden--visually\" id=\"sk-estimator-id-43\" type=\"checkbox\" checked><label for=\"sk-estimator-id-43\" class=\"sk-toggleable__label sk-toggleable__label-arrow\">KNeighborsClassifier</label><div class=\"sk-toggleable__content\"><pre>KNeighborsClassifier()</pre></div></div></div></div></div>"
      ],
      "text/plain": [
       "KNeighborsClassifier()"
      ]
     },
     "execution_count": 221,
     "metadata": {},
     "output_type": "execute_result"
    }
   ],
   "source": [
    "knn.fit(X_train_smote,y_train_smote)"
   ]
  },
  {
   "cell_type": "code",
   "execution_count": 222,
   "id": "32b9ce61",
   "metadata": {},
   "outputs": [],
   "source": [
    "pred2 = knn.predict(X_vali)"
   ]
  },
  {
   "cell_type": "code",
   "execution_count": 223,
   "id": "a6f42099",
   "metadata": {},
   "outputs": [
    {
     "name": "stdout",
     "output_type": "stream",
     "text": [
      "              precision    recall  f1-score   support\n",
      "\n",
      "         0.0       0.87      0.83      0.85       116\n",
      "         1.0       0.64      0.72      0.68        50\n",
      "\n",
      "    accuracy                           0.80       166\n",
      "   macro avg       0.76      0.77      0.76       166\n",
      "weighted avg       0.80      0.80      0.80       166\n",
      "\n"
     ]
    }
   ],
   "source": [
    "print(classification_report(y_vali, pred2))"
   ]
  },
  {
   "cell_type": "code",
   "execution_count": 224,
   "id": "505d79a0",
   "metadata": {},
   "outputs": [
    {
     "data": {
      "text/plain": [
       "0.7737931034482759"
      ]
     },
     "execution_count": 224,
     "metadata": {},
     "output_type": "execute_result"
    }
   ],
   "source": [
    "fpr, tpr, thresholds = metrics.roc_curve(y_vali, pred2)\n",
    "metrics.auc(fpr, tpr)"
   ]
  },
  {
   "cell_type": "markdown",
   "id": "9e29648b",
   "metadata": {},
   "source": [
    "Oops, looks like the performance of our KNN model on predicting the validation set is not as good as logistic regression model. But we can try to tune the number of neighbors to improve its accuracy.\n",
    "\n",
    "We try out number of neighbors from 1 to 40.\n",
    "\n",
    "针对K近邻模型，我们对近邻数量进行调参，通过测试k=1到k=40的所有近邻数量中，最小化错误率的近邻数量"
   ]
  },
  {
   "cell_type": "code",
   "execution_count": 225,
   "id": "ffbea567",
   "metadata": {},
   "outputs": [],
   "source": [
    "error_rate = []\n",
    "\n",
    "for i in range(1,40):\n",
    "    \n",
    "    knn = KNeighborsClassifier(n_neighbors=i)\n",
    "    knn.fit(X_train,y_train)\n",
    "    pred_i = knn.predict(X_vali)\n",
    "    error_rate.append(np.mean(pred_i != y_vali))"
   ]
  },
  {
   "cell_type": "code",
   "execution_count": 226,
   "id": "5b0a3cba",
   "metadata": {},
   "outputs": [
    {
     "data": {
      "text/plain": [
       "Text(0, 0.5, 'Error Rate')"
      ]
     },
     "execution_count": 226,
     "metadata": {},
     "output_type": "execute_result"
    },
    {
     "data": {
      "image/png": "[encoded data removed]",
      "text/plain": [
       "<Figure size 1000x600 with 1 Axes>"
      ]
     },
     "metadata": {},
     "output_type": "display_data"
    }
   ],
   "source": [
    "plt.figure(figsize=(10,6))\n",
    "plt.plot(range(1,40),error_rate,color='blue', linestyle='dashed', marker='o',\n",
    "         markerfacecolor='red', markersize=10)\n",
    "plt.title('Error Rate vs. K Value')\n",
    "plt.xlabel('K')\n",
    "plt.ylabel('Error Rate')"
   ]
  },
  {
   "cell_type": "markdown",
   "id": "fb53e67f",
   "metadata": {},
   "source": [
    "Well, it turns out that for such a small dataset, using k = 1 is a good option.\n",
    "\n",
    "当采用k=1为近邻数量时，模型的误差得到最小化"
   ]
  },
  {
   "cell_type": "code",
   "execution_count": 227,
   "id": "258f42c5",
   "metadata": {},
   "outputs": [
    {
     "data": {
      "text/html": [
       "<style>#sk-container-id-30 {color: black;background-color: white;}#sk-container-id-30 pre{padding: 0;}#sk-container-id-30 div.sk-toggleable {background-color: white;}#sk-container-id-30 label.sk-toggleable__label {cursor: pointer;display: block;width: 100%;margin-bottom: 0;padding: 0.3em;box-sizing: border-box;text-align: center;}#sk-container-id-30 label.sk-toggleable__label-arrow:before {content: \"▸\";float: left;margin-right: 0.25em;color: #696969;}#sk-container-id-30 label.sk-toggleable__label-arrow:hover:before {color: black;}#sk-container-id-30 div.sk-estimator:hover label.sk-toggleable__label-arrow:before {color: black;}#sk-container-id-30 div.sk-toggleable__content {max-height: 0;max-width: 0;overflow: hidden;text-align: left;background-color: #f0f8ff;}#sk-container-id-30 div.sk-toggleable__content pre {margin: 0.2em;color: black;border-radius: 0.25em;background-color: #f0f8ff;}#sk-container-id-30 input.sk-toggleable__control:checked~div.sk-toggleable__content {max-height: 200px;max-width: 100%;overflow: auto;}#sk-container-id-30 input.sk-toggleable__control:checked~label.sk-toggleable__label-arrow:before {content: \"▾\";}#sk-container-id-30 div.sk-estimator input.sk-toggleable__control:checked~label.sk-toggleable__label {background-color: #d4ebff;}#sk-container-id-30 div.sk-label input.sk-toggleable__control:checked~label.sk-toggleable__label {background-color: #d4ebff;}#sk-container-id-30 input.sk-hidden--visually {border: 0;clip: rect(1px 1px 1px 1px);clip: rect(1px, 1px, 1px, 1px);height: 1px;margin: -1px;overflow: hidden;padding: 0;position: absolute;width: 1px;}#sk-container-id-30 div.sk-estimator {font-family: monospace;background-color: #f0f8ff;border: 1px dotted black;border-radius: 0.25em;box-sizing: border-box;margin-bottom: 0.5em;}#sk-container-id-30 div.sk-estimator:hover {background-color: #d4ebff;}#sk-container-id-30 div.sk-parallel-item::after {content: \"\";width: 100%;border-bottom: 1px solid gray;flex-grow: 1;}#sk-container-id-30 div.sk-label:hover label.sk-toggleable__label {background-color: #d4ebff;}#sk-container-id-30 div.sk-serial::before {content: \"\";position: absolute;border-left: 1px solid gray;box-sizing: border-box;top: 0;bottom: 0;left: 50%;z-index: 0;}#sk-container-id-30 div.sk-serial {display: flex;flex-direction: column;align-items: center;background-color: white;padding-right: 0.2em;padding-left: 0.2em;position: relative;}#sk-container-id-30 div.sk-item {position: relative;z-index: 1;}#sk-container-id-30 div.sk-parallel {display: flex;align-items: stretch;justify-content: center;background-color: white;position: relative;}#sk-container-id-30 div.sk-item::before, #sk-container-id-30 div.sk-parallel-item::before {content: \"\";position: absolute;border-left: 1px solid gray;box-sizing: border-box;top: 0;bottom: 0;left: 50%;z-index: -1;}#sk-container-id-30 div.sk-parallel-item {display: flex;flex-direction: column;z-index: 1;position: relative;background-color: white;}#sk-container-id-30 div.sk-parallel-item:first-child::after {align-self: flex-end;width: 50%;}#sk-container-id-30 div.sk-parallel-item:last-child::after {align-self: flex-start;width: 50%;}#sk-container-id-30 div.sk-parallel-item:only-child::after {width: 0;}#sk-container-id-30 div.sk-dashed-wrapped {border: 1px dashed gray;margin: 0 0.4em 0.5em 0.4em;box-sizing: border-box;padding-bottom: 0.4em;background-color: white;}#sk-container-id-30 div.sk-label label {font-family: monospace;font-weight: bold;display: inline-block;line-height: 1.2em;}#sk-container-id-30 div.sk-label-container {text-align: center;}#sk-container-id-30 div.sk-container {/* jupyter's `normalize.less` sets `[hidden] { display: none; }` but bootstrap.min.css set `[hidden] { display: none !important; }` so we also need the `!important` here to be able to override the default hidden behavior on the sphinx rendered scikit-learn.org. See: https://github.com/scikit-learn/scikit-learn/issues/21755 */display: inline-block !important;position: relative;}#sk-container-id-30 div.sk-text-repr-fallback {display: none;}</style><div id=\"sk-container-id-30\" class=\"sk-top-container\"><div class=\"sk-text-repr-fallback\"><pre>KNeighborsClassifier(n_neighbors=1)</pre><b>In a Jupyter environment, please rerun this cell to show the HTML representation or trust the notebook. <br />On GitHub, the HTML representation is unable to render, please try loading this page with nbviewer.org.</b></div><div class=\"sk-container\" hidden><div class=\"sk-item\"><div class=\"sk-estimator sk-toggleable\"><input class=\"sk-toggleable__control sk-hidden--visually\" id=\"sk-estimator-id-44\" type=\"checkbox\" checked><label for=\"sk-estimator-id-44\" class=\"sk-toggleable__label sk-toggleable__label-arrow\">KNeighborsClassifier</label><div class=\"sk-toggleable__content\"><pre>KNeighborsClassifier(n_neighbors=1)</pre></div></div></div></div></div>"
      ],
      "text/plain": [
       "KNeighborsClassifier(n_neighbors=1)"
      ]
     },
     "execution_count": 227,
     "metadata": {},
     "output_type": "execute_result"
    }
   ],
   "source": [
    "knn2 = KNeighborsClassifier(n_neighbors = 1)\n",
    "knn2.fit(X_train_smote, y_train_smote)"
   ]
  },
  {
   "cell_type": "code",
   "execution_count": 228,
   "id": "89dbd443",
   "metadata": {},
   "outputs": [],
   "source": [
    "pred2 = knn2.predict(X_vali)"
   ]
  },
  {
   "cell_type": "code",
   "execution_count": 229,
   "id": "5476a377",
   "metadata": {},
   "outputs": [
    {
     "name": "stdout",
     "output_type": "stream",
     "text": [
      "              precision    recall  f1-score   support\n",
      "\n",
      "         0.0       0.96      0.96      0.96       116\n",
      "         1.0       0.90      0.90      0.90        50\n",
      "\n",
      "    accuracy                           0.94       166\n",
      "   macro avg       0.93      0.93      0.93       166\n",
      "weighted avg       0.94      0.94      0.94       166\n",
      "\n"
     ]
    }
   ],
   "source": [
    "print(classification_report(y_vali, pred2))"
   ]
  },
  {
   "cell_type": "code",
   "execution_count": 230,
   "id": "fa1c6003",
   "metadata": {},
   "outputs": [
    {
     "data": {
      "text/plain": [
       "0.9284482758620689"
      ]
     },
     "execution_count": 230,
     "metadata": {},
     "output_type": "execute_result"
    }
   ],
   "source": [
    "fpr, tpr, thresholds = metrics.roc_curve(y_vali, pred2)\n",
    "metrics.auc(fpr, tpr)"
   ]
  },
  {
   "cell_type": "markdown",
   "id": "4d295b6b",
   "metadata": {},
   "source": [
    "This time the outcome of the model is awesome when we set number of neighbors to be one!\n",
    "\n",
    "Among all patients not contracting diabetes, 96% of those are correctly identifited by our model \n",
    "\n",
    "Among all patients contracting diabetes, 90% of those are correctly idenfitied by our model \n",
    "\n",
    "96% of those who did not contract diabetes were correctly identified (Among all those who are identified as not contracing diabetes)\n",
    "\n",
    "90% of those who did contract diabetes were correctly identified (Among all those who are identified as contracing diabetes)\n",
    "\n",
    "The corresponding AUC-ROC area reached 0.9284482758620689, exceeding 0.9!\n",
    "\n",
    "相比于逻辑回归模型，K近邻的模型表现明显更加优秀。\n",
    "\n",
    "96%的非糖尿病患者被正确地分类为非糖尿病患者\n",
    "\n",
    "90%的糖尿病患者被成功识别\n",
    "\n",
    "所有被模型分类为非糖尿病患者的病人中，96%确实为非糖尿病患者\n",
    "\n",
    "所有被模型分类为糖尿病患者的病人中，96%确实为糖尿病患者\n",
    "\n",
    "模型的AUC-ROC数值为0.9284，跨越了0.9这个关键阈值"
   ]
  },
  {
   "cell_type": "markdown",
   "id": "6e4f5763",
   "metadata": {},
   "source": [
    "# Decision tree Model\n",
    "\n",
    "# 决策树模型"
   ]
  },
  {
   "cell_type": "code",
   "execution_count": 231,
   "id": "8940b3e4",
   "metadata": {},
   "outputs": [],
   "source": [
    "dtree = DecisionTreeClassifier()"
   ]
  },
  {
   "cell_type": "code",
   "execution_count": 232,
   "id": "c97b3d26",
   "metadata": {},
   "outputs": [
    {
     "data": {
      "text/html": [
       "<style>#sk-container-id-31 {color: black;background-color: white;}#sk-container-id-31 pre{padding: 0;}#sk-container-id-31 div.sk-toggleable {background-color: white;}#sk-container-id-31 label.sk-toggleable__label {cursor: pointer;display: block;width: 100%;margin-bottom: 0;padding: 0.3em;box-sizing: border-box;text-align: center;}#sk-container-id-31 label.sk-toggleable__label-arrow:before {content: \"▸\";float: left;margin-right: 0.25em;color: #696969;}#sk-container-id-31 label.sk-toggleable__label-arrow:hover:before {color: black;}#sk-container-id-31 div.sk-estimator:hover label.sk-toggleable__label-arrow:before {color: black;}#sk-container-id-31 div.sk-toggleable__content {max-height: 0;max-width: 0;overflow: hidden;text-align: left;background-color: #f0f8ff;}#sk-container-id-31 div.sk-toggleable__content pre {margin: 0.2em;color: black;border-radius: 0.25em;background-color: #f0f8ff;}#sk-container-id-31 input.sk-toggleable__control:checked~div.sk-toggleable__content {max-height: 200px;max-width: 100%;overflow: auto;}#sk-container-id-31 input.sk-toggleable__control:checked~label.sk-toggleable__label-arrow:before {content: \"▾\";}#sk-container-id-31 div.sk-estimator input.sk-toggleable__control:checked~label.sk-toggleable__label {background-color: #d4ebff;}#sk-container-id-31 div.sk-label input.sk-toggleable__control:checked~label.sk-toggleable__label {background-color: #d4ebff;}#sk-container-id-31 input.sk-hidden--visually {border: 0;clip: rect(1px 1px 1px 1px);clip: rect(1px, 1px, 1px, 1px);height: 1px;margin: -1px;overflow: hidden;padding: 0;position: absolute;width: 1px;}#sk-container-id-31 div.sk-estimator {font-family: monospace;background-color: #f0f8ff;border: 1px dotted black;border-radius: 0.25em;box-sizing: border-box;margin-bottom: 0.5em;}#sk-container-id-31 div.sk-estimator:hover {background-color: #d4ebff;}#sk-container-id-31 div.sk-parallel-item::after {content: \"\";width: 100%;border-bottom: 1px solid gray;flex-grow: 1;}#sk-container-id-31 div.sk-label:hover label.sk-toggleable__label {background-color: #d4ebff;}#sk-container-id-31 div.sk-serial::before {content: \"\";position: absolute;border-left: 1px solid gray;box-sizing: border-box;top: 0;bottom: 0;left: 50%;z-index: 0;}#sk-container-id-31 div.sk-serial {display: flex;flex-direction: column;align-items: center;background-color: white;padding-right: 0.2em;padding-left: 0.2em;position: relative;}#sk-container-id-31 div.sk-item {position: relative;z-index: 1;}#sk-container-id-31 div.sk-parallel {display: flex;align-items: stretch;justify-content: center;background-color: white;position: relative;}#sk-container-id-31 div.sk-item::before, #sk-container-id-31 div.sk-parallel-item::before {content: \"\";position: absolute;border-left: 1px solid gray;box-sizing: border-box;top: 0;bottom: 0;left: 50%;z-index: -1;}#sk-container-id-31 div.sk-parallel-item {display: flex;flex-direction: column;z-index: 1;position: relative;background-color: white;}#sk-container-id-31 div.sk-parallel-item:first-child::after {align-self: flex-end;width: 50%;}#sk-container-id-31 div.sk-parallel-item:last-child::after {align-self: flex-start;width: 50%;}#sk-container-id-31 div.sk-parallel-item:only-child::after {width: 0;}#sk-container-id-31 div.sk-dashed-wrapped {border: 1px dashed gray;margin: 0 0.4em 0.5em 0.4em;box-sizing: border-box;padding-bottom: 0.4em;background-color: white;}#sk-container-id-31 div.sk-label label {font-family: monospace;font-weight: bold;display: inline-block;line-height: 1.2em;}#sk-container-id-31 div.sk-label-container {text-align: center;}#sk-container-id-31 div.sk-container {/* jupyter's `normalize.less` sets `[hidden] { display: none; }` but bootstrap.min.css set `[hidden] { display: none !important; }` so we also need the `!important` here to be able to override the default hidden behavior on the sphinx rendered scikit-learn.org. See: https://github.com/scikit-learn/scikit-learn/issues/21755 */display: inline-block !important;position: relative;}#sk-container-id-31 div.sk-text-repr-fallback {display: none;}</style><div id=\"sk-container-id-31\" class=\"sk-top-container\"><div class=\"sk-text-repr-fallback\"><pre>DecisionTreeClassifier()</pre><b>In a Jupyter environment, please rerun this cell to show the HTML representation or trust the notebook. <br />On GitHub, the HTML representation is unable to render, please try loading this page with nbviewer.org.</b></div><div class=\"sk-container\" hidden><div class=\"sk-item\"><div class=\"sk-estimator sk-toggleable\"><input class=\"sk-toggleable__control sk-hidden--visually\" id=\"sk-estimator-id-45\" type=\"checkbox\" checked><label for=\"sk-estimator-id-45\" class=\"sk-toggleable__label sk-toggleable__label-arrow\">DecisionTreeClassifier</label><div class=\"sk-toggleable__content\"><pre>DecisionTreeClassifier()</pre></div></div></div></div></div>"
      ],
      "text/plain": [
       "DecisionTreeClassifier()"
      ]
     },
     "execution_count": 232,
     "metadata": {},
     "output_type": "execute_result"
    }
   ],
   "source": [
    "dtree.fit(X_train_smote,y_train_smote)"
   ]
  },
  {
   "cell_type": "code",
   "execution_count": 233,
   "id": "49742516",
   "metadata": {},
   "outputs": [],
   "source": [
    "pred3 = dtree.predict(X_vali)"
   ]
  },
  {
   "cell_type": "code",
   "execution_count": 234,
   "id": "4c02180b",
   "metadata": {},
   "outputs": [
    {
     "name": "stdout",
     "output_type": "stream",
     "text": [
      "              precision    recall  f1-score   support\n",
      "\n",
      "         0.0       0.94      0.99      0.97       116\n",
      "         1.0       0.98      0.86      0.91        50\n",
      "\n",
      "    accuracy                           0.95       166\n",
      "   macro avg       0.96      0.93      0.94       166\n",
      "weighted avg       0.95      0.95      0.95       166\n",
      "\n"
     ]
    }
   ],
   "source": [
    "print(classification_report(y_vali, pred3))"
   ]
  },
  {
   "cell_type": "code",
   "execution_count": 235,
   "id": "3d1eec77",
   "metadata": {},
   "outputs": [
    {
     "data": {
      "text/plain": [
       "0.9256896551724139"
      ]
     },
     "execution_count": 235,
     "metadata": {},
     "output_type": "execute_result"
    }
   ],
   "source": [
    "fpr, tpr, thresholds = metrics.roc_curve(y_vali, pred3)\n",
    "metrics.auc(fpr, tpr)"
   ]
  },
  {
   "cell_type": "markdown",
   "id": "20807683",
   "metadata": {},
   "source": [
    "Wow, the decision tree classification model has amazing performance!\n",
    "\n",
    "Among all patients not contracting diabetes, 94% of those are correctly identifited by our model \n",
    "\n",
    "Among all patients contracting diabetes, 98% of those are correctly idenfitied by our model \n",
    "\n",
    "99% of those who did not contract diabetes were correctly identified (Among all those who are identified as not contracing diabetes)\n",
    "\n",
    "86% of those who did contract diabetes were correctly identified (Among all those who are identified as contracing diabetes)\n",
    "\n",
    "The corresponding AUC-ROC area is 0.9256896551724139.\n",
    "\n",
    "决策树模型的表现不逊于，甚至略超过K近邻模型的表现\n",
    "\n",
    "94%的非糖尿病患者被正确地分类为非糖尿病患者\n",
    "\n",
    "98%的糖尿病患者被成功识别\n",
    "\n",
    "所有被模型分类为非糖尿病患者的病人中，99%确实为非糖尿病患者\n",
    "\n",
    "所有被模型分类为糖尿病患者的病人中，86%确实为糖尿病患者"
   ]
  },
  {
   "cell_type": "markdown",
   "id": "1faac38c",
   "metadata": {},
   "source": [
    "Now we try to tune parameters for the decision tree model.\n",
    "\n",
    "现在我们针对决策树进行调参，目的为提高糖尿病患者群体的召回率（recall）"
   ]
  },
  {
   "cell_type": "code",
   "execution_count": 236,
   "id": "336f88c0",
   "metadata": {},
   "outputs": [],
   "source": [
    "grid = {\n",
    "    'max_depth': [5, 10, 15, 20],\n",
    "    'min_samples_split': [2,3,4]\n",
    "        }"
   ]
  },
  {
   "cell_type": "markdown",
   "id": "6adcae61",
   "metadata": {},
   "source": [
    "The parameter \"max_depth\" is the number of layers the decision tree is allowed to have at most. The parameter \"min_samples_split\" is the minimun number of samples that the decision tree must have at each leaf。\n",
    "\n",
    "决策树模型的参数为“决策树深度”与“分割所需最小样品数”，“决策树深度”为该决策树模型的层数，也就是在对一个案例进行分类之前，案例在决策树上最大可能经过的“叶片”数量，“分割所需最小样品数”为该决策树每一处“叶片”需要的，满足该叶片条件的最小样本数。"
   ]
  },
  {
   "cell_type": "code",
   "execution_count": 237,
   "id": "0d4b530a",
   "metadata": {},
   "outputs": [
    {
     "name": "stdout",
     "output_type": "stream",
     "text": [
      "Fitting 5 folds for each of 12 candidates, totalling 60 fits\n"
     ]
    },
    {
     "data": {
      "text/plain": [
       "{'max_depth': 5, 'min_samples_split': 2}"
      ]
     },
     "execution_count": 237,
     "metadata": {},
     "output_type": "execute_result"
    }
   ],
   "source": [
    "gs = GridSearchCV(estimator = DecisionTreeClassifier(random_state = 3), param_grid = grid, scoring = 'recall',\n",
    "                 refit = True, verbose = 1)\n",
    "gs.fit(X_train_smote, y_train_smote)\n",
    "gs.best_params_"
   ]
  },
  {
   "cell_type": "code",
   "execution_count": 238,
   "id": "44c0baab",
   "metadata": {},
   "outputs": [
    {
     "name": "stdout",
     "output_type": "stream",
     "text": [
      "              precision    recall  f1-score   support\n",
      "\n",
      "         0.0       0.94      0.94      0.94       116\n",
      "         1.0       0.86      0.86      0.86        50\n",
      "\n",
      "    accuracy                           0.92       166\n",
      "   macro avg       0.90      0.90      0.90       166\n",
      "weighted avg       0.92      0.92      0.92       166\n",
      "\n"
     ]
    }
   ],
   "source": [
    "gs_predictions = gs.predict(X_vali)\n",
    "print(classification_report(y_vali, gs_predictions))"
   ]
  },
  {
   "cell_type": "code",
   "execution_count": 239,
   "id": "7935fb16",
   "metadata": {},
   "outputs": [
    {
     "data": {
      "text/plain": [
       "0.8998275862068965"
      ]
     },
     "execution_count": 239,
     "metadata": {},
     "output_type": "execute_result"
    }
   ],
   "source": [
    "fpr, tpr, thresholds = metrics.roc_curve(y_vali, gs_predictions)\n",
    "metrics.auc(fpr, tpr)"
   ]
  },
  {
   "cell_type": "markdown",
   "id": "27cb1849",
   "metadata": {},
   "source": [
    "Well, looks like the decision tree with default parameter has better performance, since this time the AUC-ROC area value decreased below 0.9.\n",
    "\n",
    "经过调参之后的决策树模型，表现反而有所下降。"
   ]
  },
  {
   "cell_type": "markdown",
   "id": "a33b7864",
   "metadata": {},
   "source": [
    "Let's try 'bagging' the decision trees through the random forest classifier to see if we can further optimize performance, like, elevating the recall of diabetic patients above 0.9.\n",
    "\n",
    "The measure for 'bagging' the decision tress is using random forest model.\n",
    "\n",
    "现在，我们尝试通过装袋算法（bagging），通过大量决策树模型形成随机森林模型进行评估。"
   ]
  },
  {
   "cell_type": "markdown",
   "id": "175fa7e3",
   "metadata": {},
   "source": [
    "# Random Forest Model\n",
    "\n",
    "# 随机森林模型"
   ]
  },
  {
   "cell_type": "markdown",
   "id": "664a6ffd",
   "metadata": {},
   "source": [
    "We start with a random forest model with 100 decision trees.\n",
    "\n",
    "从100个决策树模型形成的随机森林模型开始"
   ]
  },
  {
   "cell_type": "code",
   "execution_count": 240,
   "id": "cc438b1a",
   "metadata": {},
   "outputs": [
    {
     "data": {
      "text/html": [
       "<style>#sk-container-id-32 {color: black;background-color: white;}#sk-container-id-32 pre{padding: 0;}#sk-container-id-32 div.sk-toggleable {background-color: white;}#sk-container-id-32 label.sk-toggleable__label {cursor: pointer;display: block;width: 100%;margin-bottom: 0;padding: 0.3em;box-sizing: border-box;text-align: center;}#sk-container-id-32 label.sk-toggleable__label-arrow:before {content: \"▸\";float: left;margin-right: 0.25em;color: #696969;}#sk-container-id-32 label.sk-toggleable__label-arrow:hover:before {color: black;}#sk-container-id-32 div.sk-estimator:hover label.sk-toggleable__label-arrow:before {color: black;}#sk-container-id-32 div.sk-toggleable__content {max-height: 0;max-width: 0;overflow: hidden;text-align: left;background-color: #f0f8ff;}#sk-container-id-32 div.sk-toggleable__content pre {margin: 0.2em;color: black;border-radius: 0.25em;background-color: #f0f8ff;}#sk-container-id-32 input.sk-toggleable__control:checked~div.sk-toggleable__content {max-height: 200px;max-width: 100%;overflow: auto;}#sk-container-id-32 input.sk-toggleable__control:checked~label.sk-toggleable__label-arrow:before {content: \"▾\";}#sk-container-id-32 div.sk-estimator input.sk-toggleable__control:checked~label.sk-toggleable__label {background-color: #d4ebff;}#sk-container-id-32 div.sk-label input.sk-toggleable__control:checked~label.sk-toggleable__label {background-color: #d4ebff;}#sk-container-id-32 input.sk-hidden--visually {border: 0;clip: rect(1px 1px 1px 1px);clip: rect(1px, 1px, 1px, 1px);height: 1px;margin: -1px;overflow: hidden;padding: 0;position: absolute;width: 1px;}#sk-container-id-32 div.sk-estimator {font-family: monospace;background-color: #f0f8ff;border: 1px dotted black;border-radius: 0.25em;box-sizing: border-box;margin-bottom: 0.5em;}#sk-container-id-32 div.sk-estimator:hover {background-color: #d4ebff;}#sk-container-id-32 div.sk-parallel-item::after {content: \"\";width: 100%;border-bottom: 1px solid gray;flex-grow: 1;}#sk-container-id-32 div.sk-label:hover label.sk-toggleable__label {background-color: #d4ebff;}#sk-container-id-32 div.sk-serial::before {content: \"\";position: absolute;border-left: 1px solid gray;box-sizing: border-box;top: 0;bottom: 0;left: 50%;z-index: 0;}#sk-container-id-32 div.sk-serial {display: flex;flex-direction: column;align-items: center;background-color: white;padding-right: 0.2em;padding-left: 0.2em;position: relative;}#sk-container-id-32 div.sk-item {position: relative;z-index: 1;}#sk-container-id-32 div.sk-parallel {display: flex;align-items: stretch;justify-content: center;background-color: white;position: relative;}#sk-container-id-32 div.sk-item::before, #sk-container-id-32 div.sk-parallel-item::before {content: \"\";position: absolute;border-left: 1px solid gray;box-sizing: border-box;top: 0;bottom: 0;left: 50%;z-index: -1;}#sk-container-id-32 div.sk-parallel-item {display: flex;flex-direction: column;z-index: 1;position: relative;background-color: white;}#sk-container-id-32 div.sk-parallel-item:first-child::after {align-self: flex-end;width: 50%;}#sk-container-id-32 div.sk-parallel-item:last-child::after {align-self: flex-start;width: 50%;}#sk-container-id-32 div.sk-parallel-item:only-child::after {width: 0;}#sk-container-id-32 div.sk-dashed-wrapped {border: 1px dashed gray;margin: 0 0.4em 0.5em 0.4em;box-sizing: border-box;padding-bottom: 0.4em;background-color: white;}#sk-container-id-32 div.sk-label label {font-family: monospace;font-weight: bold;display: inline-block;line-height: 1.2em;}#sk-container-id-32 div.sk-label-container {text-align: center;}#sk-container-id-32 div.sk-container {/* jupyter's `normalize.less` sets `[hidden] { display: none; }` but bootstrap.min.css set `[hidden] { display: none !important; }` so we also need the `!important` here to be able to override the default hidden behavior on the sphinx rendered scikit-learn.org. See: https://github.com/scikit-learn/scikit-learn/issues/21755 */display: inline-block !important;position: relative;}#sk-container-id-32 div.sk-text-repr-fallback {display: none;}</style><div id=\"sk-container-id-32\" class=\"sk-top-container\"><div class=\"sk-text-repr-fallback\"><pre>RandomForestClassifier()</pre><b>In a Jupyter environment, please rerun this cell to show the HTML representation or trust the notebook. <br />On GitHub, the HTML representation is unable to render, please try loading this page with nbviewer.org.</b></div><div class=\"sk-container\" hidden><div class=\"sk-item\"><div class=\"sk-estimator sk-toggleable\"><input class=\"sk-toggleable__control sk-hidden--visually\" id=\"sk-estimator-id-46\" type=\"checkbox\" checked><label for=\"sk-estimator-id-46\" class=\"sk-toggleable__label sk-toggleable__label-arrow\">RandomForestClassifier</label><div class=\"sk-toggleable__content\"><pre>RandomForestClassifier()</pre></div></div></div></div></div>"
      ],
      "text/plain": [
       "RandomForestClassifier()"
      ]
     },
     "execution_count": 240,
     "metadata": {},
     "output_type": "execute_result"
    }
   ],
   "source": [
    "rfc = RandomForestClassifier(n_estimators=100)\n",
    "rfc.fit(X_train, y_train)"
   ]
  },
  {
   "cell_type": "code",
   "execution_count": 241,
   "id": "a8850a5a",
   "metadata": {},
   "outputs": [],
   "source": [
    "pred4 = rfc.predict(X_vali)"
   ]
  },
  {
   "cell_type": "code",
   "execution_count": 242,
   "id": "205724ce",
   "metadata": {},
   "outputs": [
    {
     "name": "stdout",
     "output_type": "stream",
     "text": [
      "              precision    recall  f1-score   support\n",
      "\n",
      "         0.0       0.96      0.98      0.97       116\n",
      "         1.0       0.96      0.90      0.93        50\n",
      "\n",
      "    accuracy                           0.96       166\n",
      "   macro avg       0.96      0.94      0.95       166\n",
      "weighted avg       0.96      0.96      0.96       166\n",
      "\n"
     ]
    }
   ],
   "source": [
    "print(classification_report(y_vali, pred4))"
   ]
  },
  {
   "cell_type": "code",
   "execution_count": 244,
   "id": "17615441",
   "metadata": {},
   "outputs": [
    {
     "data": {
      "text/plain": [
       "0.9413793103448275"
      ]
     },
     "execution_count": 244,
     "metadata": {},
     "output_type": "execute_result"
    }
   ],
   "source": [
    "fpr, tpr, thresholds = metrics.roc_curve(y_vali, pred4)\n",
    "metrics.auc(fpr, tpr)"
   ]
  },
  {
   "cell_type": "markdown",
   "id": "d6d53a44",
   "metadata": {},
   "source": [
    "Fantastic! Now we have recall for diabetic patients 0.9, while the other three outcomes remaining the same! The AUC-ROC area value is approaching 0.95 as well.\n",
    "\n",
    "Now we proceed to tune parameters for the random forest model.\n",
    "\n",
    "随即森林模型的表现出乎意料，在保留了针对非糖尿病群体的精准率（precision）与召回率（recall）和糖尿病群体的精准率同时，使非糖尿病群体的召回率达到了90%，模型总体的Auc-Roc数值为0.9414."
   ]
  },
  {
   "cell_type": "code",
   "execution_count": 245,
   "id": "89b66e2c",
   "metadata": {},
   "outputs": [],
   "source": [
    "grid_rf = {\n",
    "    'n_estimators': [100, 200, 300],\n",
    "    'max_depth': [5, 10, 15, 20],\n",
    "    'min_samples_split': [2,3,4]\n",
    "        }"
   ]
  },
  {
   "cell_type": "markdown",
   "id": "0195392e",
   "metadata": {},
   "source": [
    "In addition to the two parameters of Decision Tree we tuned before, we add the parameter \"n_estimators\", the number of trees in the forest, as our new parameter to tune.\n",
    "\n",
    "随即森林模型的参数为决策树模型的基础上，增加“决策树数量”。"
   ]
  },
  {
   "cell_type": "code",
   "execution_count": 246,
   "id": "9613fbce",
   "metadata": {},
   "outputs": [],
   "source": [
    "gs3 = GridSearchCV(estimator = RandomForestClassifier(), param_grid = grid_rf, scoring = 'recall',\n",
    "                 refit = True, verbose = 1)"
   ]
  },
  {
   "cell_type": "code",
   "execution_count": 247,
   "id": "e071f194",
   "metadata": {},
   "outputs": [
    {
     "name": "stdout",
     "output_type": "stream",
     "text": [
      "Fitting 5 folds for each of 36 candidates, totalling 180 fits\n"
     ]
    },
    {
     "data": {
      "text/html": [
       "<style>#sk-container-id-33 {color: black;background-color: white;}#sk-container-id-33 pre{padding: 0;}#sk-container-id-33 div.sk-toggleable {background-color: white;}#sk-container-id-33 label.sk-toggleable__label {cursor: pointer;display: block;width: 100%;margin-bottom: 0;padding: 0.3em;box-sizing: border-box;text-align: center;}#sk-container-id-33 label.sk-toggleable__label-arrow:before {content: \"▸\";float: left;margin-right: 0.25em;color: #696969;}#sk-container-id-33 label.sk-toggleable__label-arrow:hover:before {color: black;}#sk-container-id-33 div.sk-estimator:hover label.sk-toggleable__label-arrow:before {color: black;}#sk-container-id-33 div.sk-toggleable__content {max-height: 0;max-width: 0;overflow: hidden;text-align: left;background-color: #f0f8ff;}#sk-container-id-33 div.sk-toggleable__content pre {margin: 0.2em;color: black;border-radius: 0.25em;background-color: #f0f8ff;}#sk-container-id-33 input.sk-toggleable__control:checked~div.sk-toggleable__content {max-height: 200px;max-width: 100%;overflow: auto;}#sk-container-id-33 input.sk-toggleable__control:checked~label.sk-toggleable__label-arrow:before {content: \"▾\";}#sk-container-id-33 div.sk-estimator input.sk-toggleable__control:checked~label.sk-toggleable__label {background-color: #d4ebff;}#sk-container-id-33 div.sk-label input.sk-toggleable__control:checked~label.sk-toggleable__label {background-color: #d4ebff;}#sk-container-id-33 input.sk-hidden--visually {border: 0;clip: rect(1px 1px 1px 1px);clip: rect(1px, 1px, 1px, 1px);height: 1px;margin: -1px;overflow: hidden;padding: 0;position: absolute;width: 1px;}#sk-container-id-33 div.sk-estimator {font-family: monospace;background-color: #f0f8ff;border: 1px dotted black;border-radius: 0.25em;box-sizing: border-box;margin-bottom: 0.5em;}#sk-container-id-33 div.sk-estimator:hover {background-color: #d4ebff;}#sk-container-id-33 div.sk-parallel-item::after {content: \"\";width: 100%;border-bottom: 1px solid gray;flex-grow: 1;}#sk-container-id-33 div.sk-label:hover label.sk-toggleable__label {background-color: #d4ebff;}#sk-container-id-33 div.sk-serial::before {content: \"\";position: absolute;border-left: 1px solid gray;box-sizing: border-box;top: 0;bottom: 0;left: 50%;z-index: 0;}#sk-container-id-33 div.sk-serial {display: flex;flex-direction: column;align-items: center;background-color: white;padding-right: 0.2em;padding-left: 0.2em;position: relative;}#sk-container-id-33 div.sk-item {position: relative;z-index: 1;}#sk-container-id-33 div.sk-parallel {display: flex;align-items: stretch;justify-content: center;background-color: white;position: relative;}#sk-container-id-33 div.sk-item::before, #sk-container-id-33 div.sk-parallel-item::before {content: \"\";position: absolute;border-left: 1px solid gray;box-sizing: border-box;top: 0;bottom: 0;left: 50%;z-index: -1;}#sk-container-id-33 div.sk-parallel-item {display: flex;flex-direction: column;z-index: 1;position: relative;background-color: white;}#sk-container-id-33 div.sk-parallel-item:first-child::after {align-self: flex-end;width: 50%;}#sk-container-id-33 div.sk-parallel-item:last-child::after {align-self: flex-start;width: 50%;}#sk-container-id-33 div.sk-parallel-item:only-child::after {width: 0;}#sk-container-id-33 div.sk-dashed-wrapped {border: 1px dashed gray;margin: 0 0.4em 0.5em 0.4em;box-sizing: border-box;padding-bottom: 0.4em;background-color: white;}#sk-container-id-33 div.sk-label label {font-family: monospace;font-weight: bold;display: inline-block;line-height: 1.2em;}#sk-container-id-33 div.sk-label-container {text-align: center;}#sk-container-id-33 div.sk-container {/* jupyter's `normalize.less` sets `[hidden] { display: none; }` but bootstrap.min.css set `[hidden] { display: none !important; }` so we also need the `!important` here to be able to override the default hidden behavior on the sphinx rendered scikit-learn.org. See: https://github.com/scikit-learn/scikit-learn/issues/21755 */display: inline-block !important;position: relative;}#sk-container-id-33 div.sk-text-repr-fallback {display: none;}</style><div id=\"sk-container-id-33\" class=\"sk-top-container\"><div class=\"sk-text-repr-fallback\"><pre>GridSearchCV(estimator=RandomForestClassifier(),\n",
       "             param_grid={&#x27;max_depth&#x27;: [5, 10, 15, 20],\n",
       "                         &#x27;min_samples_split&#x27;: [2, 3, 4],\n",
       "                         &#x27;n_estimators&#x27;: [100, 200, 300]},\n",
       "             scoring=&#x27;recall&#x27;, verbose=1)</pre><b>In a Jupyter environment, please rerun this cell to show the HTML representation or trust the notebook. <br />On GitHub, the HTML representation is unable to render, please try loading this page with nbviewer.org.</b></div><div class=\"sk-container\" hidden><div class=\"sk-item sk-dashed-wrapped\"><div class=\"sk-label-container\"><div class=\"sk-label sk-toggleable\"><input class=\"sk-toggleable__control sk-hidden--visually\" id=\"sk-estimator-id-47\" type=\"checkbox\" ><label for=\"sk-estimator-id-47\" class=\"sk-toggleable__label sk-toggleable__label-arrow\">GridSearchCV</label><div class=\"sk-toggleable__content\"><pre>GridSearchCV(estimator=RandomForestClassifier(),\n",
       "             param_grid={&#x27;max_depth&#x27;: [5, 10, 15, 20],\n",
       "                         &#x27;min_samples_split&#x27;: [2, 3, 4],\n",
       "                         &#x27;n_estimators&#x27;: [100, 200, 300]},\n",
       "             scoring=&#x27;recall&#x27;, verbose=1)</pre></div></div></div><div class=\"sk-parallel\"><div class=\"sk-parallel-item\"><div class=\"sk-item\"><div class=\"sk-label-container\"><div class=\"sk-label sk-toggleable\"><input class=\"sk-toggleable__control sk-hidden--visually\" id=\"sk-estimator-id-48\" type=\"checkbox\" ><label for=\"sk-estimator-id-48\" class=\"sk-toggleable__label sk-toggleable__label-arrow\">estimator: RandomForestClassifier</label><div class=\"sk-toggleable__content\"><pre>RandomForestClassifier()</pre></div></div></div><div class=\"sk-serial\"><div class=\"sk-item\"><div class=\"sk-estimator sk-toggleable\"><input class=\"sk-toggleable__control sk-hidden--visually\" id=\"sk-estimator-id-49\" type=\"checkbox\" ><label for=\"sk-estimator-id-49\" class=\"sk-toggleable__label sk-toggleable__label-arrow\">RandomForestClassifier</label><div class=\"sk-toggleable__content\"><pre>RandomForestClassifier()</pre></div></div></div></div></div></div></div></div></div></div>"
      ],
      "text/plain": [
       "GridSearchCV(estimator=RandomForestClassifier(),\n",
       "             param_grid={'max_depth': [5, 10, 15, 20],\n",
       "                         'min_samples_split': [2, 3, 4],\n",
       "                         'n_estimators': [100, 200, 300]},\n",
       "             scoring='recall', verbose=1)"
      ]
     },
     "execution_count": 247,
     "metadata": {},
     "output_type": "execute_result"
    }
   ],
   "source": [
    "gs3.fit(X_train, y_train)"
   ]
  },
  {
   "cell_type": "code",
   "execution_count": 248,
   "id": "5ea33d64",
   "metadata": {},
   "outputs": [
    {
     "data": {
      "text/plain": [
       "{'max_depth': 10, 'min_samples_split': 3, 'n_estimators': 200}"
      ]
     },
     "execution_count": 248,
     "metadata": {},
     "output_type": "execute_result"
    }
   ],
   "source": [
    "gs3.best_params_"
   ]
  },
  {
   "cell_type": "code",
   "execution_count": 249,
   "id": "75197035",
   "metadata": {},
   "outputs": [],
   "source": [
    "gs3_predictions = gs3.predict(X_vali)"
   ]
  },
  {
   "cell_type": "code",
   "execution_count": 250,
   "id": "6e47a820",
   "metadata": {},
   "outputs": [
    {
     "name": "stdout",
     "output_type": "stream",
     "text": [
      "              precision    recall  f1-score   support\n",
      "\n",
      "         0.0       0.96      0.98      0.97       116\n",
      "         1.0       0.96      0.90      0.93        50\n",
      "\n",
      "    accuracy                           0.96       166\n",
      "   macro avg       0.96      0.94      0.95       166\n",
      "weighted avg       0.96      0.96      0.96       166\n",
      "\n"
     ]
    }
   ],
   "source": [
    "print(classification_report(y_vali, gs3_predictions))"
   ]
  },
  {
   "cell_type": "code",
   "execution_count": 251,
   "id": "9b263631",
   "metadata": {},
   "outputs": [
    {
     "data": {
      "text/plain": [
       "0.9413793103448275"
      ]
     },
     "execution_count": 251,
     "metadata": {},
     "output_type": "execute_result"
    }
   ],
   "source": [
    "fpr, tpr, thresholds = metrics.roc_curve(y_vali, gs3_predictions)\n",
    "metrics.auc(fpr, tpr)"
   ]
  },
  {
   "cell_type": "markdown",
   "id": "7311e0af",
   "metadata": {},
   "source": [
    "Comparing to the random forest without parameters tuned, the new random forest with tuned parameters have approximately the same performance.\n",
    "\n",
    "经过调参的随即森林模型与使用默认参数的随即森林模型表现基本一致"
   ]
  },
  {
   "cell_type": "markdown",
   "id": "4922c289",
   "metadata": {},
   "source": [
    "# Adaptive Boosting Model / AdaBoost\n",
    "\n",
    "# 自适应增强模型"
   ]
  },
  {
   "cell_type": "code",
   "execution_count": 252,
   "id": "9048e2d4",
   "metadata": {},
   "outputs": [],
   "source": [
    "from sklearn.ensemble import AdaBoostClassifier\n",
    "from sklearn.datasets import make_classification"
   ]
  },
  {
   "cell_type": "code",
   "execution_count": 253,
   "id": "a50c2c44",
   "metadata": {},
   "outputs": [],
   "source": [
    "ada = AdaBoostClassifier(base_estimator = DecisionTreeClassifier(max_depth = 10), n_estimators=200, random_state=0, algorithm='SAMME')"
   ]
  },
  {
   "cell_type": "code",
   "execution_count": 254,
   "id": "791801bd",
   "metadata": {},
   "outputs": [
    {
     "data": {
      "text/html": [
       "<style>#sk-container-id-34 {color: black;background-color: white;}#sk-container-id-34 pre{padding: 0;}#sk-container-id-34 div.sk-toggleable {background-color: white;}#sk-container-id-34 label.sk-toggleable__label {cursor: pointer;display: block;width: 100%;margin-bottom: 0;padding: 0.3em;box-sizing: border-box;text-align: center;}#sk-container-id-34 label.sk-toggleable__label-arrow:before {content: \"▸\";float: left;margin-right: 0.25em;color: #696969;}#sk-container-id-34 label.sk-toggleable__label-arrow:hover:before {color: black;}#sk-container-id-34 div.sk-estimator:hover label.sk-toggleable__label-arrow:before {color: black;}#sk-container-id-34 div.sk-toggleable__content {max-height: 0;max-width: 0;overflow: hidden;text-align: left;background-color: #f0f8ff;}#sk-container-id-34 div.sk-toggleable__content pre {margin: 0.2em;color: black;border-radius: 0.25em;background-color: #f0f8ff;}#sk-container-id-34 input.sk-toggleable__control:checked~div.sk-toggleable__content {max-height: 200px;max-width: 100%;overflow: auto;}#sk-container-id-34 input.sk-toggleable__control:checked~label.sk-toggleable__label-arrow:before {content: \"▾\";}#sk-container-id-34 div.sk-estimator input.sk-toggleable__control:checked~label.sk-toggleable__label {background-color: #d4ebff;}#sk-container-id-34 div.sk-label input.sk-toggleable__control:checked~label.sk-toggleable__label {background-color: #d4ebff;}#sk-container-id-34 input.sk-hidden--visually {border: 0;clip: rect(1px 1px 1px 1px);clip: rect(1px, 1px, 1px, 1px);height: 1px;margin: -1px;overflow: hidden;padding: 0;position: absolute;width: 1px;}#sk-container-id-34 div.sk-estimator {font-family: monospace;background-color: #f0f8ff;border: 1px dotted black;border-radius: 0.25em;box-sizing: border-box;margin-bottom: 0.5em;}#sk-container-id-34 div.sk-estimator:hover {background-color: #d4ebff;}#sk-container-id-34 div.sk-parallel-item::after {content: \"\";width: 100%;border-bottom: 1px solid gray;flex-grow: 1;}#sk-container-id-34 div.sk-label:hover label.sk-toggleable__label {background-color: #d4ebff;}#sk-container-id-34 div.sk-serial::before {content: \"\";position: absolute;border-left: 1px solid gray;box-sizing: border-box;top: 0;bottom: 0;left: 50%;z-index: 0;}#sk-container-id-34 div.sk-serial {display: flex;flex-direction: column;align-items: center;background-color: white;padding-right: 0.2em;padding-left: 0.2em;position: relative;}#sk-container-id-34 div.sk-item {position: relative;z-index: 1;}#sk-container-id-34 div.sk-parallel {display: flex;align-items: stretch;justify-content: center;background-color: white;position: relative;}#sk-container-id-34 div.sk-item::before, #sk-container-id-34 div.sk-parallel-item::before {content: \"\";position: absolute;border-left: 1px solid gray;box-sizing: border-box;top: 0;bottom: 0;left: 50%;z-index: -1;}#sk-container-id-34 div.sk-parallel-item {display: flex;flex-direction: column;z-index: 1;position: relative;background-color: white;}#sk-container-id-34 div.sk-parallel-item:first-child::after {align-self: flex-end;width: 50%;}#sk-container-id-34 div.sk-parallel-item:last-child::after {align-self: flex-start;width: 50%;}#sk-container-id-34 div.sk-parallel-item:only-child::after {width: 0;}#sk-container-id-34 div.sk-dashed-wrapped {border: 1px dashed gray;margin: 0 0.4em 0.5em 0.4em;box-sizing: border-box;padding-bottom: 0.4em;background-color: white;}#sk-container-id-34 div.sk-label label {font-family: monospace;font-weight: bold;display: inline-block;line-height: 1.2em;}#sk-container-id-34 div.sk-label-container {text-align: center;}#sk-container-id-34 div.sk-container {/* jupyter's `normalize.less` sets `[hidden] { display: none; }` but bootstrap.min.css set `[hidden] { display: none !important; }` so we also need the `!important` here to be able to override the default hidden behavior on the sphinx rendered scikit-learn.org. See: https://github.com/scikit-learn/scikit-learn/issues/21755 */display: inline-block !important;position: relative;}#sk-container-id-34 div.sk-text-repr-fallback {display: none;}</style><div id=\"sk-container-id-34\" class=\"sk-top-container\"><div class=\"sk-text-repr-fallback\"><pre>AdaBoostClassifier(algorithm=&#x27;SAMME&#x27;,\n",
       "                   base_estimator=DecisionTreeClassifier(max_depth=10),\n",
       "                   n_estimators=200, random_state=0)</pre><b>In a Jupyter environment, please rerun this cell to show the HTML representation or trust the notebook. <br />On GitHub, the HTML representation is unable to render, please try loading this page with nbviewer.org.</b></div><div class=\"sk-container\" hidden><div class=\"sk-item sk-dashed-wrapped\"><div class=\"sk-label-container\"><div class=\"sk-label sk-toggleable\"><input class=\"sk-toggleable__control sk-hidden--visually\" id=\"sk-estimator-id-50\" type=\"checkbox\" ><label for=\"sk-estimator-id-50\" class=\"sk-toggleable__label sk-toggleable__label-arrow\">AdaBoostClassifier</label><div class=\"sk-toggleable__content\"><pre>AdaBoostClassifier(algorithm=&#x27;SAMME&#x27;,\n",
       "                   base_estimator=DecisionTreeClassifier(max_depth=10),\n",
       "                   n_estimators=200, random_state=0)</pre></div></div></div><div class=\"sk-parallel\"><div class=\"sk-parallel-item\"><div class=\"sk-item\"><div class=\"sk-label-container\"><div class=\"sk-label sk-toggleable\"><input class=\"sk-toggleable__control sk-hidden--visually\" id=\"sk-estimator-id-51\" type=\"checkbox\" ><label for=\"sk-estimator-id-51\" class=\"sk-toggleable__label sk-toggleable__label-arrow\">base_estimator: DecisionTreeClassifier</label><div class=\"sk-toggleable__content\"><pre>DecisionTreeClassifier(max_depth=10)</pre></div></div></div><div class=\"sk-serial\"><div class=\"sk-item\"><div class=\"sk-estimator sk-toggleable\"><input class=\"sk-toggleable__control sk-hidden--visually\" id=\"sk-estimator-id-52\" type=\"checkbox\" ><label for=\"sk-estimator-id-52\" class=\"sk-toggleable__label sk-toggleable__label-arrow\">DecisionTreeClassifier</label><div class=\"sk-toggleable__content\"><pre>DecisionTreeClassifier(max_depth=10)</pre></div></div></div></div></div></div></div></div></div></div>"
      ],
      "text/plain": [
       "AdaBoostClassifier(algorithm='SAMME',\n",
       "                   base_estimator=DecisionTreeClassifier(max_depth=10),\n",
       "                   n_estimators=200, random_state=0)"
      ]
     },
     "execution_count": 254,
     "metadata": {},
     "output_type": "execute_result"
    }
   ],
   "source": [
    "ada.fit(X_train, y_train)"
   ]
  },
  {
   "cell_type": "code",
   "execution_count": 255,
   "id": "791e1ebb",
   "metadata": {},
   "outputs": [],
   "source": [
    "pred5 = ada.predict(X_vali)"
   ]
  },
  {
   "cell_type": "code",
   "execution_count": 256,
   "id": "8155c3e1",
   "metadata": {},
   "outputs": [
    {
     "name": "stdout",
     "output_type": "stream",
     "text": [
      "              precision    recall  f1-score   support\n",
      "\n",
      "         0.0       0.94      0.99      0.97       116\n",
      "         1.0       0.98      0.86      0.91        50\n",
      "\n",
      "    accuracy                           0.95       166\n",
      "   macro avg       0.96      0.93      0.94       166\n",
      "weighted avg       0.95      0.95      0.95       166\n",
      "\n"
     ]
    }
   ],
   "source": [
    "# performace successfully improved!!\n",
    "print(classification_report(y_vali, pred5))"
   ]
  },
  {
   "cell_type": "code",
   "execution_count": 257,
   "id": "545410ec",
   "metadata": {},
   "outputs": [
    {
     "data": {
      "text/plain": [
       "0.9256896551724139"
      ]
     },
     "execution_count": 257,
     "metadata": {},
     "output_type": "execute_result"
    }
   ],
   "source": [
    "fpr, tpr, thresholds = metrics.roc_curve(y_vali, pred5)\n",
    "metrics.auc(fpr, tpr)"
   ]
  },
  {
   "cell_type": "markdown",
   "id": "83ec1262",
   "metadata": {},
   "source": [
    "# Conclusion on model performance\n",
    "\n",
    "# 模型性能评估"
   ]
  },
  {
   "cell_type": "markdown",
   "id": "431c9a40",
   "metadata": {},
   "source": [
    "Overall speaking, among all machine learning models we tried out, we found out that the random forest model with tuned parameter stands out to have best performance, no matter judging from the classification report or the AUC-ROC area. Therefore, we pick it as the best model, and use it to predict outcome for our testing data set. \n",
    "\n",
    "在评估过所有机器学习之后，不难发现，无论从概率曲线面积数值，还是从精确率，召回率评估，随机森林模型都是表现最突出的算法，因此，我们使用默认参数的随机森林模型作为最佳模型，并使用最初的测试集来测评其表现。"
   ]
  },
  {
   "cell_type": "markdown",
   "id": "3780721a",
   "metadata": {},
   "source": [
    "# Evaluating model performance on testing data\n",
    "\n",
    "# 最终测试"
   ]
  },
  {
   "cell_type": "code",
   "execution_count": 267,
   "id": "40972664",
   "metadata": {},
   "outputs": [],
   "source": [
    "rfc = RandomForestClassifier(n_estimators=100)\n",
    "rfc.fit(X_train, y_train)\n",
    "pred_test = rfc.predict(X_test)"
   ]
  },
  {
   "cell_type": "code",
   "execution_count": 268,
   "id": "79d599ff",
   "metadata": {},
   "outputs": [
    {
     "name": "stdout",
     "output_type": "stream",
     "text": [
      "              precision    recall  f1-score   support\n",
      "\n",
      "         0.0       0.98      0.97      0.97       204\n",
      "         1.0       0.91      0.94      0.93        80\n",
      "\n",
      "    accuracy                           0.96       284\n",
      "   macro avg       0.94      0.95      0.95       284\n",
      "weighted avg       0.96      0.96      0.96       284\n",
      "\n"
     ]
    }
   ],
   "source": [
    "print(classification_report(y_test, pred_test))"
   ]
  },
  {
   "cell_type": "code",
   "execution_count": 270,
   "id": "ab221a04",
   "metadata": {},
   "outputs": [
    {
     "data": {
      "text/plain": [
       "0.951593137254902"
      ]
     },
     "execution_count": 270,
     "metadata": {},
     "output_type": "execute_result"
    }
   ],
   "source": [
    "fpr, tpr, thresholds = metrics.roc_curve(y_test, pred_test)\n",
    "metrics.auc(fpr, tpr)"
   ]
  },
  {
   "cell_type": "code",
   "execution_count": 271,
   "id": "86b8eb60",
   "metadata": {},
   "outputs": [
    {
     "data": {
      "image/png": "[encoded data removed]",
      "text/plain": [
       "<Figure size 640x480 with 1 Axes>"
      ]
     },
     "metadata": {},
     "output_type": "display_data"
    }
   ],
   "source": [
    "plt.plot(fpr,tpr)\n",
    "plt.ylabel('True Positive Rate')\n",
    "plt.xlabel('False Positive Rate')\n",
    "plt.show()"
   ]
  },
  {
   "cell_type": "markdown",
   "id": "9521a813",
   "metadata": {},
   "source": [
    "The plot above is the AUC-ROC plot for predicting the test data\n",
    "\n",
    "上图为随机森林模型在预测测试集的样本时产出的概率曲线"
   ]
  },
  {
   "cell_type": "markdown",
   "id": "f8d9235d",
   "metadata": {},
   "source": [
    "# Remark\n",
    "\n",
    "# 总结"
   ]
  },
  {
   "cell_type": "markdown",
   "id": "8597d33f",
   "metadata": {},
   "source": [
    "Using the random forest model, the model's performance on testing data is surprisingly good:\n",
    "\n",
    "Among all patients not contracting diabetes, 98% of those are correctly identifited by our model\n",
    "\n",
    "Among all patients contracting diabetes, 91% of those are correctly idenfitied by our model\n",
    "\n",
    "97% of those who did not contract diabetes were correctly identified (Among all those who are identified as not contracing diabetes)\n",
    "\n",
    "94% of those who did contract diabetes were correctly identified (Among all those who are identified as contracing diabetes)\n",
    "\n",
    "The corresponding AUC-ROC area reached 0.951593137254902, exceeding 0.9, also this value is the peak value of AUC-ROC area among all models!\n",
    "\n",
    "A possible reason that the random forest model stands out to have the best performance is that, for the dataset provided, almost all predictors are categorical, which fits the nature of decision tree model as \"making choices between yes and no\".\n",
    "\n",
    "Therefore, this model is qualified to be dumped with pickle, and deployed on the Heroku Platform as an online web application."
   ]
  },
  {
   "cell_type": "markdown",
   "id": "a38aa519",
   "metadata": {},
   "source": [
    "随机森林模型针对测试集的预测表现无可挑剔\n",
    "\n",
    "98%的非糖尿病患者被正确地分类为非糖尿病患者\n",
    "\n",
    "91%的糖尿病患者被成功识别\n",
    "\n",
    "所有被模型分类为非糖尿病患者的病人中，997确实为非糖尿病患者\n",
    "\n",
    "所有被模型分类为糖尿病患者的病人中，94实为糖尿病患者\n",
    "\n",
    "同时，模型的概率曲线数值突破了0.95，达到了0.9516."
   ]
  },
  {
   "cell_type": "markdown",
   "id": "425cabe3",
   "metadata": {},
   "source": [
    "# The Web Application: Diabetes contracting risk predictor\n",
    "\n",
    "# Web应用程序 糖尿病确诊推断系统"
   ]
  },
  {
   "cell_type": "markdown",
   "id": "def7c7cb",
   "metadata": {},
   "source": [
    "Here is the link for the web application deployed on Heroku platform, all right reserved by Guangyan(Edward) Huang.\n",
    "\n",
    "该机器学习模型已经成功在Heroku平台上部署为开源web应用程序，以下为应用程序链接。"
   ]
  },
  {
   "cell_type": "markdown",
   "id": "9a9ed8ce",
   "metadata": {},
   "source": [
    "https://diabetes-predictor.herokuapp.com/"
   ]
  },
  {
   "cell_type": "markdown",
   "id": "e6eb46ea",
   "metadata": {},
   "source": [
    "# Thank you for finishing up this report!\n",
    "\n",
    "# 感谢观看！"
   ]
  }
 ],
 "metadata": {
  "kernelspec": {
   "display_name": "b_soup",
   "language": "python",
   "name": "b_soup"
  },
  "language_info": {
   "codemirror_mode": {
    "name": "ipython",
    "version": 3
   },
   "file_extension": ".py",
   "mimetype": "text/x-python",
   "name": "python",
   "nbconvert_exporter": "python",
   "pygments_lexer": "ipython3",
   "version": "3.10.8"
  }
 },
 "nbformat": 4,
 "nbformat_minor": 5
}
